{
 "cells": [
  {
   "cell_type": "markdown",
   "metadata": {},
   "source": [
    "### Read the feature engineered data"
   ]
  },
  {
   "cell_type": "code",
   "execution_count": 33,
   "metadata": {},
   "outputs": [
    {
     "data": {
      "text/html": [
       "<div>\n",
       "<style scoped>\n",
       "    .dataframe tbody tr th:only-of-type {\n",
       "        vertical-align: middle;\n",
       "    }\n",
       "\n",
       "    .dataframe tbody tr th {\n",
       "        vertical-align: top;\n",
       "    }\n",
       "\n",
       "    .dataframe thead th {\n",
       "        text-align: right;\n",
       "    }\n",
       "</style>\n",
       "<table border=\"1\" class=\"dataframe\">\n",
       "  <thead>\n",
       "    <tr style=\"text-align: right;\">\n",
       "      <th></th>\n",
       "      <th>Unnamed: 0</th>\n",
       "      <th>Launch_deadline_days</th>\n",
       "      <th>Cat_Name</th>\n",
       "      <th>country</th>\n",
       "      <th>staff_pick</th>\n",
       "      <th>state</th>\n",
       "      <th>backers_count</th>\n",
       "      <th>blurb</th>\n",
       "      <th>goal</th>\n",
       "      <th>launched_at</th>\n",
       "      <th>usd_pledged</th>\n",
       "      <th>deadline</th>\n",
       "      <th>name</th>\n",
       "    </tr>\n",
       "  </thead>\n",
       "  <tbody>\n",
       "    <tr>\n",
       "      <th>0</th>\n",
       "      <td>0</td>\n",
       "      <td>30</td>\n",
       "      <td>0</td>\n",
       "      <td>0</td>\n",
       "      <td>0</td>\n",
       "      <td>0</td>\n",
       "      <td>108</td>\n",
       "      <td>In the year 2025, a young man's superintellige...</td>\n",
       "      <td>4000.0</td>\n",
       "      <td>0</td>\n",
       "      <td>5265.820000</td>\n",
       "      <td>0</td>\n",
       "      <td>A Date in 2025 - A sci-fi comedy short film</td>\n",
       "    </tr>\n",
       "    <tr>\n",
       "      <th>1</th>\n",
       "      <td>1</td>\n",
       "      <td>44</td>\n",
       "      <td>1</td>\n",
       "      <td>0</td>\n",
       "      <td>1</td>\n",
       "      <td>0</td>\n",
       "      <td>37</td>\n",
       "      <td>Replacement Place needs your support to combat...</td>\n",
       "      <td>5000.0</td>\n",
       "      <td>1</td>\n",
       "      <td>5225.000000</td>\n",
       "      <td>1</td>\n",
       "      <td>Replacement Place | New York Live Arts</td>\n",
       "    </tr>\n",
       "    <tr>\n",
       "      <th>2</th>\n",
       "      <td>2</td>\n",
       "      <td>14</td>\n",
       "      <td>2</td>\n",
       "      <td>0</td>\n",
       "      <td>0</td>\n",
       "      <td>0</td>\n",
       "      <td>27</td>\n",
       "      <td>Pumpkin Spice Love - A Pumpkin Spice 4 Life 30...</td>\n",
       "      <td>250.0</td>\n",
       "      <td>0</td>\n",
       "      <td>362.000000</td>\n",
       "      <td>2</td>\n",
       "      <td>Pumpkin Spice Love!</td>\n",
       "    </tr>\n",
       "    <tr>\n",
       "      <th>3</th>\n",
       "      <td>3</td>\n",
       "      <td>30</td>\n",
       "      <td>3</td>\n",
       "      <td>0</td>\n",
       "      <td>0</td>\n",
       "      <td>0</td>\n",
       "      <td>184</td>\n",
       "      <td>Single mama and her 4-year old sail with all-f...</td>\n",
       "      <td>15000.0</td>\n",
       "      <td>2</td>\n",
       "      <td>15678.000000</td>\n",
       "      <td>3</td>\n",
       "      <td>Pirate Mama</td>\n",
       "    </tr>\n",
       "    <tr>\n",
       "      <th>4</th>\n",
       "      <td>4</td>\n",
       "      <td>30</td>\n",
       "      <td>4</td>\n",
       "      <td>1</td>\n",
       "      <td>0</td>\n",
       "      <td>0</td>\n",
       "      <td>169</td>\n",
       "      <td>SparKit wishes to produce kit-set Wimshurst Ma...</td>\n",
       "      <td>2500.0</td>\n",
       "      <td>3</td>\n",
       "      <td>7978.645365</td>\n",
       "      <td>4</td>\n",
       "      <td>SparKit - Miniature Electrostatic Generator</td>\n",
       "    </tr>\n",
       "  </tbody>\n",
       "</table>\n",
       "</div>"
      ],
      "text/plain": [
       "   Unnamed: 0  Launch_deadline_days  Cat_Name  country  staff_pick  state  \\\n",
       "0           0                    30         0        0           0      0   \n",
       "1           1                    44         1        0           1      0   \n",
       "2           2                    14         2        0           0      0   \n",
       "3           3                    30         3        0           0      0   \n",
       "4           4                    30         4        1           0      0   \n",
       "\n",
       "   backers_count                                              blurb     goal  \\\n",
       "0            108  In the year 2025, a young man's superintellige...   4000.0   \n",
       "1             37  Replacement Place needs your support to combat...   5000.0   \n",
       "2             27  Pumpkin Spice Love - A Pumpkin Spice 4 Life 30...    250.0   \n",
       "3            184  Single mama and her 4-year old sail with all-f...  15000.0   \n",
       "4            169  SparKit wishes to produce kit-set Wimshurst Ma...   2500.0   \n",
       "\n",
       "   launched_at   usd_pledged  deadline  \\\n",
       "0            0   5265.820000         0   \n",
       "1            1   5225.000000         1   \n",
       "2            0    362.000000         2   \n",
       "3            2  15678.000000         3   \n",
       "4            3   7978.645365         4   \n",
       "\n",
       "                                          name  \n",
       "0  A Date in 2025 - A sci-fi comedy short film  \n",
       "1       Replacement Place | New York Live Arts  \n",
       "2                          Pumpkin Spice Love!  \n",
       "3                                  Pirate Mama  \n",
       "4  SparKit - Miniature Electrostatic Generator  "
      ]
     },
     "execution_count": 33,
     "metadata": {},
     "output_type": "execute_result"
    }
   ],
   "source": [
    "import pandas as pd\n",
    "import os\n",
    "import random\n",
    "filename = r'df_kickstarterFE.csv'\n",
    "\n",
    "p = 1  # x% of the lines\n",
    "# keep the header, then take only x% of lines\n",
    "# if random from [0,1] interval is greater than p the row will be skipped\n",
    "df = pd.read_csv(filename, header=0,  skiprows=lambda i: i>0 and random.random() > p)\n",
    "len(df)\n",
    "#df=df[:1000]\n",
    "#len(df)\n",
    "df.head()"
   ]
  },
  {
   "cell_type": "markdown",
   "metadata": {},
   "source": []
  },
  {
   "cell_type": "code",
   "execution_count": 34,
   "metadata": {
    "collapsed": true
   },
   "outputs": [],
   "source": [
    "df1 = df.drop(['Unnamed: 0','blurb','name'],axis=1)"
   ]
  },
  {
   "cell_type": "code",
   "execution_count": 35,
   "metadata": {
    "collapsed": true
   },
   "outputs": [],
   "source": [
    "import numpy as np\n",
    "df['usd_pledged'] = np.log(1+df['usd_pledged'])\n",
    "df['goal'] = np.log(1+df['goal'])"
   ]
  },
  {
   "cell_type": "markdown",
   "metadata": {},
   "source": [
    "## Splitting data into train and test"
   ]
  },
  {
   "cell_type": "code",
   "execution_count": 36,
   "metadata": {
    "collapsed": true
   },
   "outputs": [],
   "source": [
    "from sklearn.model_selection import train_test_split\n",
    "train, test = train_test_split(df1, test_size = 0.3)\n",
    "X_train = train.drop(['state'],axis=1)\n",
    "y_train = train['state']\n",
    "X_test = test.drop(['state'],axis=1)\n",
    "y_test = test['state']"
   ]
  },
  {
   "cell_type": "markdown",
   "metadata": {},
   "source": [
    "## XgBoost Model"
   ]
  },
  {
   "cell_type": "code",
   "execution_count": 37,
   "metadata": {},
   "outputs": [],
   "source": [
    "#!pip install xgboost\n",
    "import xgboost as xgb\n",
    "from sklearn.model_selection import KFold, cross_val_score, train_test_split\n",
    "from sklearn.preprocessing import LabelEncoder\n",
    "import xgboost as xgb\n",
    "from sklearn.feature_selection import SelectFromModel # Dimensionality reduction\n",
    "from sklearn.model_selection import RandomizedSearchCV # Model evaluation\n",
    "from sklearn.metrics import mean_absolute_error, mean_squared_error\n",
    "from sklearn.ensemble import RandomForestRegressor"
   ]
  },
  {
   "cell_type": "code",
   "execution_count": 31,
   "metadata": {},
   "outputs": [
    {
     "name": "stderr",
     "output_type": "stream",
     "text": [
      "/Users/LovelyCheuk/anaconda/lib/python3.6/site-packages/xgboost/core.py:587: FutureWarning: Series.base is deprecated and will be removed in a future version\n",
      "  if getattr(data, 'base', None) is not None and \\\n",
      "/Users/LovelyCheuk/anaconda/lib/python3.6/site-packages/xgboost/core.py:588: FutureWarning: Series.base is deprecated and will be removed in a future version\n",
      "  data.base is not None and isinstance(data, np.ndarray) \\\n",
      "/Users/LovelyCheuk/anaconda/lib/python3.6/site-packages/sklearn/utils/__init__.py:54: FutureWarning: Conversion of the second argument of issubdtype from `int` to `np.signedinteger` is deprecated. In future, it will be treated as `np.int64 == np.dtype(int).type`.\n",
      "  if np.issubdtype(mask.dtype, np.int):\n"
     ]
    }
   ],
   "source": [
    "#select features using threshold\n",
    "thresh = 5 * 10**(-2)\n",
    "model = xgb.XGBRegressor()\n",
    "model.fit(X_train, y_train)\n",
    "selection = SelectFromModel(model, threshold=thresh, prefit=True)\n",
    "select_X_train = selection.transform(X_train)\n",
    "# test \n",
    "select_X_test = selection.transform(X_test)"
   ]
  },
  {
   "cell_type": "code",
   "execution_count": 38,
   "metadata": {},
   "outputs": [
    {
     "name": "stderr",
     "output_type": "stream",
     "text": [
      "/Users/LovelyCheuk/anaconda/lib/python3.6/site-packages/xgboost/core.py:587: FutureWarning: Series.base is deprecated and will be removed in a future version\n",
      "  if getattr(data, 'base', None) is not None and \\\n",
      "/Users/LovelyCheuk/anaconda/lib/python3.6/site-packages/xgboost/core.py:588: FutureWarning: Series.base is deprecated and will be removed in a future version\n",
      "  data.base is not None and isinstance(data, np.ndarray) \\\n"
     ]
    },
    {
     "name": "stdout",
     "output_type": "stream",
     "text": [
      "The mean absolute error using the original training data set is 0.0009493755172671572\n",
      "The mean squared error using the original training data set is 0.0002698142608882834\n"
     ]
    }
   ],
   "source": [
    "### XGBoost \n",
    "\n",
    "### prepare xgboost parameters\n",
    "xgb_params = {\n",
    "    'objective': 'binary:logistic' \n",
    "}\n",
    "\n",
    "dtrain = xgb.DMatrix(X_train, y_train)\n",
    "\n",
    "dtest = xgb.DMatrix(X_test)\n",
    "\n",
    "num_boost_rounds = 200\n",
    "model = xgb.train(dict(xgb_params, silent=1), dtrain, num_boost_round=num_boost_rounds)\n",
    "\n",
    "xgb_pred1 = model.predict(dtest)\n",
    "\n",
    "\n",
    "print(f'The mean absolute error using the original training data set is {mean_absolute_error(xgb_pred1, y_test)}')\n",
    "print(f'The mean squared error using the original training data set is {mean_squared_error(xgb_pred1, y_test)}')"
   ]
  },
  {
   "cell_type": "code",
   "execution_count": 39,
   "metadata": {},
   "outputs": [
    {
     "data": {
      "text/plain": [
       "array([1.0000000e+00, 3.6265013e-05, 1.0302124e-04, ..., 1.1020605e-04,\n",
       "       5.4865936e-04, 1.0000000e+00], dtype=float32)"
      ]
     },
     "execution_count": 39,
     "metadata": {},
     "output_type": "execute_result"
    }
   ],
   "source": [
    "xgb_pred1"
   ]
  },
  {
   "cell_type": "code",
   "execution_count": 40,
   "metadata": {},
   "outputs": [
    {
     "data": {
      "text/plain": [
       "234973    1\n",
       "456386    0\n",
       "410755    0\n",
       "273726    0\n",
       "259832    0\n",
       "Name: state, dtype: int64"
      ]
     },
     "execution_count": 40,
     "metadata": {},
     "output_type": "execute_result"
    }
   ],
   "source": [
    "y_test.head()"
   ]
  },
  {
   "cell_type": "code",
   "execution_count": 44,
   "metadata": {
    "collapsed": true
   },
   "outputs": [],
   "source": [
    "def get_classification(predictions,threshold):\n",
    "    classes = np.zeros_like(xgb_pred1)\n",
    "    for i in range(len(classes)):\n",
    "        if predictions[i] > threshold:\n",
    "            classes[i] = 1\n",
    "    return classes"
   ]
  },
  {
   "cell_type": "code",
   "execution_count": 47,
   "metadata": {},
   "outputs": [
    {
     "data": {
      "text/plain": [
       "0.0"
      ]
     },
     "execution_count": 47,
     "metadata": {},
     "output_type": "execute_result"
    }
   ],
   "source": [
    "import numpy as np\n",
    "from sklearn.metrics import confusion_matrix\n",
    "confusion_matrix(y_test,get_classification(xgb_pred1 ,0.5))\n",
    "tn, fp, fn, tp = confusion_matrix(y_test,get_classification(xgb_pred1,0.5)).ravel()\n",
    "tpr = tp/(tp+fn)\n",
    "fpr = fp/(fp+tn)\n"
   ]
  },
  {
   "cell_type": "code",
   "execution_count": null,
   "metadata": {
    "collapsed": true
   },
   "outputs": [],
   "source": []
  }
 ],
 "metadata": {
  "kernelspec": {
   "display_name": "Python 3",
   "language": "python",
   "name": "python3"
  },
  "language_info": {
   "codemirror_mode": {
    "name": "ipython",
    "version": 3
   },
   "file_extension": ".py",
   "mimetype": "text/x-python",
   "name": "python",
   "nbconvert_exporter": "python",
   "pygments_lexer": "ipython3",
   "version": "3.6.1"
  }
 },
 "nbformat": 4,
 "nbformat_minor": 2
}
