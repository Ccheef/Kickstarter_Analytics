{
 "cells": [
  {
   "cell_type": "code",
   "execution_count": 1,
   "metadata": {},
   "outputs": [
    {
     "data": {
      "text/plain": [
       "100"
      ]
     },
     "execution_count": 1,
     "metadata": {},
     "output_type": "execute_result"
    }
   ],
   "source": [
    "import pandas as pd\n",
    "import os\n",
    "import random\n",
    "filename = 'C:/Users/endwy/Documents/Columbia MSBA/Spring 2019/E4650 - Business Analytics/Project - Kickstarter Analysis/raw_data/df_kickstarterFE.csv'\n",
    "df = pd.read_csv(filename, header=0)\n",
    "df.drop(columns=('Unnamed: 0'),inplace=True)\n",
    "df.dropna(axis=0,how='any',inplace=True)\n",
    "df=df[:100]\n",
    "len(df)"
   ]
  },
  {
   "cell_type": "code",
   "execution_count": 2,
   "metadata": {},
   "outputs": [
    {
     "data": {
      "text/html": [
       "<div>\n",
       "<style scoped>\n",
       "    .dataframe tbody tr th:only-of-type {\n",
       "        vertical-align: middle;\n",
       "    }\n",
       "\n",
       "    .dataframe tbody tr th {\n",
       "        vertical-align: top;\n",
       "    }\n",
       "\n",
       "    .dataframe thead th {\n",
       "        text-align: right;\n",
       "    }\n",
       "</style>\n",
       "<table border=\"1\" class=\"dataframe\">\n",
       "  <thead>\n",
       "    <tr style=\"text-align: right;\">\n",
       "      <th></th>\n",
       "      <th>Launch_deadline_days</th>\n",
       "      <th>Cat_Name</th>\n",
       "      <th>country</th>\n",
       "      <th>staff_pick</th>\n",
       "      <th>state</th>\n",
       "      <th>backers_count</th>\n",
       "      <th>blurb</th>\n",
       "      <th>goal</th>\n",
       "      <th>launched_at</th>\n",
       "      <th>usd_pledged</th>\n",
       "      <th>deadline</th>\n",
       "      <th>name</th>\n",
       "    </tr>\n",
       "  </thead>\n",
       "  <tbody>\n",
       "    <tr>\n",
       "      <th>0</th>\n",
       "      <td>30</td>\n",
       "      <td>0</td>\n",
       "      <td>0</td>\n",
       "      <td>0</td>\n",
       "      <td>0</td>\n",
       "      <td>108</td>\n",
       "      <td>In the year 2025, a young man's superintellige...</td>\n",
       "      <td>4000.0</td>\n",
       "      <td>0</td>\n",
       "      <td>5265.82</td>\n",
       "      <td>0</td>\n",
       "      <td>A Date in 2025 - A sci-fi comedy short film</td>\n",
       "    </tr>\n",
       "    <tr>\n",
       "      <th>1</th>\n",
       "      <td>44</td>\n",
       "      <td>1</td>\n",
       "      <td>0</td>\n",
       "      <td>1</td>\n",
       "      <td>0</td>\n",
       "      <td>37</td>\n",
       "      <td>Replacement Place needs your support to combat...</td>\n",
       "      <td>5000.0</td>\n",
       "      <td>1</td>\n",
       "      <td>5225.00</td>\n",
       "      <td>1</td>\n",
       "      <td>Replacement Place | New York Live Arts</td>\n",
       "    </tr>\n",
       "    <tr>\n",
       "      <th>2</th>\n",
       "      <td>14</td>\n",
       "      <td>2</td>\n",
       "      <td>0</td>\n",
       "      <td>0</td>\n",
       "      <td>0</td>\n",
       "      <td>27</td>\n",
       "      <td>Pumpkin Spice Love - A Pumpkin Spice 4 Life 30...</td>\n",
       "      <td>250.0</td>\n",
       "      <td>0</td>\n",
       "      <td>362.00</td>\n",
       "      <td>2</td>\n",
       "      <td>Pumpkin Spice Love!</td>\n",
       "    </tr>\n",
       "  </tbody>\n",
       "</table>\n",
       "</div>"
      ],
      "text/plain": [
       "   Launch_deadline_days  Cat_Name  country  staff_pick  state  backers_count  \\\n",
       "0                    30         0        0           0      0            108   \n",
       "1                    44         1        0           1      0             37   \n",
       "2                    14         2        0           0      0             27   \n",
       "\n",
       "                                               blurb    goal  launched_at  \\\n",
       "0  In the year 2025, a young man's superintellige...  4000.0            0   \n",
       "1  Replacement Place needs your support to combat...  5000.0            1   \n",
       "2  Pumpkin Spice Love - A Pumpkin Spice 4 Life 30...   250.0            0   \n",
       "\n",
       "   usd_pledged  deadline                                         name  \n",
       "0      5265.82         0  A Date in 2025 - A sci-fi comedy short film  \n",
       "1      5225.00         1       Replacement Place | New York Live Arts  \n",
       "2       362.00         2                          Pumpkin Spice Love!  "
      ]
     },
     "execution_count": 2,
     "metadata": {},
     "output_type": "execute_result"
    }
   ],
   "source": [
    "df.head(3)"
   ]
  },
  {
   "cell_type": "code",
   "execution_count": 16,
   "metadata": {},
   "outputs": [
    {
     "data": {
      "text/plain": [
       "[0, 1]"
      ]
     },
     "execution_count": 16,
     "metadata": {},
     "output_type": "execute_result"
    }
   ],
   "source": [
    "df['state'].unique().tolist()"
   ]
  },
  {
   "cell_type": "markdown",
   "metadata": {},
   "source": [
    "### top and bottom countries by pledged"
   ]
  },
  {
   "cell_type": "code",
   "execution_count": 15,
   "metadata": {},
   "outputs": [
    {
     "data": {
      "text/html": [
       "<div>\n",
       "<style scoped>\n",
       "    .dataframe tbody tr th:only-of-type {\n",
       "        vertical-align: middle;\n",
       "    }\n",
       "\n",
       "    .dataframe tbody tr th {\n",
       "        vertical-align: top;\n",
       "    }\n",
       "\n",
       "    .dataframe thead th {\n",
       "        text-align: right;\n",
       "    }\n",
       "</style>\n",
       "<table border=\"1\" class=\"dataframe\">\n",
       "  <thead>\n",
       "    <tr style=\"text-align: right;\">\n",
       "      <th></th>\n",
       "      <th>country</th>\n",
       "      <th>usd_pledged</th>\n",
       "    </tr>\n",
       "  </thead>\n",
       "  <tbody>\n",
       "    <tr>\n",
       "      <th>8</th>\n",
       "      <td>8</td>\n",
       "      <td>23804.303240</td>\n",
       "    </tr>\n",
       "    <tr>\n",
       "      <th>6</th>\n",
       "      <td>6</td>\n",
       "      <td>14257.561725</td>\n",
       "    </tr>\n",
       "    <tr>\n",
       "      <th>5</th>\n",
       "      <td>5</td>\n",
       "      <td>12777.731483</td>\n",
       "    </tr>\n",
       "    <tr>\n",
       "      <th>0</th>\n",
       "      <td>0</td>\n",
       "      <td>8879.602838</td>\n",
       "    </tr>\n",
       "    <tr>\n",
       "      <th>1</th>\n",
       "      <td>1</td>\n",
       "      <td>7978.645365</td>\n",
       "    </tr>\n",
       "    <tr>\n",
       "      <th>3</th>\n",
       "      <td>3</td>\n",
       "      <td>3145.128954</td>\n",
       "    </tr>\n",
       "    <tr>\n",
       "      <th>2</th>\n",
       "      <td>2</td>\n",
       "      <td>221.202573</td>\n",
       "    </tr>\n",
       "    <tr>\n",
       "      <th>4</th>\n",
       "      <td>4</td>\n",
       "      <td>47.891060</td>\n",
       "    </tr>\n",
       "    <tr>\n",
       "      <th>7</th>\n",
       "      <td>7</td>\n",
       "      <td>1.178953</td>\n",
       "    </tr>\n",
       "    <tr>\n",
       "      <th>9</th>\n",
       "      <td>9</td>\n",
       "      <td>0.000000</td>\n",
       "    </tr>\n",
       "  </tbody>\n",
       "</table>\n",
       "</div>"
      ],
      "text/plain": [
       "   country   usd_pledged\n",
       "8        8  23804.303240\n",
       "6        6  14257.561725\n",
       "5        5  12777.731483\n",
       "0        0   8879.602838\n",
       "1        1   7978.645365\n",
       "3        3   3145.128954\n",
       "2        2    221.202573\n",
       "4        4     47.891060\n",
       "7        7      1.178953\n",
       "9        9      0.000000"
      ]
     },
     "execution_count": 15,
     "metadata": {},
     "output_type": "execute_result"
    }
   ],
   "source": [
    "import pandas as pd\n",
    "    \n",
    "def top_and_bottom(df):\n",
    "    bottom = df.groupby('country', as_index=False)['usd_pledged'].mean().nsmallest(15,'usd_pledged')\n",
    "    top = df.groupby('country', as_index=False)['usd_pledged'].mean().nlargest(15,'usd_pledged')\n",
    "    return top,bottom\n",
    "\n",
    "top_publisher,bottom_publisher=top_and_bottom(df)\n",
    "top_publisher\n",
    "#bottom_publisher"
   ]
  },
  {
   "cell_type": "markdown",
   "metadata": {},
   "source": [
    "### pledge per category"
   ]
  },
  {
   "cell_type": "code",
   "execution_count": 17,
   "metadata": {},
   "outputs": [
    {
     "data": {
      "image/png": "[encoded data removed]",
      "text/plain": [
       "<Figure size 432x288 with 1 Axes>"
      ]
     },
     "metadata": {
      "needs_background": "light"
     },
     "output_type": "display_data"
    }
   ],
   "source": [
    "def pledged_per_category(df):\n",
    "    from collections import Counter\n",
    "    counts = dict(Counter(df['Cat_Name']).most_common(15))\n",
    "    pubs = list(counts.keys())\n",
    "    nums = list(counts.values())\n",
    "\n",
    "    import matplotlib.pyplot as plt \n",
    "    %matplotlib inline\n",
    "    import numpy as np\n",
    "    y_pos = np.arange(len(pubs))\n",
    "    plt.barh(y_pos,nums)\n",
    "    plt.title('USD Pledged per Category (Top 15)')\n",
    "    plt.yticks(y_pos,pubs)\n",
    "\n",
    "    return plt.show()\n",
    "\n",
    "pledged_per_category(df)"
   ]
  }
 ],
 "metadata": {
  "kernelspec": {
   "display_name": "Python 3",
   "language": "python",
   "name": "python3"
  },
  "language_info": {
   "codemirror_mode": {
    "name": "ipython",
    "version": 3
   },
   "file_extension": ".py",
   "mimetype": "text/x-python",
   "name": "python",
   "nbconvert_exporter": "python",
   "pygments_lexer": "ipython3",
   "version": "3.7.0"
  }
 },
 "nbformat": 4,
 "nbformat_minor": 2
}
