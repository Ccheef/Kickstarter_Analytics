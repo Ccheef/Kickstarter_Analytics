{
 "cells": [
  {
   "cell_type": "code",
   "execution_count": 1,
   "metadata": {},
   "outputs": [],
   "source": [
    "import pandas as pd\n",
    "import os\n",
    "import random\n",
    "filename = 'C:/Users/endwy/Documents/Columbia MSBA/Spring 2019/E4650 - Business Analytics/Project - Kickstarter Analysis/raw_data/df_kickstarterFE.csv'\n",
    "df = pd.read_csv(filename, header=0)\n",
    "df.drop(columns=('Unnamed: 0'),inplace=True)\n",
    "df.dropna(axis=0,how='any',inplace=True)\n",
    "df = df.drop_duplicates()\n",
    "df=df[:100]"
   ]
  },
  {
   "cell_type": "markdown",
   "metadata": {},
   "source": [
    "### top and bottom countries by pledged"
   ]
  },
  {
   "cell_type": "code",
   "execution_count": null,
   "metadata": {},
   "outputs": [],
   "source": [
    "import pandas as pd\n",
    "    \n",
    "def top_and_bottom(df):\n",
    "    bottom = df.groupby('country', as_index=False)['usd_pledged'].mean().nsmallest(15,'usd_pledged')\n",
    "    top = df.groupby('country', as_index=False)['usd_pledged'].mean().nlargest(15,'usd_pledged')\n",
    "    return top,bottom\n",
    "\n",
    "top_publisher,bottom_publisher=top_and_bottom(df)\n",
    "top_publisher\n",
    "#bottom_publisher"
   ]
  },
  {
   "cell_type": "markdown",
   "metadata": {},
   "source": [
    "### pledge per category"
   ]
  },
  {
   "cell_type": "code",
   "execution_count": null,
   "metadata": {},
   "outputs": [],
   "source": [
    "def pledged_per_category(df):\n",
    "    from collections import Counter\n",
    "    counts = dict(Counter(df['Cat_Name']).most_common(15))\n",
    "    pubs = list(counts.keys())\n",
    "    nums = list(counts.values())\n",
    "\n",
    "    import matplotlib.pyplot as plt \n",
    "    %matplotlib inline\n",
    "    import numpy as np\n",
    "    y_pos = np.arange(len(pubs))\n",
    "    plt.barh(y_pos,nums)\n",
    "    plt.title('USD Pledged per Category (Top 15)')\n",
    "    plt.yticks(y_pos,pubs)\n",
    "\n",
    "    return plt.show()\n",
    "\n",
    "pledged_per_category(df)"
   ]
  },
  {
   "cell_type": "code",
   "execution_count": 2,
   "metadata": {},
   "outputs": [
    {
     "data": {
      "text/html": [
       "        <script type=\"text/javascript\">\n",
       "        window.PlotlyConfig = {MathJaxConfig: 'local'};\n",
       "        if (window.MathJax) {MathJax.Hub.Config({SVG: {font: \"STIX-Web\"}});}\n",
       "        if (typeof require !== 'undefined') {\n",
       "        require.undef(\"plotly\");\n",
       "        requirejs.config({\n",
       "            paths: {\n",
       "                'plotly': ['https://cdn.plot.ly/plotly-latest.min']\n",
       "            }\n",
       "        });\n",
       "        require(['plotly'], function(Plotly) {\n",
       "            window._Plotly = Plotly;\n",
       "        });\n",
       "        }\n",
       "        </script>\n",
       "        "
      ]
     },
     "metadata": {},
     "output_type": "display_data"
    }
   ],
   "source": [
    "import pandas as pd\n",
    "import numpy as np\n",
    "import os\n",
    "import time\n",
    "import datetime\n",
    "import re\n",
    "\n",
    "import plotly.graph_objs as go\n",
    "from plotly.offline import download_plotlyjs, init_notebook_mode, plot, iplot\n",
    "from plotly import tools\n",
    "init_notebook_mode(connected=True)\n",
    "\n",
    "import matplotlib.pyplot as plt\n",
    "%matplotlib inline"
   ]
  },
  {
   "cell_type": "code",
   "execution_count": 3,
   "metadata": {},
   "outputs": [],
   "source": [
    "df2 = df[['country','usd_pledged']]\n",
    "df2_T = df2.transpose()\n",
    "float_colmuns = df2_T.columns[df2_T.dtypes == \"float64\"]"
   ]
  },
  {
   "cell_type": "code",
   "execution_count": 4,
   "metadata": {},
   "outputs": [
    {
     "data": {
      "application/vnd.plotly.v1+json": {
       "config": {
        "linkText": "Export to plot.ly",
        "plotlyServerURL": "https://plot.ly",
        "responsive": true,
        "showLink": false
       },
       "data": [
        {
         "name": "0",
         "type": "box",
         "uid": "3a359670-e300-43d9-a7d3-57cc57cafa9e",
         "x": [
          5265.82
         ]
        },
        {
         "name": "1",
         "type": "box",
         "uid": "bdd748b9-3869-45a5-9004-5e59ee5c16e2",
         "x": [
          5225
         ]
        },
        {
         "name": "2",
         "type": "box",
         "uid": "d46c8e87-dc0b-41ec-b511-5568b0259a86",
         "x": [
          362
         ]
        },
        {
         "name": "3",
         "type": "box",
         "uid": "bdad3a65-1f24-4b00-822e-a7c3577943d0",
         "x": [
          15678
         ]
        },
        {
         "name": "4",
         "type": "box",
         "uid": "5a976a5e-94d0-4926-8c4b-db62a4f879ac",
         "x": [
          1,
          7978.64536476
         ]
        },
        {
         "name": "5",
         "type": "box",
         "uid": "2e89d21d-8e73-42d1-913f-6facc758ccd4",
         "x": [
          2,
          0.91597907
         ]
        },
        {
         "name": "6",
         "type": "box",
         "uid": "4a302f90-bd6d-4775-b3c9-d218e2eea33b",
         "x": [
          12
         ]
        },
        {
         "name": "7",
         "type": "box",
         "uid": "5e82f477-452e-4c33-8964-9daf46514100",
         "x": [
          3,
          750.28869449
         ]
        },
        {
         "name": "8",
         "type": "box",
         "uid": "6c173d88-fce9-4c14-a3db-dd27360790c3",
         "x": [
          8160
         ]
        },
        {
         "name": "9",
         "type": "box",
         "uid": "19de5b48-de15-40a2-bd4a-16ccb14b2bb3",
         "x": [
          100
         ]
        },
        {
         "name": "10",
         "type": "box",
         "uid": "8c098442-efd2-4fc0-9939-f7f4b7908d83",
         "x": [
          3210
         ]
        },
        {
         "name": "11",
         "type": "box",
         "uid": "737f9690-05b3-4bcc-b96a-e7b499da25f6",
         "x": [
          3,
          6777.46741216
         ]
        },
        {
         "name": "12",
         "type": "box",
         "uid": "4b0c4866-791a-4594-8841-90a492f31b80",
         "x": [
          12060
         ]
        },
        {
         "name": "13",
         "type": "box",
         "uid": "7bd80e8d-82eb-4b0d-8631-0cd1e4a4512e",
         "x": [
          3735
         ]
        },
        {
         "name": "14",
         "type": "box",
         "uid": "da3b6cac-15fc-4145-884b-0d247e8c08bc",
         "x": [
          18703.75
         ]
        },
        {
         "name": "15",
         "type": "box",
         "uid": "0c127a12-36fb-47c9-9602-9babd6798282",
         "x": [
          3039
         ]
        },
        {
         "name": "16",
         "type": "box",
         "uid": "6a9dadae-7cbc-4ead-942b-b914ddae2ad4",
         "x": [
          3,
          2263.80136428
         ]
        },
        {
         "name": "17",
         "type": "box",
         "uid": "12a58a8e-ee58-43e5-92b5-97e457f10b96",
         "x": [
          31809
         ]
        },
        {
         "name": "18",
         "type": "box",
         "uid": "c338d66e-8b13-4c16-ad3e-ac0c5d3111a1",
         "x": [
          2,
          815.97336072
         ]
        },
        {
         "name": "19",
         "type": "box",
         "uid": "a679ab13-7b94-4544-a4c1-fad470b5a6c2",
         "x": [
          3145
         ]
        },
        {
         "name": "20",
         "type": "box",
         "uid": "82c8e39d-ca7e-4818-ae3b-4a2dfdf8600b",
         "x": [
          3695
         ]
        },
        {
         "name": "21",
         "type": "box",
         "uid": "e3d8ad6e-c9a3-46a6-9bc0-d54b3e768fd2",
         "x": []
        },
        {
         "name": "22",
         "type": "box",
         "uid": "20151dd2-d69b-4260-8762-31e26185ab5f",
         "x": [
          3247
         ]
        },
        {
         "name": "23",
         "type": "box",
         "uid": "8f4be55a-d110-4ca7-8128-242dda1e6995",
         "x": [
          525
         ]
        },
        {
         "name": "24",
         "type": "box",
         "uid": "75a198e2-f325-426e-b65c-cc776aa67bac",
         "x": [
          304931.29
         ]
        },
        {
         "name": "25",
         "type": "box",
         "uid": "9843dd69-dbd8-4a5f-8998-77d2847833e0",
         "x": [
          395
         ]
        },
        {
         "name": "26",
         "type": "box",
         "uid": "5608de3e-040c-42be-996f-3580ffc8b62b",
         "x": [
          40
         ]
        },
        {
         "name": "27",
         "type": "box",
         "uid": "d2805c6c-fb0f-47c8-9e99-d994e783c4f5",
         "x": [
          3298
         ]
        },
        {
         "name": "28",
         "type": "box",
         "uid": "00149626-97ba-4e07-b32f-680a1f5a224b",
         "x": []
        },
        {
         "name": "29",
         "type": "box",
         "uid": "dce8421d-9c59-474a-8373-653917c71d14",
         "x": []
        },
        {
         "name": "30",
         "type": "box",
         "uid": "017a3392-f45e-4021-83bc-f2c0246c2e27",
         "x": [
          1425
         ]
        },
        {
         "name": "31",
         "type": "box",
         "uid": "ce204ef0-500c-4b07-8351-5584518c4536",
         "x": [
          5002
         ]
        },
        {
         "name": "32",
         "type": "box",
         "uid": "fbccda3c-f227-4c63-bddf-52c1f3e08ecb",
         "x": [
          2
         ]
        },
        {
         "name": "33",
         "type": "box",
         "uid": "c8a601ed-49ec-4471-b7af-f43d61bfbfbe",
         "x": [
          925
         ]
        },
        {
         "name": "34",
         "type": "box",
         "uid": "d0c04cb9-e66c-475f-bc1c-adabe1e791ad",
         "x": [
          1069
         ]
        },
        {
         "name": "35",
         "type": "box",
         "uid": "51add2f8-5a86-426c-a570-4356668d128d",
         "x": [
          77240
         ]
        },
        {
         "name": "36",
         "type": "box",
         "uid": "d30c5a0a-3340-4a8a-8115-58607cafeb01",
         "x": [
          3,
          3714.762315
         ]
        },
        {
         "name": "37",
         "type": "box",
         "uid": "0cf582c3-6734-4b0a-8adf-b44703fa9513",
         "x": [
          2,
          0.75922304
         ]
        },
        {
         "name": "38",
         "type": "box",
         "uid": "6044f435-fc6c-42ad-a33f-96289e39ccfa",
         "x": [
          1
         ]
        },
        {
         "name": "39",
         "type": "box",
         "uid": "3c6120c1-4135-488f-b7cb-d4110eed8c29",
         "x": [
          17800
         ]
        },
        {
         "name": "40",
         "type": "box",
         "uid": "265a3108-f02a-49cf-8fbb-3bebbc0ba60a",
         "x": [
          384
         ]
        },
        {
         "name": "41",
         "type": "box",
         "uid": "e2eea6cb-c8cf-456b-aab4-688807ddbb35",
         "x": [
          10086
         ]
        },
        {
         "name": "42",
         "type": "box",
         "uid": "a7ef4e0f-b7c3-451b-95c6-0ef922d19275",
         "x": [
          140
         ]
        },
        {
         "name": "43",
         "type": "box",
         "uid": "3deda021-e531-4508-b828-eb1f959b8a91",
         "x": [
          526
         ]
        },
        {
         "name": "44",
         "type": "box",
         "uid": "233867ae-01c6-4e1a-bfc4-c251952f4075",
         "x": [
          37
         ]
        },
        {
         "name": "45",
         "type": "box",
         "uid": "0b148b55-1faf-4b51-9987-7fa1c82ac737",
         "x": [
          128
         ]
        },
        {
         "name": "46",
         "type": "box",
         "uid": "c7e4c26f-2335-4103-a5f6-a6f61884f84c",
         "x": [
          13362.5
         ]
        },
        {
         "name": "47",
         "type": "box",
         "uid": "f14b91db-f0d0-4993-a00c-15079867b7d0",
         "x": [
          4,
          47.891059999999996
         ]
        },
        {
         "name": "48",
         "type": "box",
         "uid": "5322368d-871b-4bb6-9bf7-1ec89f4fab1e",
         "x": [
          3,
          1795.85439384
         ]
        },
        {
         "name": "49",
         "type": "box",
         "uid": "1101ddb3-b45f-40a0-9ec8-5d70b0ae6161",
         "x": [
          5,
          4358.7751036271
         ]
        },
        {
         "name": "50",
         "type": "box",
         "uid": "72dd057a-fe02-41b2-816e-8a38ec2968b4",
         "x": [
          343
         ]
        },
        {
         "name": "51",
         "type": "box",
         "uid": "6444e12d-6024-4e67-860b-800d141f317e",
         "x": [
          4281
         ]
        },
        {
         "name": "52",
         "type": "box",
         "uid": "b1099146-7092-4eb8-8465-9e9b1dfc1531",
         "x": [
          7805
         ]
        },
        {
         "name": "53",
         "type": "box",
         "uid": "553805af-c57b-44e7-8f3b-0b4ef7b295c9",
         "x": [
          15051
         ]
        },
        {
         "name": "54",
         "type": "box",
         "uid": "400f9fea-c1c7-404f-9117-e0fac4a811d5",
         "x": [
          3,
          3286.57365456
         ]
        },
        {
         "name": "55",
         "type": "box",
         "uid": "d40939e9-09a7-430b-9a8c-efdac6804b1e",
         "x": [
          5,
          21196.68786237
         ]
        },
        {
         "name": "56",
         "type": "box",
         "uid": "a72475f9-b108-49bb-a8b9-11464f7992fd",
         "x": [
          2216
         ]
        },
        {
         "name": "57",
         "type": "box",
         "uid": "9d9593b8-0a57-417e-9f40-fa8422abbe30",
         "x": [
          3,
          55.68469095
         ]
        },
        {
         "name": "58",
         "type": "box",
         "uid": "2b4ee766-0685-4105-b654-fd237ecd4139",
         "x": [
          3,
          6909.15117354
         ]
        },
        {
         "name": "59",
         "type": "box",
         "uid": "1bf128b6-b0c1-43b6-b7a9-8fef0ecade97",
         "x": [
          8742
         ]
        },
        {
         "name": "60",
         "type": "box",
         "uid": "cfa1df24-1369-41e6-9a24-2f39b5312544",
         "x": [
          993
         ]
        },
        {
         "name": "61",
         "type": "box",
         "uid": "60fd8e27-22dc-406c-9ba8-4ed8a577e649",
         "x": [
          8328
         ]
        },
        {
         "name": "62",
         "type": "box",
         "uid": "d3d93b11-ad78-49ac-9ad6-5a5f19301ddb",
         "x": []
        },
        {
         "name": "63",
         "type": "box",
         "uid": "9223271a-4846-4379-a49a-9c4e9405ad3a",
         "x": [
          20
         ]
        },
        {
         "name": "64",
         "type": "box",
         "uid": "d30e7763-7cae-4c3e-80b8-b4125642c897",
         "x": [
          510
         ]
        },
        {
         "name": "65",
         "type": "box",
         "uid": "99210062-aac9-4458-8be7-7dca6eeea89e",
         "x": [
          296
         ]
        },
        {
         "name": "66",
         "type": "box",
         "uid": "37c5bdf2-a8f2-4abb-9ce5-cdae45e58c9c",
         "x": [
          10350
         ]
        },
        {
         "name": "67",
         "type": "box",
         "uid": "88634a47-8975-4ed3-930a-b45c06d63a6e",
         "x": [
          2580
         ]
        },
        {
         "name": "68",
         "type": "box",
         "uid": "46f669ca-9caa-43a7-a894-91bd11ea8f49",
         "x": [
          1550
         ]
        },
        {
         "name": "69",
         "type": "box",
         "uid": "0de983ad-89ea-43e1-b298-94f257bc65b2",
         "x": [
          8400.25
         ]
        },
        {
         "name": "70",
         "type": "box",
         "uid": "af898a8f-3106-4e72-b9c2-f46db3170c7d",
         "x": [
          515
         ]
        },
        {
         "name": "71",
         "type": "box",
         "uid": "92e620ea-4d0c-488d-8beb-df75083cc7e0",
         "x": [
          2,
          288.36430435
         ]
        },
        {
         "name": "72",
         "type": "box",
         "uid": "e3ad081e-a587-4948-b31b-82cd0229d129",
         "x": [
          1
         ]
        },
        {
         "name": "73",
         "type": "box",
         "uid": "a8b27b98-8cad-46ad-a9dd-41fc33ad6cb2",
         "x": [
          2015
         ]
        },
        {
         "name": "74",
         "type": "box",
         "uid": "65a2ccba-7c91-4076-9c1f-f63f7217147e",
         "x": [
          6,
          14257.56172484
         ]
        },
        {
         "name": "75",
         "type": "box",
         "uid": "0ce82669-f6fb-4c9a-8898-5bd900886ee7",
         "x": [
          797
         ]
        },
        {
         "name": "76",
         "type": "box",
         "uid": "e15eb312-9a31-4242-879a-f4dc90b20ad0",
         "x": [
          24
         ]
        },
        {
         "name": "77",
         "type": "box",
         "uid": "8a8a7a31-7dc9-40c0-adfd-0b614503547b",
         "x": [
          7,
          1.17895333
         ]
        },
        {
         "name": "78",
         "type": "box",
         "uid": "7a16e5dd-206d-4226-936a-04792bdd8d74",
         "x": [
          3159
         ]
        },
        {
         "name": "79",
         "type": "box",
         "uid": "73a52744-1bef-48d2-8c1f-8654f3ec4db4",
         "x": [
          36
         ]
        },
        {
         "name": "80",
         "type": "box",
         "uid": "c6303988-2f6e-4b24-921a-46a73b852080",
         "x": [
          8,
          65539.4113541
         ]
        },
        {
         "name": "81",
         "type": "box",
         "uid": "61e579b4-aaa9-462d-b982-e5f185be784e",
         "x": [
          416
         ]
        },
        {
         "name": "82",
         "type": "box",
         "uid": "024aed38-7cfc-4b21-a14e-e5bff828fd51",
         "x": [
          2746
         ]
        },
        {
         "name": "83",
         "type": "box",
         "uid": "d375a451-a834-4d2f-8315-9ac5f7629951",
         "x": [
          3,
          998.2945800000001
         ]
        },
        {
         "name": "84",
         "type": "box",
         "uid": "be74c7d0-6b74-4831-999c-bade95a63b10",
         "x": [
          8,
          1737.6991886032001
         ]
        },
        {
         "name": "85",
         "type": "box",
         "uid": "4c745630-17ae-422a-9fa2-ed5470f5d82d",
         "x": [
          314
         ]
        },
        {
         "name": "86",
         "type": "box",
         "uid": "82ac9cd8-af75-491e-b4f3-050ed6fda7a5",
         "x": [
          5491
         ]
        },
        {
         "name": "87",
         "type": "box",
         "uid": "90ad9764-894e-4027-bada-f33743107cca",
         "x": [
          40
         ]
        },
        {
         "name": "88",
         "type": "box",
         "uid": "672d7271-2053-42e2-a963-0fa7137b6014",
         "x": [
          4771
         ]
        },
        {
         "name": "89",
         "type": "box",
         "uid": "a6b03d47-5be0-43ca-903b-543d082dee4d",
         "x": [
          3,
          3266.90471301
         ]
        },
        {
         "name": "90",
         "type": "box",
         "uid": "b690960c-4892-4fba-a64e-93d25e187df8",
         "x": [
          6113
         ]
        },
        {
         "name": "91",
         "type": "box",
         "uid": "51628ca3-70cd-4f5d-9a56-1da81e59ba7d",
         "x": [
          8,
          4135.7991782856
         ]
        },
        {
         "name": "92",
         "type": "box",
         "uid": "8f6a6b91-0aff-4d0b-8d26-df06b8aae45e",
         "x": [
          3,
          4777.63550208
         ]
        },
        {
         "name": "93",
         "type": "box",
         "uid": "a7c726ab-5a77-45a0-87cf-340f3c288769",
         "x": [
          25
         ]
        },
        {
         "name": "94",
         "type": "box",
         "uid": "c74ac989-eede-41c1-b276-6858800a5c9b",
         "x": [
          1036
         ]
        },
        {
         "name": "95",
         "type": "box",
         "uid": "ee706cd3-ca78-46fd-939d-0bc728cae295",
         "x": [
          5
         ]
        },
        {
         "name": "96",
         "type": "box",
         "uid": "16c1cbcc-251b-4d37-9c7a-2b042aad460f",
         "x": [
          535
         ]
        },
        {
         "name": "97",
         "type": "box",
         "uid": "a699bb81-c9e8-4fdd-b9ec-e1011c6335e1",
         "x": []
        },
        {
         "name": "98",
         "type": "box",
         "uid": "77e1eea3-7836-406f-8e70-01f636aa57cf",
         "x": [
          2825
         ]
        },
        {
         "name": "99",
         "type": "box",
         "uid": "93db87ff-6494-4fbc-9f8c-53e8656fd536",
         "x": [
          9
         ]
        }
       ],
       "layout": {
        "autosize": false,
        "height": 600,
        "title": {
         "text": "plot var float"
        },
        "width": 900
       }
      },
      "text/html": [
       "<div>\n",
       "        \n",
       "        \n",
       "            <div id=\"9ac6bca1-6caf-4c0d-8ab0-966db7af33fa\" class=\"plotly-graph-div\" style=\"height:600px; width:900px;\"></div>\n",
       "            <script type=\"text/javascript\">\n",
       "                require([\"plotly\"], function(Plotly) {\n",
       "                    window.PLOTLYENV=window.PLOTLYENV || {};\n",
       "                    window.PLOTLYENV.BASE_URL='https://plot.ly';\n",
       "                    \n",
       "                if (document.getElementById(\"9ac6bca1-6caf-4c0d-8ab0-966db7af33fa\")) {\n",
       "                    Plotly.newPlot(\n",
       "                        '9ac6bca1-6caf-4c0d-8ab0-966db7af33fa',\n",
       "                        [{\"name\": \"0\", \"type\": \"box\", \"uid\": \"28558d3d-e13f-44b3-843d-ad15bef75f31\", \"x\": [5265.82]}, {\"name\": \"1\", \"type\": \"box\", \"uid\": \"372f30cd-c050-4b93-9c27-b00fa51b6207\", \"x\": [5225.0]}, {\"name\": \"2\", \"type\": \"box\", \"uid\": \"64b92f9a-ecd4-4fe8-be9e-b13498bc9024\", \"x\": [362.0]}, {\"name\": \"3\", \"type\": \"box\", \"uid\": \"952ff198-6bba-495c-87bc-57cc53318804\", \"x\": [15678.0]}, {\"name\": \"4\", \"type\": \"box\", \"uid\": \"a88b2e8a-f2fc-406e-bc4c-e35ab7841e02\", \"x\": [1.0, 7978.64536476]}, {\"name\": \"5\", \"type\": \"box\", \"uid\": \"e1f8d690-6cb5-4c3b-ad73-1b12c2fa8850\", \"x\": [2.0, 0.91597907]}, {\"name\": \"6\", \"type\": \"box\", \"uid\": \"8b706674-304b-4583-9143-37f676cc94b6\", \"x\": [12.0]}, {\"name\": \"7\", \"type\": \"box\", \"uid\": \"91399b57-fb88-415d-b1bb-6f76cd50f310\", \"x\": [3.0, 750.28869449]}, {\"name\": \"8\", \"type\": \"box\", \"uid\": \"9416ea27-08ec-4f72-b153-bece8d814321\", \"x\": [8160.0]}, {\"name\": \"9\", \"type\": \"box\", \"uid\": \"21ff57cb-3f5b-4b17-9300-7226bcf83601\", \"x\": [100.0]}, {\"name\": \"10\", \"type\": \"box\", \"uid\": \"b74238ce-afd0-4084-953e-aa70986cb15e\", \"x\": [3210.0]}, {\"name\": \"11\", \"type\": \"box\", \"uid\": \"e74ff572-3f10-4ddb-80c2-221c58c64c31\", \"x\": [3.0, 6777.46741216]}, {\"name\": \"12\", \"type\": \"box\", \"uid\": \"34991345-e32d-46b7-8312-43299efe6ffc\", \"x\": [12060.0]}, {\"name\": \"13\", \"type\": \"box\", \"uid\": \"337282ef-022a-416f-9fbb-65c9e6c3d0b7\", \"x\": [3735.0]}, {\"name\": \"14\", \"type\": \"box\", \"uid\": \"104d797d-78f5-436b-a0d7-54065e04b0e5\", \"x\": [18703.75]}, {\"name\": \"15\", \"type\": \"box\", \"uid\": \"b07805b5-0569-4666-976f-9ec32e758ce6\", \"x\": [3039.0]}, {\"name\": \"16\", \"type\": \"box\", \"uid\": \"04df9b68-0ae4-4231-a5a9-78caff94842c\", \"x\": [3.0, 2263.80136428]}, {\"name\": \"17\", \"type\": \"box\", \"uid\": \"3974b168-36f0-4450-a550-42f52e4323bf\", \"x\": [31809.0]}, {\"name\": \"18\", \"type\": \"box\", \"uid\": \"269a8a76-c40c-4d42-8ab1-825b9890e183\", \"x\": [2.0, 815.97336072]}, {\"name\": \"19\", \"type\": \"box\", \"uid\": \"3bdff8a8-69ee-4c32-82c9-7785fe9216e4\", \"x\": [3145.0]}, {\"name\": \"20\", \"type\": \"box\", \"uid\": \"5badc27b-b0fb-491d-98cd-c0c05cb5a720\", \"x\": [3695.0]}, {\"name\": \"21\", \"type\": \"box\", \"uid\": \"8bdd5789-2bdb-457b-9258-b48a2d52032d\", \"x\": []}, {\"name\": \"22\", \"type\": \"box\", \"uid\": \"70aaf294-52c2-4a30-a5e0-1f59a945888d\", \"x\": [3247.0]}, {\"name\": \"23\", \"type\": \"box\", \"uid\": \"1ca9fadd-ca5e-41aa-bb3f-c55275f30050\", \"x\": [525.0]}, {\"name\": \"24\", \"type\": \"box\", \"uid\": \"5cd5704b-00bf-446e-93be-6c74b6b80bc0\", \"x\": [304931.29]}, {\"name\": \"25\", \"type\": \"box\", \"uid\": \"5429057b-02bd-44f0-8df4-e6a9cd1866ad\", \"x\": [395.0]}, {\"name\": \"26\", \"type\": \"box\", \"uid\": \"48429526-2a33-47bb-9e95-76a5f3f85c1b\", \"x\": [40.0]}, {\"name\": \"27\", \"type\": \"box\", \"uid\": \"5eefa254-0e89-41e9-8db1-dd9bf46d32ef\", \"x\": [3298.0]}, {\"name\": \"28\", \"type\": \"box\", \"uid\": \"77f79767-28d3-4e7c-af93-8cede5585650\", \"x\": []}, {\"name\": \"29\", \"type\": \"box\", \"uid\": \"16e1c506-0e8d-453b-95d9-1b9e394826de\", \"x\": []}, {\"name\": \"30\", \"type\": \"box\", \"uid\": \"9267a6ce-337b-4d30-ab6b-604138e485e3\", \"x\": [1425.0]}, {\"name\": \"31\", \"type\": \"box\", \"uid\": \"1c59ef53-8847-4e3d-a8b3-5d7d23544ce0\", \"x\": [5002.0]}, {\"name\": \"32\", \"type\": \"box\", \"uid\": \"b5ff638e-b792-48bb-97ee-1805a6f0b7b8\", \"x\": [2.0]}, {\"name\": \"33\", \"type\": \"box\", \"uid\": \"463c8555-61f4-4748-a798-75b52b530565\", \"x\": [925.0]}, {\"name\": \"34\", \"type\": \"box\", \"uid\": \"05b6591e-0dc6-497b-8b36-d1a35db1fa72\", \"x\": [1069.0]}, {\"name\": \"35\", \"type\": \"box\", \"uid\": \"94ab9f26-85ec-4e75-bf1d-4b1fb7e70c30\", \"x\": [77240.0]}, {\"name\": \"36\", \"type\": \"box\", \"uid\": \"575f44a5-8e1a-4924-bfe0-4544594b4627\", \"x\": [3.0, 3714.762315]}, {\"name\": \"37\", \"type\": \"box\", \"uid\": \"6a229590-3d22-4d83-bdbf-ac0352914344\", \"x\": [2.0, 0.75922304]}, {\"name\": \"38\", \"type\": \"box\", \"uid\": \"65f007e4-cd17-4ba5-8ac9-24153ca628a0\", \"x\": [1.0]}, {\"name\": \"39\", \"type\": \"box\", \"uid\": \"6b9dbcfe-a283-47fe-a0a7-4f5ebc48231e\", \"x\": [17800.0]}, {\"name\": \"40\", \"type\": \"box\", \"uid\": \"8ac92872-996d-4c0c-be8e-3afe5ef0dd04\", \"x\": [384.0]}, {\"name\": \"41\", \"type\": \"box\", \"uid\": \"9471e206-8a0e-4d64-a242-95ca3a87ebdf\", \"x\": [10086.0]}, {\"name\": \"42\", \"type\": \"box\", \"uid\": \"16cdd79b-0c87-485d-ad46-c9eaad0b3995\", \"x\": [140.0]}, {\"name\": \"43\", \"type\": \"box\", \"uid\": \"d8fa8677-9e9b-47e6-a4e6-6213025d3461\", \"x\": [526.0]}, {\"name\": \"44\", \"type\": \"box\", \"uid\": \"0adfcff7-1a77-4884-bf60-df4f4cb4ac13\", \"x\": [37.0]}, {\"name\": \"45\", \"type\": \"box\", \"uid\": \"06e101f7-3aa5-45e4-ba9b-40e74ac68cb3\", \"x\": [128.0]}, {\"name\": \"46\", \"type\": \"box\", \"uid\": \"42a4cb94-bd1b-4cbd-a657-4e121cb2dd05\", \"x\": [13362.5]}, {\"name\": \"47\", \"type\": \"box\", \"uid\": \"d45889e9-b9cd-4e12-b796-49bd20f7dfe0\", \"x\": [4.0, 47.891059999999996]}, {\"name\": \"48\", \"type\": \"box\", \"uid\": \"7b701ac3-c9d9-46ee-9246-518a8c1dbcd3\", \"x\": [3.0, 1795.85439384]}, {\"name\": \"49\", \"type\": \"box\", \"uid\": \"10d148f8-1ba9-48eb-b9ea-9f29ffa8a280\", \"x\": [5.0, 4358.7751036271]}, {\"name\": \"50\", \"type\": \"box\", \"uid\": \"79e61cb3-55f9-41ad-bd47-71fcba057491\", \"x\": [343.0]}, {\"name\": \"51\", \"type\": \"box\", \"uid\": \"abdba33a-dc24-49a7-b963-953060f3d14a\", \"x\": [4281.0]}, {\"name\": \"52\", \"type\": \"box\", \"uid\": \"878d44c2-eec3-4425-a7cf-6eeec8c0989c\", \"x\": [7805.0]}, {\"name\": \"53\", \"type\": \"box\", \"uid\": \"741086a9-ff7f-460c-b22d-334181f77241\", \"x\": [15051.0]}, {\"name\": \"54\", \"type\": \"box\", \"uid\": \"be96c5c2-50b5-47b8-9291-13f90ae0fc33\", \"x\": [3.0, 3286.57365456]}, {\"name\": \"55\", \"type\": \"box\", \"uid\": \"644b8c9e-580f-40ce-8921-148155f0df14\", \"x\": [5.0, 21196.68786237]}, {\"name\": \"56\", \"type\": \"box\", \"uid\": \"80fcc287-ea98-4118-b673-b71fef367f1b\", \"x\": [2216.0]}, {\"name\": \"57\", \"type\": \"box\", \"uid\": \"782523ba-8cf2-4fda-b471-d7c7c8e47492\", \"x\": [3.0, 55.68469095]}, {\"name\": \"58\", \"type\": \"box\", \"uid\": \"2a1d93a8-b9bc-45da-9f09-88eae4cd6e7b\", \"x\": [3.0, 6909.15117354]}, {\"name\": \"59\", \"type\": \"box\", \"uid\": \"87a1713d-8540-4313-94df-dc329a582205\", \"x\": [8742.0]}, {\"name\": \"60\", \"type\": \"box\", \"uid\": \"d38310f2-e8cb-4a1a-88e1-87356b83d329\", \"x\": [993.0]}, {\"name\": \"61\", \"type\": \"box\", \"uid\": \"d417b093-67f6-453d-8674-f7955e050e61\", \"x\": [8328.0]}, {\"name\": \"62\", \"type\": \"box\", \"uid\": \"2f57b4bc-cda0-4623-9e4f-49bddb5ceda9\", \"x\": []}, {\"name\": \"63\", \"type\": \"box\", \"uid\": \"ecedd335-8ad5-43f5-805c-f6aafe008bbe\", \"x\": [20.0]}, {\"name\": \"64\", \"type\": \"box\", \"uid\": \"f6dfed35-7b3a-40bb-83e3-618b61d72d9c\", \"x\": [510.0]}, {\"name\": \"65\", \"type\": \"box\", \"uid\": \"74b8d155-4a9a-42f7-9907-19c9b2cd36ac\", \"x\": [296.0]}, {\"name\": \"66\", \"type\": \"box\", \"uid\": \"6fb48829-f5f2-4fa7-a1e3-00bb485d563a\", \"x\": [10350.0]}, {\"name\": \"67\", \"type\": \"box\", \"uid\": \"0e17bf69-c5a3-4c66-9f7b-a225a2c934b7\", \"x\": [2580.0]}, {\"name\": \"68\", \"type\": \"box\", \"uid\": \"50b143ee-7844-4198-96f8-7a2314f7dafd\", \"x\": [1550.0]}, {\"name\": \"69\", \"type\": \"box\", \"uid\": \"95387154-1de0-4424-90de-03020c8cc3d1\", \"x\": [8400.25]}, {\"name\": \"70\", \"type\": \"box\", \"uid\": \"32841e7d-cca7-401b-b6e5-5f32a84e8a5a\", \"x\": [515.0]}, {\"name\": \"71\", \"type\": \"box\", \"uid\": \"3dd771da-6481-4ca2-bf54-d9356e0935ab\", \"x\": [2.0, 288.36430435]}, {\"name\": \"72\", \"type\": \"box\", \"uid\": \"7eac3f6b-de53-4d2c-813d-66bffbe2f457\", \"x\": [1.0]}, {\"name\": \"73\", \"type\": \"box\", \"uid\": \"a7d4d0fc-543a-4f63-a900-50a077f30eb4\", \"x\": [2015.0]}, {\"name\": \"74\", \"type\": \"box\", \"uid\": \"dc732a6d-f6fb-41bc-8197-8e813ee4eed1\", \"x\": [6.0, 14257.56172484]}, {\"name\": \"75\", \"type\": \"box\", \"uid\": \"331db001-67e4-4f32-8841-fa40e89b61b7\", \"x\": [797.0]}, {\"name\": \"76\", \"type\": \"box\", \"uid\": \"ed56472f-a68f-43ef-8e17-60dbf7266f2f\", \"x\": [24.0]}, {\"name\": \"77\", \"type\": \"box\", \"uid\": \"8ef65664-589a-43f6-ae5c-f79bb6af5a4f\", \"x\": [7.0, 1.17895333]}, {\"name\": \"78\", \"type\": \"box\", \"uid\": \"92dc58c4-bd9a-4858-bcf2-ff1a2172291f\", \"x\": [3159.0]}, {\"name\": \"79\", \"type\": \"box\", \"uid\": \"d31dc8ab-5f35-4909-a86f-45bae4292dd5\", \"x\": [36.0]}, {\"name\": \"80\", \"type\": \"box\", \"uid\": \"2d1907cf-b52d-4d9c-9cd9-5bb75f534ade\", \"x\": [8.0, 65539.4113541]}, {\"name\": \"81\", \"type\": \"box\", \"uid\": \"685244f4-b4a2-471b-a4b6-b5114d6af60f\", \"x\": [416.0]}, {\"name\": \"82\", \"type\": \"box\", \"uid\": \"0cf8f6fb-07fa-4b37-bf44-0a766bcc4869\", \"x\": [2746.0]}, {\"name\": \"83\", \"type\": \"box\", \"uid\": \"f69511e6-8726-47a9-9c40-d0f3cc96c1b5\", \"x\": [3.0, 998.2945800000001]}, {\"name\": \"84\", \"type\": \"box\", \"uid\": \"94efb556-d24e-4473-998a-c5c1723e5277\", \"x\": [8.0, 1737.6991886032001]}, {\"name\": \"85\", \"type\": \"box\", \"uid\": \"63828ebf-289f-45da-a5a0-1534d6049ed3\", \"x\": [314.0]}, {\"name\": \"86\", \"type\": \"box\", \"uid\": \"ee0c69d0-0696-44a6-bd89-c9149b0c780d\", \"x\": [5491.0]}, {\"name\": \"87\", \"type\": \"box\", \"uid\": \"2893a468-65ba-4f0b-8ae5-97fa52c41220\", \"x\": [40.0]}, {\"name\": \"88\", \"type\": \"box\", \"uid\": \"0fea3ab2-48cb-4d03-9cc0-5d78fef60844\", \"x\": [4771.0]}, {\"name\": \"89\", \"type\": \"box\", \"uid\": \"f2079305-d4fd-460e-8d5c-872d0eb286cc\", \"x\": [3.0, 3266.90471301]}, {\"name\": \"90\", \"type\": \"box\", \"uid\": \"21d6cd47-ebe7-4040-b37b-64a830fbcab3\", \"x\": [6113.0]}, {\"name\": \"91\", \"type\": \"box\", \"uid\": \"d5f7b91c-7259-4acf-833c-a481c5bb9230\", \"x\": [8.0, 4135.7991782856]}, {\"name\": \"92\", \"type\": \"box\", \"uid\": \"958ff2fa-58a5-4487-ad5e-e952c528f939\", \"x\": [3.0, 4777.63550208]}, {\"name\": \"93\", \"type\": \"box\", \"uid\": \"7d03a10c-e4d6-49ff-b19e-1c6d3784bd52\", \"x\": [25.0]}, {\"name\": \"94\", \"type\": \"box\", \"uid\": \"538390b6-ff22-41cb-9c49-997d07ad0ad2\", \"x\": [1036.0]}, {\"name\": \"95\", \"type\": \"box\", \"uid\": \"b9050d5e-9be2-4bc2-99e4-fcc26917b80f\", \"x\": [5.0]}, {\"name\": \"96\", \"type\": \"box\", \"uid\": \"f08c13af-f2c3-4e06-9abc-441df85c0845\", \"x\": [535.0]}, {\"name\": \"97\", \"type\": \"box\", \"uid\": \"adc100ff-ce42-499c-ac67-b87a9067a215\", \"x\": []}, {\"name\": \"98\", \"type\": \"box\", \"uid\": \"250c01b2-f683-4ab2-8c56-9651743bf956\", \"x\": [2825.0]}, {\"name\": \"99\", \"type\": \"box\", \"uid\": \"686beb2e-fda3-487f-a2d4-619d3a4a5888\", \"x\": [9.0]}],\n",
       "                        {\"autosize\": false, \"height\": 600, \"title\": {\"text\": \"plot var float\"}, \"width\": 900},\n",
       "                        {\"showLink\": false, \"linkText\": \"Export to plot.ly\", \"plotlyServerURL\": \"https://plot.ly\", \"responsive\": true}\n",
       "                    ).then(function(){\n",
       "                            \n",
       "var gd = document.getElementById('9ac6bca1-6caf-4c0d-8ab0-966db7af33fa');\n",
       "var x = new MutationObserver(function (mutations, observer) {{\n",
       "        var display = window.getComputedStyle(gd).display;\n",
       "        if (!display || display === 'none') {{\n",
       "            console.log([gd, 'removed!']);\n",
       "            Plotly.purge(gd);\n",
       "            observer.disconnect();\n",
       "        }}\n",
       "}});\n",
       "\n",
       "// Listen for the removal of the full notebook cells\n",
       "var notebookContainer = gd.closest('#notebook-container');\n",
       "if (notebookContainer) {{\n",
       "    x.observe(notebookContainer, {childList: true});\n",
       "}}\n",
       "\n",
       "// Listen for the clearing of the current output cell\n",
       "var outputEl = gd.closest('.output');\n",
       "if (outputEl) {{\n",
       "    x.observe(outputEl, {childList: true});\n",
       "}}\n",
       "\n",
       "                        })\n",
       "                };\n",
       "                });\n",
       "            </script>\n",
       "        </div>"
      ]
     },
     "metadata": {},
     "output_type": "display_data"
    }
   ],
   "source": [
    "## boxplot for var\n",
    "\n",
    "#getting the data ready for plot\n",
    "data = [go.Box(x=df2_T[df2_T[col]!=0][col],\n",
    "              name=col)\n",
    "        for col in float_colmuns\n",
    "        ]\n",
    "\n",
    "# setting layout\n",
    "layout = go.Layout(\n",
    "    autosize=False,\n",
    "    title='plot var float',\n",
    "    width=900,\n",
    "    height=600\n",
    ")\n",
    "\n",
    "#combine data and layout settings into fig\n",
    "fig = go.Figure(data=data, layout=layout)\n",
    "\n",
    "#inline plot(iplot for jupyter notebook)\n",
    "iplot(fig, filename='usd_pledged freq table by country')"
   ]
  },
  {
   "cell_type": "code",
   "execution_count": 7,
   "metadata": {},
   "outputs": [
    {
     "data": {
      "application/vnd.plotly.v1+json": {
       "config": {
        "linkText": "Export to plot.ly",
        "plotlyServerURL": "https://plot.ly",
        "responsive": true,
        "showLink": false
       },
       "data": [
        {
         "labels": [
          17,
          7,
          10,
          11,
          15,
          6,
          8,
          0,
          2,
          4,
          12,
          5,
          14,
          18,
          13,
          19,
          20,
          9,
          23,
          24,
          3,
          1,
          28,
          16,
          27,
          21,
          22,
          25,
          26
         ],
         "type": "pie",
         "uid": "2dae88f7-ea1d-4d32-8400-351c7e2b1697",
         "values": [
          11,
          7,
          7,
          7,
          6,
          6,
          6,
          5,
          4,
          4,
          4,
          3,
          3,
          3,
          2,
          2,
          2,
          2,
          2,
          2,
          2,
          2,
          2,
          1,
          1,
          1,
          1,
          1,
          1
         ]
        }
       ],
       "layout": {
        "autosize": false,
        "height": 600,
        "width": 900
       }
      },
      "text/html": [
       "<div>\n",
       "        \n",
       "        \n",
       "            <div id=\"6e2dc731-53ac-4814-9ae9-93746f307382\" class=\"plotly-graph-div\" style=\"height:600px; width:900px;\"></div>\n",
       "            <script type=\"text/javascript\">\n",
       "                require([\"plotly\"], function(Plotly) {\n",
       "                    window.PLOTLYENV=window.PLOTLYENV || {};\n",
       "                    window.PLOTLYENV.BASE_URL='https://plot.ly';\n",
       "                    \n",
       "                if (document.getElementById(\"6e2dc731-53ac-4814-9ae9-93746f307382\")) {\n",
       "                    Plotly.newPlot(\n",
       "                        '6e2dc731-53ac-4814-9ae9-93746f307382',\n",
       "                        [{\"labels\": [17, 7, 10, 11, 15, 6, 8, 0, 2, 4, 12, 5, 14, 18, 13, 19, 20, 9, 23, 24, 3, 1, 28, 16, 27, 21, 22, 25, 26], \"type\": \"pie\", \"uid\": \"0b86e93d-7ab9-4eac-92e8-abae34002091\", \"values\": [11, 7, 7, 7, 6, 6, 6, 5, 4, 4, 4, 3, 3, 3, 2, 2, 2, 2, 2, 2, 2, 2, 2, 1, 1, 1, 1, 1, 1]}],\n",
       "                        {\"autosize\": false, \"height\": 600, \"width\": 900},\n",
       "                        {\"showLink\": false, \"linkText\": \"Export to plot.ly\", \"plotlyServerURL\": \"https://plot.ly\", \"responsive\": true}\n",
       "                    ).then(function(){\n",
       "                            \n",
       "var gd = document.getElementById('6e2dc731-53ac-4814-9ae9-93746f307382');\n",
       "var x = new MutationObserver(function (mutations, observer) {{\n",
       "        var display = window.getComputedStyle(gd).display;\n",
       "        if (!display || display === 'none') {{\n",
       "            console.log([gd, 'removed!']);\n",
       "            Plotly.purge(gd);\n",
       "            observer.disconnect();\n",
       "        }}\n",
       "}});\n",
       "\n",
       "// Listen for the removal of the full notebook cells\n",
       "var notebookContainer = gd.closest('#notebook-container');\n",
       "if (notebookContainer) {{\n",
       "    x.observe(notebookContainer, {childList: true});\n",
       "}}\n",
       "\n",
       "// Listen for the clearing of the current output cell\n",
       "var outputEl = gd.closest('.output');\n",
       "if (outputEl) {{\n",
       "    x.observe(outputEl, {childList: true});\n",
       "}}\n",
       "\n",
       "                        })\n",
       "                };\n",
       "                });\n",
       "            </script>\n",
       "        </div>"
      ]
     },
     "metadata": {},
     "output_type": "display_data"
    }
   ],
   "source": [
    "## freq table plot for drugs \n",
    "drug_freq_table = df['Cat_Name'].value_counts()\n",
    "\n",
    "#getting the data ready for plot\n",
    "data = [go.Pie(labels=drug_freq_table.index,\n",
    "                values=drug_freq_table\n",
    "             )\n",
    "        ]\n",
    "\n",
    "# setting layout\n",
    "layout = go.Layout(\n",
    "    autosize=False,\n",
    "    width=900,\n",
    "    height=600\n",
    ")\n",
    "\n",
    "#combine data and layout settings into fig\n",
    "fig = go.Figure(data=data, layout=layout)\n",
    "\n",
    "#inline plot(iplot for jupyter notebook)\n",
    "iplot(fig, filename='drug_freq_table')"
   ]
  },
  {
   "cell_type": "code",
   "execution_count": 8,
   "metadata": {},
   "outputs": [
    {
     "data": {
      "application/vnd.plotly.v1+json": {
       "config": {
        "linkText": "Export to plot.ly",
        "plotlyServerURL": "https://plot.ly",
        "responsive": true,
        "showLink": false
       },
       "data": [
        {
         "labels": [
          0,
          3,
          2,
          8,
          5,
          9,
          7,
          6,
          4,
          1
         ],
         "type": "pie",
         "uid": "bc807e04-6db6-4908-ad5c-36357e24186f",
         "values": [
          74,
          11,
          5,
          3,
          2,
          1,
          1,
          1,
          1,
          1
         ]
        }
       ],
       "layout": {
        "autosize": false,
        "height": 600,
        "width": 900
       }
      },
      "text/html": [
       "<div>\n",
       "        \n",
       "        \n",
       "            <div id=\"12709a02-3d88-4115-81c9-a6704f343d46\" class=\"plotly-graph-div\" style=\"height:600px; width:900px;\"></div>\n",
       "            <script type=\"text/javascript\">\n",
       "                require([\"plotly\"], function(Plotly) {\n",
       "                    window.PLOTLYENV=window.PLOTLYENV || {};\n",
       "                    window.PLOTLYENV.BASE_URL='https://plot.ly';\n",
       "                    \n",
       "                if (document.getElementById(\"12709a02-3d88-4115-81c9-a6704f343d46\")) {\n",
       "                    Plotly.newPlot(\n",
       "                        '12709a02-3d88-4115-81c9-a6704f343d46',\n",
       "                        [{\"labels\": [0, 3, 2, 8, 5, 9, 7, 6, 4, 1], \"type\": \"pie\", \"uid\": \"0bcbd003-65dc-450e-b197-9800e46b4557\", \"values\": [74, 11, 5, 3, 2, 1, 1, 1, 1, 1]}],\n",
       "                        {\"autosize\": false, \"height\": 600, \"width\": 900},\n",
       "                        {\"showLink\": false, \"linkText\": \"Export to plot.ly\", \"plotlyServerURL\": \"https://plot.ly\", \"responsive\": true}\n",
       "                    ).then(function(){\n",
       "                            \n",
       "var gd = document.getElementById('12709a02-3d88-4115-81c9-a6704f343d46');\n",
       "var x = new MutationObserver(function (mutations, observer) {{\n",
       "        var display = window.getComputedStyle(gd).display;\n",
       "        if (!display || display === 'none') {{\n",
       "            console.log([gd, 'removed!']);\n",
       "            Plotly.purge(gd);\n",
       "            observer.disconnect();\n",
       "        }}\n",
       "}});\n",
       "\n",
       "// Listen for the removal of the full notebook cells\n",
       "var notebookContainer = gd.closest('#notebook-container');\n",
       "if (notebookContainer) {{\n",
       "    x.observe(notebookContainer, {childList: true});\n",
       "}}\n",
       "\n",
       "// Listen for the clearing of the current output cell\n",
       "var outputEl = gd.closest('.output');\n",
       "if (outputEl) {{\n",
       "    x.observe(outputEl, {childList: true});\n",
       "}}\n",
       "\n",
       "                        })\n",
       "                };\n",
       "                });\n",
       "            </script>\n",
       "        </div>"
      ]
     },
     "metadata": {},
     "output_type": "display_data"
    }
   ],
   "source": [
    "## freq table plot for drugs \n",
    "drug_freq_table = df['country'].value_counts()\n",
    "\n",
    "#getting the data ready for plot\n",
    "data = [go.Pie(labels=drug_freq_table.index,\n",
    "                values=drug_freq_table\n",
    "             )\n",
    "        ]\n",
    "\n",
    "# setting layout\n",
    "layout = go.Layout(\n",
    "    autosize=False,\n",
    "    width=900,\n",
    "    height=600\n",
    ")\n",
    "\n",
    "#combine data and layout settings into fig\n",
    "fig = go.Figure(data=data, layout=layout)\n",
    "\n",
    "#inline plot(iplot for jupyter notebook)\n",
    "iplot(fig, filename='drug_freq_table')"
   ]
  },
  {
   "cell_type": "code",
   "execution_count": 18,
   "metadata": {},
   "outputs": [
    {
     "data": {
      "text/html": [
       "<div>\n",
       "<style scoped>\n",
       "    .dataframe tbody tr th:only-of-type {\n",
       "        vertical-align: middle;\n",
       "    }\n",
       "\n",
       "    .dataframe tbody tr th {\n",
       "        vertical-align: top;\n",
       "    }\n",
       "\n",
       "    .dataframe thead th {\n",
       "        text-align: right;\n",
       "    }\n",
       "</style>\n",
       "<table border=\"1\" class=\"dataframe\">\n",
       "  <thead>\n",
       "    <tr style=\"text-align: right;\">\n",
       "      <th></th>\n",
       "      <th>Launch_deadline_days</th>\n",
       "      <th>Cat_Name</th>\n",
       "      <th>country</th>\n",
       "      <th>staff_pick</th>\n",
       "      <th>state</th>\n",
       "      <th>backers_count</th>\n",
       "      <th>blurb</th>\n",
       "      <th>goal</th>\n",
       "      <th>launched_at</th>\n",
       "      <th>usd_pledged</th>\n",
       "      <th>deadline</th>\n",
       "      <th>name</th>\n",
       "    </tr>\n",
       "  </thead>\n",
       "  <tbody>\n",
       "    <tr>\n",
       "      <th>0</th>\n",
       "      <td>30</td>\n",
       "      <td>0</td>\n",
       "      <td>0</td>\n",
       "      <td>0</td>\n",
       "      <td>0</td>\n",
       "      <td>108</td>\n",
       "      <td>In the year 2025, a young man's superintellige...</td>\n",
       "      <td>4000.0</td>\n",
       "      <td>0</td>\n",
       "      <td>5265.82</td>\n",
       "      <td>0</td>\n",
       "      <td>A Date in 2025 - A sci-fi comedy short film</td>\n",
       "    </tr>\n",
       "  </tbody>\n",
       "</table>\n",
       "</div>"
      ],
      "text/plain": [
       "   Launch_deadline_days  Cat_Name  country  staff_pick  state  backers_count  \\\n",
       "0                    30         0        0           0      0            108   \n",
       "\n",
       "                                               blurb    goal  launched_at  \\\n",
       "0  In the year 2025, a young man's superintellige...  4000.0            0   \n",
       "\n",
       "   usd_pledged  deadline                                         name  \n",
       "0      5265.82         0  A Date in 2025 - A sci-fi comedy short film  "
      ]
     },
     "execution_count": 18,
     "metadata": {},
     "output_type": "execute_result"
    }
   ],
   "source": [
    "df.head(1)"
   ]
  },
  {
   "cell_type": "code",
   "execution_count": 21,
   "metadata": {},
   "outputs": [
    {
     "data": {
      "text/plain": [
       "Index(['goal', 'usd_pledged'], dtype='object')"
      ]
     },
     "execution_count": 21,
     "metadata": {},
     "output_type": "execute_result"
    }
   ],
   "source": [
    "float_colmuns2"
   ]
  },
  {
   "cell_type": "code",
   "execution_count": 22,
   "metadata": {},
   "outputs": [
    {
     "data": {
      "text/html": [
       "<div>\n",
       "<style scoped>\n",
       "    .dataframe tbody tr th:only-of-type {\n",
       "        vertical-align: middle;\n",
       "    }\n",
       "\n",
       "    .dataframe tbody tr th {\n",
       "        vertical-align: top;\n",
       "    }\n",
       "\n",
       "    .dataframe thead th {\n",
       "        text-align: right;\n",
       "    }\n",
       "</style>\n",
       "<table border=\"1\" class=\"dataframe\">\n",
       "  <thead>\n",
       "    <tr style=\"text-align: right;\">\n",
       "      <th></th>\n",
       "      <th></th>\n",
       "      <th>goal</th>\n",
       "      <th>usd_pledged</th>\n",
       "      <th>staff_pick</th>\n",
       "      <th>Launch_deadline_days</th>\n",
       "    </tr>\n",
       "    <tr>\n",
       "      <th>country</th>\n",
       "      <th>Cat_Name</th>\n",
       "      <th></th>\n",
       "      <th></th>\n",
       "      <th></th>\n",
       "      <th></th>\n",
       "    </tr>\n",
       "  </thead>\n",
       "  <tbody>\n",
       "    <tr>\n",
       "      <th rowspan=\"27\" valign=\"top\">0</th>\n",
       "      <th>0</th>\n",
       "      <td>-0.305377</td>\n",
       "      <td>-0.207981</td>\n",
       "      <td>-0.403081</td>\n",
       "      <td>0.054455</td>\n",
       "    </tr>\n",
       "    <tr>\n",
       "      <th>1</th>\n",
       "      <td>-0.222310</td>\n",
       "      <td>-0.132693</td>\n",
       "      <td>3.287158</td>\n",
       "      <td>0.899430</td>\n",
       "    </tr>\n",
       "    <tr>\n",
       "      <th>2</th>\n",
       "      <td>-0.403037</td>\n",
       "      <td>-0.336517</td>\n",
       "      <td>-0.403081</td>\n",
       "      <td>-0.790520</td>\n",
       "    </tr>\n",
       "    <tr>\n",
       "      <th>3</th>\n",
       "      <td>0.226701</td>\n",
       "      <td>0.459250</td>\n",
       "      <td>-0.403081</td>\n",
       "      <td>0.107266</td>\n",
       "    </tr>\n",
       "    <tr>\n",
       "      <th>4</th>\n",
       "      <td>0.058322</td>\n",
       "      <td>0.119248</td>\n",
       "      <td>1.442038</td>\n",
       "      <td>1.374729</td>\n",
       "    </tr>\n",
       "    <tr>\n",
       "      <th>5</th>\n",
       "      <td>0.002196</td>\n",
       "      <td>-0.440021</td>\n",
       "      <td>-0.403081</td>\n",
       "      <td>3.275923</td>\n",
       "    </tr>\n",
       "    <tr>\n",
       "      <th>6</th>\n",
       "      <td>-0.312112</td>\n",
       "      <td>-0.433898</td>\n",
       "      <td>-0.403081</td>\n",
       "      <td>-0.103978</td>\n",
       "    </tr>\n",
       "    <tr>\n",
       "      <th>7</th>\n",
       "      <td>-0.321811</td>\n",
       "      <td>-0.186553</td>\n",
       "      <td>-0.403081</td>\n",
       "      <td>-0.139185</td>\n",
       "    </tr>\n",
       "    <tr>\n",
       "      <th>8</th>\n",
       "      <td>-0.032603</td>\n",
       "      <td>-0.234753</td>\n",
       "      <td>-0.403081</td>\n",
       "      <td>0.353717</td>\n",
       "    </tr>\n",
       "    <tr>\n",
       "      <th>10</th>\n",
       "      <td>-0.185491</td>\n",
       "      <td>-0.073404</td>\n",
       "      <td>1.073014</td>\n",
       "      <td>0.635376</td>\n",
       "    </tr>\n",
       "    <tr>\n",
       "      <th>11</th>\n",
       "      <td>-0.328469</td>\n",
       "      <td>-0.279654</td>\n",
       "      <td>0.124096</td>\n",
       "      <td>-0.677354</td>\n",
       "    </tr>\n",
       "    <tr>\n",
       "      <th>12</th>\n",
       "      <td>-0.334563</td>\n",
       "      <td>-0.274111</td>\n",
       "      <td>-0.403081</td>\n",
       "      <td>-0.579276</td>\n",
       "    </tr>\n",
       "    <tr>\n",
       "      <th>13</th>\n",
       "      <td>-0.020255</td>\n",
       "      <td>1.384504</td>\n",
       "      <td>-0.403081</td>\n",
       "      <td>0.635376</td>\n",
       "    </tr>\n",
       "    <tr>\n",
       "      <th>14</th>\n",
       "      <td>0.526042</td>\n",
       "      <td>-0.368609</td>\n",
       "      <td>-0.403081</td>\n",
       "      <td>0.600168</td>\n",
       "    </tr>\n",
       "    <tr>\n",
       "      <th>15</th>\n",
       "      <td>0.672906</td>\n",
       "      <td>5.246051</td>\n",
       "      <td>1.442038</td>\n",
       "      <td>-0.473654</td>\n",
       "    </tr>\n",
       "    <tr>\n",
       "      <th>16</th>\n",
       "      <td>-0.442370</td>\n",
       "      <td>-0.417364</td>\n",
       "      <td>-0.403081</td>\n",
       "      <td>-2.322038</td>\n",
       "    </tr>\n",
       "    <tr>\n",
       "      <th>17</th>\n",
       "      <td>-0.318153</td>\n",
       "      <td>-0.391042</td>\n",
       "      <td>-0.067605</td>\n",
       "      <td>0.251296</td>\n",
       "    </tr>\n",
       "    <tr>\n",
       "      <th>18</th>\n",
       "      <td>-0.387322</td>\n",
       "      <td>-0.435318</td>\n",
       "      <td>-0.403081</td>\n",
       "      <td>0.107266</td>\n",
       "    </tr>\n",
       "    <tr>\n",
       "      <th>19</th>\n",
       "      <td>-0.262721</td>\n",
       "      <td>-0.428062</td>\n",
       "      <td>-0.403081</td>\n",
       "      <td>-0.156789</td>\n",
       "    </tr>\n",
       "    <tr>\n",
       "      <th>20</th>\n",
       "      <td>0.002196</td>\n",
       "      <td>0.367304</td>\n",
       "      <td>-0.403081</td>\n",
       "      <td>0.529754</td>\n",
       "    </tr>\n",
       "    <tr>\n",
       "      <th>21</th>\n",
       "      <td>-0.110057</td>\n",
       "      <td>0.007664</td>\n",
       "      <td>-0.403081</td>\n",
       "      <td>1.057863</td>\n",
       "    </tr>\n",
       "    <tr>\n",
       "      <th>23</th>\n",
       "      <td>-0.437835</td>\n",
       "      <td>-0.423043</td>\n",
       "      <td>-0.403081</td>\n",
       "      <td>-1.477063</td>\n",
       "    </tr>\n",
       "    <tr>\n",
       "      <th>24</th>\n",
       "      <td>-0.390240</td>\n",
       "      <td>-0.365340</td>\n",
       "      <td>-0.403081</td>\n",
       "      <td>0.107266</td>\n",
       "    </tr>\n",
       "    <tr>\n",
       "      <th>25</th>\n",
       "      <td>-0.392934</td>\n",
       "      <td>-0.351115</td>\n",
       "      <td>-0.403081</td>\n",
       "      <td>0.107266</td>\n",
       "    </tr>\n",
       "    <tr>\n",
       "      <th>26</th>\n",
       "      <td>0.383855</td>\n",
       "      <td>-0.437727</td>\n",
       "      <td>-0.403081</td>\n",
       "      <td>0.107266</td>\n",
       "    </tr>\n",
       "    <tr>\n",
       "      <th>27</th>\n",
       "      <td>-0.280681</td>\n",
       "      <td>-0.166362</td>\n",
       "      <td>-0.403081</td>\n",
       "      <td>-1.371441</td>\n",
       "    </tr>\n",
       "    <tr>\n",
       "      <th>28</th>\n",
       "      <td>0.451207</td>\n",
       "      <td>-0.089387</td>\n",
       "      <td>-0.403081</td>\n",
       "      <td>0.001644</td>\n",
       "    </tr>\n",
       "    <tr>\n",
       "      <th>1</th>\n",
       "      <th>4</th>\n",
       "      <td>-0.334563</td>\n",
       "      <td>0.017624</td>\n",
       "      <td>-0.403081</td>\n",
       "      <td>0.107266</td>\n",
       "    </tr>\n",
       "    <tr>\n",
       "      <th rowspan=\"5\" valign=\"top\">2</th>\n",
       "      <th>4</th>\n",
       "      <td>-0.222310</td>\n",
       "      <td>-0.423481</td>\n",
       "      <td>-0.403081</td>\n",
       "      <td>-0.420844</td>\n",
       "    </tr>\n",
       "    <tr>\n",
       "      <th>5</th>\n",
       "      <td>-0.401915</td>\n",
       "      <td>-0.439968</td>\n",
       "      <td>-0.403081</td>\n",
       "      <td>-1.160197</td>\n",
       "    </tr>\n",
       "    <tr>\n",
       "      <th>7</th>\n",
       "      <td>-0.401915</td>\n",
       "      <td>-0.393218</td>\n",
       "      <td>-0.403081</td>\n",
       "      <td>0.212888</td>\n",
       "    </tr>\n",
       "    <tr>\n",
       "      <th>10</th>\n",
       "      <td>-0.424365</td>\n",
       "      <td>-0.440021</td>\n",
       "      <td>-0.403081</td>\n",
       "      <td>-1.477063</td>\n",
       "    </tr>\n",
       "    <tr>\n",
       "      <th>18</th>\n",
       "      <td>-0.445199</td>\n",
       "      <td>-0.439977</td>\n",
       "      <td>-0.403081</td>\n",
       "      <td>-0.632087</td>\n",
       "    </tr>\n",
       "    <tr>\n",
       "      <th rowspan=\"6\" valign=\"top\">3</th>\n",
       "      <th>0</th>\n",
       "      <td>-0.351027</td>\n",
       "      <td>-0.217809</td>\n",
       "      <td>-0.403081</td>\n",
       "      <td>-0.878538</td>\n",
       "    </tr>\n",
       "    <tr>\n",
       "      <th>5</th>\n",
       "      <td>-0.424365</td>\n",
       "      <td>-0.396985</td>\n",
       "      <td>-0.403081</td>\n",
       "      <td>0.107266</td>\n",
       "    </tr>\n",
       "    <tr>\n",
       "      <th>6</th>\n",
       "      <td>-0.418752</td>\n",
       "      <td>-0.373500</td>\n",
       "      <td>1.442038</td>\n",
       "      <td>0.318510</td>\n",
       "    </tr>\n",
       "    <tr>\n",
       "      <th>9</th>\n",
       "      <td>-0.312112</td>\n",
       "      <td>-0.108628</td>\n",
       "      <td>-0.403081</td>\n",
       "      <td>-0.684898</td>\n",
       "    </tr>\n",
       "    <tr>\n",
       "      <th>12</th>\n",
       "      <td>-0.357013</td>\n",
       "      <td>-0.252071</td>\n",
       "      <td>-0.403081</td>\n",
       "      <td>-0.368033</td>\n",
       "    </tr>\n",
       "    <tr>\n",
       "      <th>13</th>\n",
       "      <td>-0.430427</td>\n",
       "      <td>-0.337013</td>\n",
       "      <td>3.287158</td>\n",
       "      <td>-0.948953</td>\n",
       "    </tr>\n",
       "    <tr>\n",
       "      <th>4</th>\n",
       "      <th>3</th>\n",
       "      <td>-0.427598</td>\n",
       "      <td>-0.437274</td>\n",
       "      <td>-0.403081</td>\n",
       "      <td>-0.843331</td>\n",
       "    </tr>\n",
       "    <tr>\n",
       "      <th rowspan=\"2\" valign=\"top\">5</th>\n",
       "      <th>15</th>\n",
       "      <td>0.720614</td>\n",
       "      <td>-0.190007</td>\n",
       "      <td>-0.403081</td>\n",
       "      <td>0.107266</td>\n",
       "    </tr>\n",
       "    <tr>\n",
       "      <th>22</th>\n",
       "      <td>5.839343</td>\n",
       "      <td>0.775795</td>\n",
       "      <td>-0.403081</td>\n",
       "      <td>0.107266</td>\n",
       "    </tr>\n",
       "    <tr>\n",
       "      <th>6</th>\n",
       "      <th>15</th>\n",
       "      <td>-0.357013</td>\n",
       "      <td>0.377775</td>\n",
       "      <td>-0.403081</td>\n",
       "      <td>0.107266</td>\n",
       "    </tr>\n",
       "    <tr>\n",
       "      <th>7</th>\n",
       "      <th>10</th>\n",
       "      <td>0.059265</td>\n",
       "      <td>-0.439953</td>\n",
       "      <td>-0.403081</td>\n",
       "      <td>0.107266</td>\n",
       "    </tr>\n",
       "    <tr>\n",
       "      <th rowspan=\"2\" valign=\"top\">8</th>\n",
       "      <th>2</th>\n",
       "      <td>-0.395179</td>\n",
       "      <td>-0.271573</td>\n",
       "      <td>-0.403081</td>\n",
       "      <td>0.107266</td>\n",
       "    </tr>\n",
       "    <tr>\n",
       "      <th>23</th>\n",
       "      <td>2.471758</td>\n",
       "      <td>3.319239</td>\n",
       "      <td>3.287158</td>\n",
       "      <td>0.740997</td>\n",
       "    </tr>\n",
       "    <tr>\n",
       "      <th>9</th>\n",
       "      <th>28</th>\n",
       "      <td>-0.222310</td>\n",
       "      <td>-0.440021</td>\n",
       "      <td>-0.403081</td>\n",
       "      <td>3.275923</td>\n",
       "    </tr>\n",
       "  </tbody>\n",
       "</table>\n",
       "</div>"
      ],
      "text/plain": [
       "                      goal  usd_pledged  staff_pick  Launch_deadline_days\n",
       "country Cat_Name                                                         \n",
       "0       0        -0.305377    -0.207981   -0.403081              0.054455\n",
       "        1        -0.222310    -0.132693    3.287158              0.899430\n",
       "        2        -0.403037    -0.336517   -0.403081             -0.790520\n",
       "        3         0.226701     0.459250   -0.403081              0.107266\n",
       "        4         0.058322     0.119248    1.442038              1.374729\n",
       "        5         0.002196    -0.440021   -0.403081              3.275923\n",
       "        6        -0.312112    -0.433898   -0.403081             -0.103978\n",
       "        7        -0.321811    -0.186553   -0.403081             -0.139185\n",
       "        8        -0.032603    -0.234753   -0.403081              0.353717\n",
       "        10       -0.185491    -0.073404    1.073014              0.635376\n",
       "        11       -0.328469    -0.279654    0.124096             -0.677354\n",
       "        12       -0.334563    -0.274111   -0.403081             -0.579276\n",
       "        13       -0.020255     1.384504   -0.403081              0.635376\n",
       "        14        0.526042    -0.368609   -0.403081              0.600168\n",
       "        15        0.672906     5.246051    1.442038             -0.473654\n",
       "        16       -0.442370    -0.417364   -0.403081             -2.322038\n",
       "        17       -0.318153    -0.391042   -0.067605              0.251296\n",
       "        18       -0.387322    -0.435318   -0.403081              0.107266\n",
       "        19       -0.262721    -0.428062   -0.403081             -0.156789\n",
       "        20        0.002196     0.367304   -0.403081              0.529754\n",
       "        21       -0.110057     0.007664   -0.403081              1.057863\n",
       "        23       -0.437835    -0.423043   -0.403081             -1.477063\n",
       "        24       -0.390240    -0.365340   -0.403081              0.107266\n",
       "        25       -0.392934    -0.351115   -0.403081              0.107266\n",
       "        26        0.383855    -0.437727   -0.403081              0.107266\n",
       "        27       -0.280681    -0.166362   -0.403081             -1.371441\n",
       "        28        0.451207    -0.089387   -0.403081              0.001644\n",
       "1       4        -0.334563     0.017624   -0.403081              0.107266\n",
       "2       4        -0.222310    -0.423481   -0.403081             -0.420844\n",
       "        5        -0.401915    -0.439968   -0.403081             -1.160197\n",
       "        7        -0.401915    -0.393218   -0.403081              0.212888\n",
       "        10       -0.424365    -0.440021   -0.403081             -1.477063\n",
       "        18       -0.445199    -0.439977   -0.403081             -0.632087\n",
       "3       0        -0.351027    -0.217809   -0.403081             -0.878538\n",
       "        5        -0.424365    -0.396985   -0.403081              0.107266\n",
       "        6        -0.418752    -0.373500    1.442038              0.318510\n",
       "        9        -0.312112    -0.108628   -0.403081             -0.684898\n",
       "        12       -0.357013    -0.252071   -0.403081             -0.368033\n",
       "        13       -0.430427    -0.337013    3.287158             -0.948953\n",
       "4       3        -0.427598    -0.437274   -0.403081             -0.843331\n",
       "5       15        0.720614    -0.190007   -0.403081              0.107266\n",
       "        22        5.839343     0.775795   -0.403081              0.107266\n",
       "6       15       -0.357013     0.377775   -0.403081              0.107266\n",
       "7       10        0.059265    -0.439953   -0.403081              0.107266\n",
       "8       2        -0.395179    -0.271573   -0.403081              0.107266\n",
       "        23        2.471758     3.319239    3.287158              0.740997\n",
       "9       28       -0.222310    -0.440021   -0.403081              3.275923"
      ]
     },
     "execution_count": 22,
     "metadata": {},
     "output_type": "execute_result"
    }
   ],
   "source": [
    "#float_colmuns2 = df.columns[df.dtypes == \"float64\"]\n",
    "float_colmuns2 = ['goal', 'usd_pledged', 'staff_pick','Launch_deadline_days']\n",
    "pca_data = df.groupby(['country','Cat_Name'])[float_colmuns2].mean()\n",
    "normalized_pca_data = (pca_data-pca_data.mean())/pca_data.std()\n",
    "normalized_pca_data"
   ]
  },
  {
   "cell_type": "code",
   "execution_count": 23,
   "metadata": {},
   "outputs": [
    {
     "name": "stdout",
     "output_type": "stream",
     "text": [
      "[0.42892288 0.2427137  0.21265267]\n",
      "[8.8837948  6.68276299 6.2552451 ]\n"
     ]
    },
    {
     "data": {
      "application/vnd.plotly.v1+json": {
       "config": {
        "linkText": "Export to plot.ly",
        "plotlyServerURL": "https://plot.ly",
        "responsive": true,
        "showLink": false
       },
       "data": [
        {
         "mode": "markers",
         "type": "scatter3d",
         "uid": "964e9749-579f-455d-8a61-7c089a9b4b94",
         "x": [
          -0.48673825637804047,
          1.7219335579275157,
          -0.8249034989955244,
          0.22568956675330798,
          1.1878490166761204,
          0.31334447852348,
          -0.6713087278554175,
          -0.5290376401814103,
          -0.2876943572135842,
          0.5672204856324827,
          -0.449282558217461,
          -0.6981820207513473,
          0.8082651847932538,
          -0.019181806693774894,
          4.2916435775167745,
          -1.269755571140363,
          -0.3870760838862538,
          -0.6601427654400703,
          -0.6546102397683071,
          0.15300974232894785,
          -0.003850054221469168,
          -1.0650190789303886,
          -0.6175560766519699,
          -0.6100003161641921,
          -0.25741985699979414,
          -0.7950774322099688,
          -0.02825081317390013,
          -0.34693565780837854,
          -0.6948953005116763,
          -0.9796331256177258,
          -0.6155084649016138,
          -1.06866178134426,
          -0.8736160813796527,
          -0.7442542848470607,
          -0.6553944182295354,
          0.3697013357958544,
          -0.6078294092313082,
          -0.6445710061563208,
          1.0335379828732036,
          -0.914170191862699,
          0.07527664950521493,
          3.3673306696905083,
          -0.13165130819479504,
          -0.42896999120780444,
          -0.5610307401604311,
          5.27174535590059,
          0.19566131240924245
         ],
         "y": [
          0.15871532309584493,
          0.32791347667524295,
          -0.6101180362249327,
          0.05468474440050321,
          1.030253286393535,
          3.2849209757126876,
          0.07071809694440721,
          -0.031142289779561558,
          0.4641423369889302,
          0.43212181151948353,
          -0.6022751539011414,
          -0.42378693023102443,
          0.2856594926582054,
          0.7650001678699484,
          -2.0931319242408066,
          -2.0378186974242443,
          0.33866559952463177,
          0.2666163913888865,
          0.021936711012098636,
          0.46687288711263514,
          1.0587849018755255,
          -1.2372443478461665,
          0.2472047339065424,
          0.2431419371438154,
          0.3101627128534527,
          -1.1992675964505317,
          0.11824219662886108,
          0.1449556328706878,
          -0.22668876359014417,
          -0.9310559243072235,
          0.3540691737931126,
          -1.2318249518117717,
          -0.43423534785520507,
          -0.7230840222908208,
          0.254012109317973,
          0.14081835571915757,
          -0.567904332230776,
          -0.23140791946543926,
          -1.3747431465427162,
          -0.6336902630789257,
          0.260746846291552,
          0.2797179717627811,
          0.044637422411568206,
          0.29272540815851894,
          0.2211367364874898,
          -0.6215944491533033,
          3.272436655906658
         ],
         "z": [
          0.04785753736404336,
          -2.579414434375234,
          0.10064726391396477,
          0.4434036554134671,
          -1.1616327838188032,
          -0.23106913662847994,
          0.05689363310476255,
          0.06639993802405428,
          0.1932529735099576,
          -0.9740691923658686,
          -0.22744330433309687,
          0.11974816282524367,
          0.23171292778295813,
          0.5426303482760149,
          -0.22338118554258785,
          0.2998174238749834,
          -0.231784087666923,
          -0.027779949586304902,
          0.09979338745433394,
          0.21804347770462412,
          0.043715928476378285,
          0.17563130235220173,
          -0.026711669359276897,
          -0.027970201238044435,
          0.5138239863379785,
          0.2815723550943409,
          0.5925479609048613,
          0.029464861342172757,
          0.1681087323634174,
          0.15244008709196186,
          -0.052044408518915,
          0.18433690687813561,
          0.04258529060126134,
          0.15571341864257826,
          -0.05209281265266731,
          -1.3598126241343218,
          0.15878278037603683,
          0.07318029833734394,
          -2.456638557958931,
          0.08684938234473791,
          0.7614182958215227,
          4.400095714917964,
          0.029743967924012474,
          0.2857171333203864,
          -0.026002585468588236,
          -0.5093096293381943,
          -0.3887725693894622
         ]
        }
       ],
       "layout": {}
      },
      "text/html": [
       "<div>\n",
       "        \n",
       "        \n",
       "            <div id=\"af685cd4-ed9f-46e0-b49c-63c0c439814c\" class=\"plotly-graph-div\" style=\"height:525px; width:100%;\"></div>\n",
       "            <script type=\"text/javascript\">\n",
       "                require([\"plotly\"], function(Plotly) {\n",
       "                    window.PLOTLYENV=window.PLOTLYENV || {};\n",
       "                    window.PLOTLYENV.BASE_URL='https://plot.ly';\n",
       "                    \n",
       "                if (document.getElementById(\"af685cd4-ed9f-46e0-b49c-63c0c439814c\")) {\n",
       "                    Plotly.newPlot(\n",
       "                        'af685cd4-ed9f-46e0-b49c-63c0c439814c',\n",
       "                        [{\"mode\": \"markers\", \"type\": \"scatter3d\", \"uid\": \"56d6b1bf-71eb-40c8-a503-bc52ab25d3da\", \"x\": [-0.48673825637804047, 1.7219335579275157, -0.8249034989955244, 0.22568956675330798, 1.1878490166761204, 0.31334447852348, -0.6713087278554175, -0.5290376401814103, -0.2876943572135842, 0.5672204856324827, -0.449282558217461, -0.6981820207513473, 0.8082651847932538, -0.019181806693774894, 4.2916435775167745, -1.269755571140363, -0.3870760838862538, -0.6601427654400703, -0.6546102397683071, 0.15300974232894785, -0.003850054221469168, -1.0650190789303886, -0.6175560766519699, -0.6100003161641921, -0.25741985699979414, -0.7950774322099688, -0.02825081317390013, -0.34693565780837854, -0.6948953005116763, -0.9796331256177258, -0.6155084649016138, -1.06866178134426, -0.8736160813796527, -0.7442542848470607, -0.6553944182295354, 0.3697013357958544, -0.6078294092313082, -0.6445710061563208, 1.0335379828732036, -0.914170191862699, 0.07527664950521493, 3.3673306696905083, -0.13165130819479504, -0.42896999120780444, -0.5610307401604311, 5.27174535590059, 0.19566131240924245], \"y\": [0.15871532309584493, 0.32791347667524295, -0.6101180362249327, 0.05468474440050321, 1.030253286393535, 3.2849209757126876, 0.07071809694440721, -0.031142289779561558, 0.4641423369889302, 0.43212181151948353, -0.6022751539011414, -0.42378693023102443, 0.2856594926582054, 0.7650001678699484, -2.0931319242408066, -2.0378186974242443, 0.33866559952463177, 0.2666163913888865, 0.021936711012098636, 0.46687288711263514, 1.0587849018755255, -1.2372443478461665, 0.2472047339065424, 0.2431419371438154, 0.3101627128534527, -1.1992675964505317, 0.11824219662886108, 0.1449556328706878, -0.22668876359014417, -0.9310559243072235, 0.3540691737931126, -1.2318249518117717, -0.43423534785520507, -0.7230840222908208, 0.254012109317973, 0.14081835571915757, -0.567904332230776, -0.23140791946543926, -1.3747431465427162, -0.6336902630789257, 0.260746846291552, 0.2797179717627811, 0.044637422411568206, 0.29272540815851894, 0.2211367364874898, -0.6215944491533033, 3.272436655906658], \"z\": [0.04785753736404336, -2.579414434375234, 0.10064726391396477, 0.4434036554134671, -1.1616327838188032, -0.23106913662847994, 0.05689363310476255, 0.06639993802405428, 0.1932529735099576, -0.9740691923658686, -0.22744330433309687, 0.11974816282524367, 0.23171292778295813, 0.5426303482760149, -0.22338118554258785, 0.2998174238749834, -0.231784087666923, -0.027779949586304902, 0.09979338745433394, 0.21804347770462412, 0.043715928476378285, 0.17563130235220173, -0.026711669359276897, -0.027970201238044435, 0.5138239863379785, 0.2815723550943409, 0.5925479609048613, 0.029464861342172757, 0.1681087323634174, 0.15244008709196186, -0.052044408518915, 0.18433690687813561, 0.04258529060126134, 0.15571341864257826, -0.05209281265266731, -1.3598126241343218, 0.15878278037603683, 0.07318029833734394, -2.456638557958931, 0.08684938234473791, 0.7614182958215227, 4.400095714917964, 0.029743967924012474, 0.2857171333203864, -0.026002585468588236, -0.5093096293381943, -0.3887725693894622]}],\n",
       "                        {},\n",
       "                        {\"showLink\": false, \"linkText\": \"Export to plot.ly\", \"plotlyServerURL\": \"https://plot.ly\", \"responsive\": true}\n",
       "                    ).then(function(){\n",
       "                            \n",
       "var gd = document.getElementById('af685cd4-ed9f-46e0-b49c-63c0c439814c');\n",
       "var x = new MutationObserver(function (mutations, observer) {{\n",
       "        var display = window.getComputedStyle(gd).display;\n",
       "        if (!display || display === 'none') {{\n",
       "            console.log([gd, 'removed!']);\n",
       "            Plotly.purge(gd);\n",
       "            observer.disconnect();\n",
       "        }}\n",
       "}});\n",
       "\n",
       "// Listen for the removal of the full notebook cells\n",
       "var notebookContainer = gd.closest('#notebook-container');\n",
       "if (notebookContainer) {{\n",
       "    x.observe(notebookContainer, {childList: true});\n",
       "}}\n",
       "\n",
       "// Listen for the clearing of the current output cell\n",
       "var outputEl = gd.closest('.output');\n",
       "if (outputEl) {{\n",
       "    x.observe(outputEl, {childList: true});\n",
       "}}\n",
       "\n",
       "                        })\n",
       "                };\n",
       "                });\n",
       "            </script>\n",
       "        </div>"
      ]
     },
     "metadata": {},
     "output_type": "display_data"
    }
   ],
   "source": [
    "from sklearn.decomposition import PCA\n",
    "\n",
    "## pca 3 component\n",
    "\n",
    "pca = PCA(n_components=3)\n",
    "pca.fit(normalized_pca_data)\n",
    "PCA(copy=True, iterated_power='auto', n_components=3, random_state=None,\n",
    "  svd_solver='auto', tol=0.0, whiten=False)\n",
    "print(pca.explained_variance_ratio_)  \n",
    "print(pca.singular_values_)  \n",
    "\n",
    "pca_3 = pca.transform(normalized_pca_data)\n",
    "\n",
    "\n",
    "data = [go.Scatter3d(x=pca_3[:,0],\n",
    "                     y=pca_3[:,1],\n",
    "                     z=pca_3[:,2],\n",
    "                    mode = 'markers'\n",
    "                    )\n",
    "]\n",
    "\n",
    "iplot(data,filename='pca_3')\n",
    "\n",
    "\n",
    "## no obvious group identify no need for futher clustering investigation of data"
   ]
  },
  {
   "cell_type": "code",
   "execution_count": 24,
   "metadata": {},
   "outputs": [
    {
     "name": "stdout",
     "output_type": "stream",
     "text": [
      "[0.42892288 0.2427137 ]\n",
      "[8.8837948  6.68276299]\n"
     ]
    },
    {
     "data": {
      "application/vnd.plotly.v1+json": {
       "config": {
        "linkText": "Export to plot.ly",
        "plotlyServerURL": "https://plot.ly",
        "responsive": true,
        "showLink": false
       },
       "data": [
        {
         "mode": "markers",
         "type": "scatter",
         "uid": "b5f3a878-c3ab-401c-a7c6-bd510e0dd72d",
         "x": [
          -0.48673825637804047,
          1.7219335579275157,
          -0.8249034989955244,
          0.22568956675330798,
          1.1878490166761204,
          0.31334447852348,
          -0.6713087278554175,
          -0.5290376401814103,
          -0.2876943572135842,
          0.5672204856324827,
          -0.449282558217461,
          -0.6981820207513473,
          0.8082651847932538,
          -0.019181806693774894,
          4.2916435775167745,
          -1.269755571140363,
          -0.3870760838862538,
          -0.6601427654400703,
          -0.6546102397683071,
          0.15300974232894785,
          -0.003850054221469168,
          -1.0650190789303886,
          -0.6175560766519699,
          -0.6100003161641921,
          -0.25741985699979414,
          -0.7950774322099688,
          -0.02825081317390013,
          -0.34693565780837854,
          -0.6948953005116763,
          -0.9796331256177258,
          -0.6155084649016138,
          -1.06866178134426,
          -0.8736160813796527,
          -0.7442542848470607,
          -0.6553944182295354,
          0.3697013357958544,
          -0.6078294092313082,
          -0.6445710061563208,
          1.0335379828732036,
          -0.914170191862699,
          0.07527664950521493,
          3.3673306696905083,
          -0.13165130819479504,
          -0.42896999120780444,
          -0.5610307401604311,
          5.27174535590059,
          0.19566131240924245
         ],
         "y": [
          0.15871532309584493,
          0.32791347667524295,
          -0.6101180362249327,
          0.05468474440050321,
          1.030253286393535,
          3.2849209757126876,
          0.07071809694440721,
          -0.031142289779561558,
          0.4641423369889302,
          0.43212181151948353,
          -0.6022751539011414,
          -0.42378693023102443,
          0.2856594926582054,
          0.7650001678699484,
          -2.0931319242408066,
          -2.0378186974242443,
          0.33866559952463177,
          0.2666163913888865,
          0.021936711012098636,
          0.46687288711263514,
          1.0587849018755255,
          -1.2372443478461665,
          0.2472047339065424,
          0.2431419371438154,
          0.3101627128534527,
          -1.1992675964505317,
          0.11824219662886108,
          0.1449556328706878,
          -0.22668876359014417,
          -0.9310559243072235,
          0.3540691737931126,
          -1.2318249518117717,
          -0.43423534785520507,
          -0.7230840222908208,
          0.254012109317973,
          0.14081835571915757,
          -0.567904332230776,
          -0.23140791946543926,
          -1.3747431465427162,
          -0.6336902630789257,
          0.260746846291552,
          0.2797179717627811,
          0.044637422411568206,
          0.29272540815851894,
          0.2211367364874898,
          -0.6215944491533033,
          3.272436655906658
         ]
        }
       ],
       "layout": {}
      },
      "text/html": [
       "<div>\n",
       "        \n",
       "        \n",
       "            <div id=\"380bb9ec-920a-4b12-9483-568dbef3e568\" class=\"plotly-graph-div\" style=\"height:525px; width:100%;\"></div>\n",
       "            <script type=\"text/javascript\">\n",
       "                require([\"plotly\"], function(Plotly) {\n",
       "                    window.PLOTLYENV=window.PLOTLYENV || {};\n",
       "                    window.PLOTLYENV.BASE_URL='https://plot.ly';\n",
       "                    \n",
       "                if (document.getElementById(\"380bb9ec-920a-4b12-9483-568dbef3e568\")) {\n",
       "                    Plotly.newPlot(\n",
       "                        '380bb9ec-920a-4b12-9483-568dbef3e568',\n",
       "                        [{\"mode\": \"markers\", \"type\": \"scatter\", \"uid\": \"d3341ffc-6e3e-487b-8527-763c0331eba3\", \"x\": [-0.48673825637804047, 1.7219335579275157, -0.8249034989955244, 0.22568956675330798, 1.1878490166761204, 0.31334447852348, -0.6713087278554175, -0.5290376401814103, -0.2876943572135842, 0.5672204856324827, -0.449282558217461, -0.6981820207513473, 0.8082651847932538, -0.019181806693774894, 4.2916435775167745, -1.269755571140363, -0.3870760838862538, -0.6601427654400703, -0.6546102397683071, 0.15300974232894785, -0.003850054221469168, -1.0650190789303886, -0.6175560766519699, -0.6100003161641921, -0.25741985699979414, -0.7950774322099688, -0.02825081317390013, -0.34693565780837854, -0.6948953005116763, -0.9796331256177258, -0.6155084649016138, -1.06866178134426, -0.8736160813796527, -0.7442542848470607, -0.6553944182295354, 0.3697013357958544, -0.6078294092313082, -0.6445710061563208, 1.0335379828732036, -0.914170191862699, 0.07527664950521493, 3.3673306696905083, -0.13165130819479504, -0.42896999120780444, -0.5610307401604311, 5.27174535590059, 0.19566131240924245], \"y\": [0.15871532309584493, 0.32791347667524295, -0.6101180362249327, 0.05468474440050321, 1.030253286393535, 3.2849209757126876, 0.07071809694440721, -0.031142289779561558, 0.4641423369889302, 0.43212181151948353, -0.6022751539011414, -0.42378693023102443, 0.2856594926582054, 0.7650001678699484, -2.0931319242408066, -2.0378186974242443, 0.33866559952463177, 0.2666163913888865, 0.021936711012098636, 0.46687288711263514, 1.0587849018755255, -1.2372443478461665, 0.2472047339065424, 0.2431419371438154, 0.3101627128534527, -1.1992675964505317, 0.11824219662886108, 0.1449556328706878, -0.22668876359014417, -0.9310559243072235, 0.3540691737931126, -1.2318249518117717, -0.43423534785520507, -0.7230840222908208, 0.254012109317973, 0.14081835571915757, -0.567904332230776, -0.23140791946543926, -1.3747431465427162, -0.6336902630789257, 0.260746846291552, 0.2797179717627811, 0.044637422411568206, 0.29272540815851894, 0.2211367364874898, -0.6215944491533033, 3.272436655906658]}],\n",
       "                        {},\n",
       "                        {\"showLink\": false, \"linkText\": \"Export to plot.ly\", \"plotlyServerURL\": \"https://plot.ly\", \"responsive\": true}\n",
       "                    ).then(function(){\n",
       "                            \n",
       "var gd = document.getElementById('380bb9ec-920a-4b12-9483-568dbef3e568');\n",
       "var x = new MutationObserver(function (mutations, observer) {{\n",
       "        var display = window.getComputedStyle(gd).display;\n",
       "        if (!display || display === 'none') {{\n",
       "            console.log([gd, 'removed!']);\n",
       "            Plotly.purge(gd);\n",
       "            observer.disconnect();\n",
       "        }}\n",
       "}});\n",
       "\n",
       "// Listen for the removal of the full notebook cells\n",
       "var notebookContainer = gd.closest('#notebook-container');\n",
       "if (notebookContainer) {{\n",
       "    x.observe(notebookContainer, {childList: true});\n",
       "}}\n",
       "\n",
       "// Listen for the clearing of the current output cell\n",
       "var outputEl = gd.closest('.output');\n",
       "if (outputEl) {{\n",
       "    x.observe(outputEl, {childList: true});\n",
       "}}\n",
       "\n",
       "                        })\n",
       "                };\n",
       "                });\n",
       "            </script>\n",
       "        </div>"
      ]
     },
     "metadata": {},
     "output_type": "display_data"
    }
   ],
   "source": [
    "## pca two component\n",
    "pca = PCA(n_components=2)\n",
    "pca.fit(normalized_pca_data)\n",
    "PCA(copy=True, iterated_power='auto', n_components=2, random_state=None,\n",
    "  svd_solver='auto', tol=0.0, whiten=False)\n",
    "print(pca.explained_variance_ratio_)  \n",
    "print(pca.singular_values_)  \n",
    "\n",
    "pca_2 = pca.transform(normalized_pca_data)\n",
    "\n",
    "data = [go.Scatter(x=pca_2[:,0],\n",
    "                     y=pca_2[:,1],\n",
    "                    mode = 'markers'\n",
    "                    )\n",
    "]\n",
    "\n",
    "iplot(data,filename='pca_2')"
   ]
  },
  {
   "cell_type": "code",
   "execution_count": 25,
   "metadata": {},
   "outputs": [
    {
     "data": {
      "application/vnd.plotly.v1+json": {
       "config": {
        "linkText": "Export to plot.ly",
        "plotlyServerURL": "https://plot.ly",
        "responsive": true,
        "showLink": false
       },
       "data": [
        {
         "mode": "markers",
         "name": "pca_0",
         "type": "scatter3d",
         "uid": "edc84466-f68d-4324-bd2c-786ed18b2f4c",
         "x": [
          -0.48673825637804047,
          1.7219335579275157,
          -0.8249034989955244,
          0.22568956675330798,
          1.1878490166761204,
          0.31334447852348,
          -0.6713087278554175,
          -0.5290376401814103,
          -0.2876943572135842,
          0.5672204856324827,
          -0.449282558217461,
          -0.6981820207513473,
          0.8082651847932538,
          -0.019181806693774894,
          -1.269755571140363,
          -0.3870760838862538,
          -0.6601427654400703,
          -0.6546102397683071,
          0.15300974232894785,
          -0.003850054221469168,
          -1.0650190789303886,
          -0.6175560766519699,
          -0.6100003161641921,
          -0.25741985699979414,
          -0.7950774322099688,
          -0.02825081317390013,
          -0.34693565780837854,
          -0.6948953005116763,
          -0.9796331256177258,
          -0.6155084649016138,
          -1.06866178134426,
          -0.8736160813796527,
          -0.7442542848470607,
          -0.6553944182295354,
          0.3697013357958544,
          -0.6078294092313082,
          -0.6445710061563208,
          1.0335379828732036,
          -0.914170191862699,
          0.07527664950521493,
          -0.13165130819479504,
          -0.42896999120780444,
          -0.5610307401604311,
          0.19566131240924245
         ],
         "y": [
          0.15871532309584493,
          0.32791347667524295,
          -0.6101180362249327,
          0.05468474440050321,
          1.030253286393535,
          3.2849209757126876,
          0.07071809694440721,
          -0.031142289779561558,
          0.4641423369889302,
          0.43212181151948353,
          -0.6022751539011414,
          -0.42378693023102443,
          0.2856594926582054,
          0.7650001678699484,
          -2.0378186974242443,
          0.33866559952463177,
          0.2666163913888865,
          0.021936711012098636,
          0.46687288711263514,
          1.0587849018755255,
          -1.2372443478461665,
          0.2472047339065424,
          0.2431419371438154,
          0.3101627128534527,
          -1.1992675964505317,
          0.11824219662886108,
          0.1449556328706878,
          -0.22668876359014417,
          -0.9310559243072235,
          0.3540691737931126,
          -1.2318249518117717,
          -0.43423534785520507,
          -0.7230840222908208,
          0.254012109317973,
          0.14081835571915757,
          -0.567904332230776,
          -0.23140791946543926,
          -1.3747431465427162,
          -0.6336902630789257,
          0.260746846291552,
          0.044637422411568206,
          0.29272540815851894,
          0.2211367364874898,
          3.272436655906658
         ],
         "z": [
          0.04785753736404336,
          -2.579414434375234,
          0.10064726391396477,
          0.4434036554134671,
          -1.1616327838188032,
          -0.23106913662847994,
          0.05689363310476255,
          0.06639993802405428,
          0.1932529735099576,
          -0.9740691923658686,
          -0.22744330433309687,
          0.11974816282524367,
          0.23171292778295813,
          0.5426303482760149,
          0.2998174238749834,
          -0.231784087666923,
          -0.027779949586304902,
          0.09979338745433394,
          0.21804347770462412,
          0.043715928476378285,
          0.17563130235220173,
          -0.026711669359276897,
          -0.027970201238044435,
          0.5138239863379785,
          0.2815723550943409,
          0.5925479609048613,
          0.029464861342172757,
          0.1681087323634174,
          0.15244008709196186,
          -0.052044408518915,
          0.18433690687813561,
          0.04258529060126134,
          0.15571341864257826,
          -0.05209281265266731,
          -1.3598126241343218,
          0.15878278037603683,
          0.07318029833734394,
          -2.456638557958931,
          0.08684938234473791,
          0.7614182958215227,
          0.029743967924012474,
          0.2857171333203864,
          -0.026002585468588236,
          -0.3887725693894622
         ]
        },
        {
         "mode": "markers",
         "name": "pca_1",
         "type": "scatter3d",
         "uid": "364890c2-b76e-48ba-87db-7257b72fc69c",
         "x": [
          4.2916435775167745,
          3.3673306696905083,
          5.27174535590059
         ],
         "y": [
          -2.0931319242408066,
          0.2797179717627811,
          -0.6215944491533033
         ],
         "z": [
          -0.22338118554258785,
          4.400095714917964,
          -0.5093096293381943
         ]
        }
       ],
       "layout": {}
      },
      "text/html": [
       "<div>\n",
       "        \n",
       "        \n",
       "            <div id=\"ab2774f1-549d-4388-b251-74886b06b7fa\" class=\"plotly-graph-div\" style=\"height:525px; width:100%;\"></div>\n",
       "            <script type=\"text/javascript\">\n",
       "                require([\"plotly\"], function(Plotly) {\n",
       "                    window.PLOTLYENV=window.PLOTLYENV || {};\n",
       "                    window.PLOTLYENV.BASE_URL='https://plot.ly';\n",
       "                    \n",
       "                if (document.getElementById(\"ab2774f1-549d-4388-b251-74886b06b7fa\")) {\n",
       "                    Plotly.newPlot(\n",
       "                        'ab2774f1-549d-4388-b251-74886b06b7fa',\n",
       "                        [{\"mode\": \"markers\", \"name\": \"pca_0\", \"type\": \"scatter3d\", \"uid\": \"546d4abd-82cf-452c-b15c-948cff105fec\", \"x\": [-0.48673825637804047, 1.7219335579275157, -0.8249034989955244, 0.22568956675330798, 1.1878490166761204, 0.31334447852348, -0.6713087278554175, -0.5290376401814103, -0.2876943572135842, 0.5672204856324827, -0.449282558217461, -0.6981820207513473, 0.8082651847932538, -0.019181806693774894, -1.269755571140363, -0.3870760838862538, -0.6601427654400703, -0.6546102397683071, 0.15300974232894785, -0.003850054221469168, -1.0650190789303886, -0.6175560766519699, -0.6100003161641921, -0.25741985699979414, -0.7950774322099688, -0.02825081317390013, -0.34693565780837854, -0.6948953005116763, -0.9796331256177258, -0.6155084649016138, -1.06866178134426, -0.8736160813796527, -0.7442542848470607, -0.6553944182295354, 0.3697013357958544, -0.6078294092313082, -0.6445710061563208, 1.0335379828732036, -0.914170191862699, 0.07527664950521493, -0.13165130819479504, -0.42896999120780444, -0.5610307401604311, 0.19566131240924245], \"y\": [0.15871532309584493, 0.32791347667524295, -0.6101180362249327, 0.05468474440050321, 1.030253286393535, 3.2849209757126876, 0.07071809694440721, -0.031142289779561558, 0.4641423369889302, 0.43212181151948353, -0.6022751539011414, -0.42378693023102443, 0.2856594926582054, 0.7650001678699484, -2.0378186974242443, 0.33866559952463177, 0.2666163913888865, 0.021936711012098636, 0.46687288711263514, 1.0587849018755255, -1.2372443478461665, 0.2472047339065424, 0.2431419371438154, 0.3101627128534527, -1.1992675964505317, 0.11824219662886108, 0.1449556328706878, -0.22668876359014417, -0.9310559243072235, 0.3540691737931126, -1.2318249518117717, -0.43423534785520507, -0.7230840222908208, 0.254012109317973, 0.14081835571915757, -0.567904332230776, -0.23140791946543926, -1.3747431465427162, -0.6336902630789257, 0.260746846291552, 0.044637422411568206, 0.29272540815851894, 0.2211367364874898, 3.272436655906658], \"z\": [0.04785753736404336, -2.579414434375234, 0.10064726391396477, 0.4434036554134671, -1.1616327838188032, -0.23106913662847994, 0.05689363310476255, 0.06639993802405428, 0.1932529735099576, -0.9740691923658686, -0.22744330433309687, 0.11974816282524367, 0.23171292778295813, 0.5426303482760149, 0.2998174238749834, -0.231784087666923, -0.027779949586304902, 0.09979338745433394, 0.21804347770462412, 0.043715928476378285, 0.17563130235220173, -0.026711669359276897, -0.027970201238044435, 0.5138239863379785, 0.2815723550943409, 0.5925479609048613, 0.029464861342172757, 0.1681087323634174, 0.15244008709196186, -0.052044408518915, 0.18433690687813561, 0.04258529060126134, 0.15571341864257826, -0.05209281265266731, -1.3598126241343218, 0.15878278037603683, 0.07318029833734394, -2.456638557958931, 0.08684938234473791, 0.7614182958215227, 0.029743967924012474, 0.2857171333203864, -0.026002585468588236, -0.3887725693894622]}, {\"mode\": \"markers\", \"name\": \"pca_1\", \"type\": \"scatter3d\", \"uid\": \"f2dd2db0-77be-4385-b827-3a59b9f3227b\", \"x\": [4.2916435775167745, 3.3673306696905083, 5.27174535590059], \"y\": [-2.0931319242408066, 0.2797179717627811, -0.6215944491533033], \"z\": [-0.22338118554258785, 4.400095714917964, -0.5093096293381943]}],\n",
       "                        {},\n",
       "                        {\"showLink\": false, \"linkText\": \"Export to plot.ly\", \"plotlyServerURL\": \"https://plot.ly\", \"responsive\": true}\n",
       "                    ).then(function(){\n",
       "                            \n",
       "var gd = document.getElementById('ab2774f1-549d-4388-b251-74886b06b7fa');\n",
       "var x = new MutationObserver(function (mutations, observer) {{\n",
       "        var display = window.getComputedStyle(gd).display;\n",
       "        if (!display || display === 'none') {{\n",
       "            console.log([gd, 'removed!']);\n",
       "            Plotly.purge(gd);\n",
       "            observer.disconnect();\n",
       "        }}\n",
       "}});\n",
       "\n",
       "// Listen for the removal of the full notebook cells\n",
       "var notebookContainer = gd.closest('#notebook-container');\n",
       "if (notebookContainer) {{\n",
       "    x.observe(notebookContainer, {childList: true});\n",
       "}}\n",
       "\n",
       "// Listen for the clearing of the current output cell\n",
       "var outputEl = gd.closest('.output');\n",
       "if (outputEl) {{\n",
       "    x.observe(outputEl, {childList: true});\n",
       "}}\n",
       "\n",
       "                        })\n",
       "                };\n",
       "                });\n",
       "            </script>\n",
       "        </div>"
      ]
     },
     "metadata": {},
     "output_type": "display_data"
    },
    {
     "data": {
      "application/vnd.plotly.v1+json": {
       "config": {
        "linkText": "Export to plot.ly",
        "plotlyServerURL": "https://plot.ly",
        "responsive": true,
        "showLink": false
       },
       "data": [
        {
         "mode": "markers",
         "name": "pca_0",
         "type": "scatter3d",
         "uid": "1bf71582-d522-40fa-97dd-d35c3021d56b",
         "x": [
          -0.48673825637804047,
          -0.8249034989955244,
          0.22568956675330798,
          -0.6713087278554175,
          -0.5290376401814103,
          -0.2876943572135842,
          -0.449282558217461,
          -0.6981820207513473,
          0.8082651847932538,
          -0.019181806693774894,
          -1.269755571140363,
          -0.3870760838862538,
          -0.6601427654400703,
          -0.6546102397683071,
          0.15300974232894785,
          -0.003850054221469168,
          -1.0650190789303886,
          -0.6175560766519699,
          -0.6100003161641921,
          -0.25741985699979414,
          -0.7950774322099688,
          -0.02825081317390013,
          -0.34693565780837854,
          -0.6948953005116763,
          -0.9796331256177258,
          -0.6155084649016138,
          -1.06866178134426,
          -0.8736160813796527,
          -0.7442542848470607,
          -0.6553944182295354,
          -0.6078294092313082,
          -0.6445710061563208,
          -0.914170191862699,
          0.07527664950521493,
          -0.13165130819479504,
          -0.42896999120780444,
          -0.5610307401604311
         ],
         "y": [
          0.15871532309584493,
          -0.6101180362249327,
          0.05468474440050321,
          0.07071809694440721,
          -0.031142289779561558,
          0.4641423369889302,
          -0.6022751539011414,
          -0.42378693023102443,
          0.2856594926582054,
          0.7650001678699484,
          -2.0378186974242443,
          0.33866559952463177,
          0.2666163913888865,
          0.021936711012098636,
          0.46687288711263514,
          1.0587849018755255,
          -1.2372443478461665,
          0.2472047339065424,
          0.2431419371438154,
          0.3101627128534527,
          -1.1992675964505317,
          0.11824219662886108,
          0.1449556328706878,
          -0.22668876359014417,
          -0.9310559243072235,
          0.3540691737931126,
          -1.2318249518117717,
          -0.43423534785520507,
          -0.7230840222908208,
          0.254012109317973,
          -0.567904332230776,
          -0.23140791946543926,
          -0.6336902630789257,
          0.260746846291552,
          0.044637422411568206,
          0.29272540815851894,
          0.2211367364874898
         ],
         "z": [
          0.04785753736404336,
          0.10064726391396477,
          0.4434036554134671,
          0.05689363310476255,
          0.06639993802405428,
          0.1932529735099576,
          -0.22744330433309687,
          0.11974816282524367,
          0.23171292778295813,
          0.5426303482760149,
          0.2998174238749834,
          -0.231784087666923,
          -0.027779949586304902,
          0.09979338745433394,
          0.21804347770462412,
          0.043715928476378285,
          0.17563130235220173,
          -0.026711669359276897,
          -0.027970201238044435,
          0.5138239863379785,
          0.2815723550943409,
          0.5925479609048613,
          0.029464861342172757,
          0.1681087323634174,
          0.15244008709196186,
          -0.052044408518915,
          0.18433690687813561,
          0.04258529060126134,
          0.15571341864257826,
          -0.05209281265266731,
          0.15878278037603683,
          0.07318029833734394,
          0.08684938234473791,
          0.7614182958215227,
          0.029743967924012474,
          0.2857171333203864,
          -0.026002585468588236
         ]
        },
        {
         "mode": "markers",
         "name": "pca_1",
         "type": "scatter3d",
         "uid": "185a335d-a4ab-4f17-96c8-c0fa51f0d4cb",
         "x": [
          4.2916435775167745,
          3.3673306696905083,
          5.27174535590059
         ],
         "y": [
          -2.0931319242408066,
          0.2797179717627811,
          -0.6215944491533033
         ],
         "z": [
          -0.22338118554258785,
          4.400095714917964,
          -0.5093096293381943
         ]
        },
        {
         "mode": "markers",
         "name": "pca_2",
         "type": "scatter3d",
         "uid": "ae06522c-872c-45df-b337-b62d4c8a9119",
         "x": [
          1.7219335579275157,
          1.1878490166761204,
          0.31334447852348,
          0.5672204856324827,
          0.3697013357958544,
          1.0335379828732036,
          0.19566131240924245
         ],
         "y": [
          0.32791347667524295,
          1.030253286393535,
          3.2849209757126876,
          0.43212181151948353,
          0.14081835571915757,
          -1.3747431465427162,
          3.272436655906658
         ],
         "z": [
          -2.579414434375234,
          -1.1616327838188032,
          -0.23106913662847994,
          -0.9740691923658686,
          -1.3598126241343218,
          -2.456638557958931,
          -0.3887725693894622
         ]
        }
       ],
       "layout": {}
      },
      "text/html": [
       "<div>\n",
       "        \n",
       "        \n",
       "            <div id=\"288ed489-5d2b-4949-9889-cd78d3d80816\" class=\"plotly-graph-div\" style=\"height:525px; width:100%;\"></div>\n",
       "            <script type=\"text/javascript\">\n",
       "                require([\"plotly\"], function(Plotly) {\n",
       "                    window.PLOTLYENV=window.PLOTLYENV || {};\n",
       "                    window.PLOTLYENV.BASE_URL='https://plot.ly';\n",
       "                    \n",
       "                if (document.getElementById(\"288ed489-5d2b-4949-9889-cd78d3d80816\")) {\n",
       "                    Plotly.newPlot(\n",
       "                        '288ed489-5d2b-4949-9889-cd78d3d80816',\n",
       "                        [{\"mode\": \"markers\", \"name\": \"pca_0\", \"type\": \"scatter3d\", \"uid\": \"c8dd1438-a2ba-4126-95ce-787310e4b640\", \"x\": [-0.48673825637804047, -0.8249034989955244, 0.22568956675330798, -0.6713087278554175, -0.5290376401814103, -0.2876943572135842, -0.449282558217461, -0.6981820207513473, 0.8082651847932538, -0.019181806693774894, -1.269755571140363, -0.3870760838862538, -0.6601427654400703, -0.6546102397683071, 0.15300974232894785, -0.003850054221469168, -1.0650190789303886, -0.6175560766519699, -0.6100003161641921, -0.25741985699979414, -0.7950774322099688, -0.02825081317390013, -0.34693565780837854, -0.6948953005116763, -0.9796331256177258, -0.6155084649016138, -1.06866178134426, -0.8736160813796527, -0.7442542848470607, -0.6553944182295354, -0.6078294092313082, -0.6445710061563208, -0.914170191862699, 0.07527664950521493, -0.13165130819479504, -0.42896999120780444, -0.5610307401604311], \"y\": [0.15871532309584493, -0.6101180362249327, 0.05468474440050321, 0.07071809694440721, -0.031142289779561558, 0.4641423369889302, -0.6022751539011414, -0.42378693023102443, 0.2856594926582054, 0.7650001678699484, -2.0378186974242443, 0.33866559952463177, 0.2666163913888865, 0.021936711012098636, 0.46687288711263514, 1.0587849018755255, -1.2372443478461665, 0.2472047339065424, 0.2431419371438154, 0.3101627128534527, -1.1992675964505317, 0.11824219662886108, 0.1449556328706878, -0.22668876359014417, -0.9310559243072235, 0.3540691737931126, -1.2318249518117717, -0.43423534785520507, -0.7230840222908208, 0.254012109317973, -0.567904332230776, -0.23140791946543926, -0.6336902630789257, 0.260746846291552, 0.044637422411568206, 0.29272540815851894, 0.2211367364874898], \"z\": [0.04785753736404336, 0.10064726391396477, 0.4434036554134671, 0.05689363310476255, 0.06639993802405428, 0.1932529735099576, -0.22744330433309687, 0.11974816282524367, 0.23171292778295813, 0.5426303482760149, 0.2998174238749834, -0.231784087666923, -0.027779949586304902, 0.09979338745433394, 0.21804347770462412, 0.043715928476378285, 0.17563130235220173, -0.026711669359276897, -0.027970201238044435, 0.5138239863379785, 0.2815723550943409, 0.5925479609048613, 0.029464861342172757, 0.1681087323634174, 0.15244008709196186, -0.052044408518915, 0.18433690687813561, 0.04258529060126134, 0.15571341864257826, -0.05209281265266731, 0.15878278037603683, 0.07318029833734394, 0.08684938234473791, 0.7614182958215227, 0.029743967924012474, 0.2857171333203864, -0.026002585468588236]}, {\"mode\": \"markers\", \"name\": \"pca_1\", \"type\": \"scatter3d\", \"uid\": \"070acd05-a091-49e4-8804-400566d9d47d\", \"x\": [4.2916435775167745, 3.3673306696905083, 5.27174535590059], \"y\": [-2.0931319242408066, 0.2797179717627811, -0.6215944491533033], \"z\": [-0.22338118554258785, 4.400095714917964, -0.5093096293381943]}, {\"mode\": \"markers\", \"name\": \"pca_2\", \"type\": \"scatter3d\", \"uid\": \"75cd789d-9a31-401e-a766-4ee79507029b\", \"x\": [1.7219335579275157, 1.1878490166761204, 0.31334447852348, 0.5672204856324827, 0.3697013357958544, 1.0335379828732036, 0.19566131240924245], \"y\": [0.32791347667524295, 1.030253286393535, 3.2849209757126876, 0.43212181151948353, 0.14081835571915757, -1.3747431465427162, 3.272436655906658], \"z\": [-2.579414434375234, -1.1616327838188032, -0.23106913662847994, -0.9740691923658686, -1.3598126241343218, -2.456638557958931, -0.3887725693894622]}],\n",
       "                        {},\n",
       "                        {\"showLink\": false, \"linkText\": \"Export to plot.ly\", \"plotlyServerURL\": \"https://plot.ly\", \"responsive\": true}\n",
       "                    ).then(function(){\n",
       "                            \n",
       "var gd = document.getElementById('288ed489-5d2b-4949-9889-cd78d3d80816');\n",
       "var x = new MutationObserver(function (mutations, observer) {{\n",
       "        var display = window.getComputedStyle(gd).display;\n",
       "        if (!display || display === 'none') {{\n",
       "            console.log([gd, 'removed!']);\n",
       "            Plotly.purge(gd);\n",
       "            observer.disconnect();\n",
       "        }}\n",
       "}});\n",
       "\n",
       "// Listen for the removal of the full notebook cells\n",
       "var notebookContainer = gd.closest('#notebook-container');\n",
       "if (notebookContainer) {{\n",
       "    x.observe(notebookContainer, {childList: true});\n",
       "}}\n",
       "\n",
       "// Listen for the clearing of the current output cell\n",
       "var outputEl = gd.closest('.output');\n",
       "if (outputEl) {{\n",
       "    x.observe(outputEl, {childList: true});\n",
       "}}\n",
       "\n",
       "                        })\n",
       "                };\n",
       "                });\n",
       "            </script>\n",
       "        </div>"
      ]
     },
     "metadata": {},
     "output_type": "display_data"
    },
    {
     "data": {
      "application/vnd.plotly.v1+json": {
       "config": {
        "linkText": "Export to plot.ly",
        "plotlyServerURL": "https://plot.ly",
        "responsive": true,
        "showLink": false
       },
       "data": [
        {
         "mode": "markers",
         "name": "pca_0",
         "type": "scatter3d",
         "uid": "f4a573a2-b3f6-4c20-bd91-fa93bea9f6eb",
         "x": [
          -0.48673825637804047,
          -0.8249034989955244,
          0.22568956675330798,
          -0.6713087278554175,
          -0.5290376401814103,
          -0.2876943572135842,
          -0.449282558217461,
          -0.6981820207513473,
          0.8082651847932538,
          -0.019181806693774894,
          -1.269755571140363,
          -0.3870760838862538,
          -0.6601427654400703,
          -0.6546102397683071,
          0.15300974232894785,
          -0.003850054221469168,
          -1.0650190789303886,
          -0.6175560766519699,
          -0.6100003161641921,
          -0.25741985699979414,
          -0.7950774322099688,
          -0.02825081317390013,
          -0.34693565780837854,
          -0.6948953005116763,
          -0.9796331256177258,
          -0.6155084649016138,
          -1.06866178134426,
          -0.8736160813796527,
          -0.7442542848470607,
          -0.6553944182295354,
          -0.6078294092313082,
          -0.6445710061563208,
          -0.914170191862699,
          0.07527664950521493,
          -0.13165130819479504,
          -0.42896999120780444,
          -0.5610307401604311
         ],
         "y": [
          0.15871532309584493,
          -0.6101180362249327,
          0.05468474440050321,
          0.07071809694440721,
          -0.031142289779561558,
          0.4641423369889302,
          -0.6022751539011414,
          -0.42378693023102443,
          0.2856594926582054,
          0.7650001678699484,
          -2.0378186974242443,
          0.33866559952463177,
          0.2666163913888865,
          0.021936711012098636,
          0.46687288711263514,
          1.0587849018755255,
          -1.2372443478461665,
          0.2472047339065424,
          0.2431419371438154,
          0.3101627128534527,
          -1.1992675964505317,
          0.11824219662886108,
          0.1449556328706878,
          -0.22668876359014417,
          -0.9310559243072235,
          0.3540691737931126,
          -1.2318249518117717,
          -0.43423534785520507,
          -0.7230840222908208,
          0.254012109317973,
          -0.567904332230776,
          -0.23140791946543926,
          -0.6336902630789257,
          0.260746846291552,
          0.044637422411568206,
          0.29272540815851894,
          0.2211367364874898
         ],
         "z": [
          0.04785753736404336,
          0.10064726391396477,
          0.4434036554134671,
          0.05689363310476255,
          0.06639993802405428,
          0.1932529735099576,
          -0.22744330433309687,
          0.11974816282524367,
          0.23171292778295813,
          0.5426303482760149,
          0.2998174238749834,
          -0.231784087666923,
          -0.027779949586304902,
          0.09979338745433394,
          0.21804347770462412,
          0.043715928476378285,
          0.17563130235220173,
          -0.026711669359276897,
          -0.027970201238044435,
          0.5138239863379785,
          0.2815723550943409,
          0.5925479609048613,
          0.029464861342172757,
          0.1681087323634174,
          0.15244008709196186,
          -0.052044408518915,
          0.18433690687813561,
          0.04258529060126134,
          0.15571341864257826,
          -0.05209281265266731,
          0.15878278037603683,
          0.07318029833734394,
          0.08684938234473791,
          0.7614182958215227,
          0.029743967924012474,
          0.2857171333203864,
          -0.026002585468588236
         ]
        },
        {
         "mode": "markers",
         "name": "pca_1",
         "type": "scatter3d",
         "uid": "8853bacd-46f4-4807-9155-d832f6a9cc19",
         "x": [
          1.7219335579275157,
          1.1878490166761204,
          0.31334447852348,
          0.5672204856324827,
          0.3697013357958544,
          1.0335379828732036,
          0.19566131240924245
         ],
         "y": [
          0.32791347667524295,
          1.030253286393535,
          3.2849209757126876,
          0.43212181151948353,
          0.14081835571915757,
          -1.3747431465427162,
          3.272436655906658
         ],
         "z": [
          -2.579414434375234,
          -1.1616327838188032,
          -0.23106913662847994,
          -0.9740691923658686,
          -1.3598126241343218,
          -2.456638557958931,
          -0.3887725693894622
         ]
        },
        {
         "mode": "markers",
         "name": "pca_2",
         "type": "scatter3d",
         "uid": "09d7d49b-021d-4b35-9fe0-3fb1e38cedb9",
         "x": [
          4.2916435775167745,
          5.27174535590059
         ],
         "y": [
          -2.0931319242408066,
          -0.6215944491533033
         ],
         "z": [
          -0.22338118554258785,
          -0.5093096293381943
         ]
        },
        {
         "mode": "markers",
         "name": "pca_3",
         "type": "scatter3d",
         "uid": "1e3b96e0-d938-44fd-8d2d-2a0f518bd016",
         "x": [
          3.3673306696905083
         ],
         "y": [
          0.2797179717627811
         ],
         "z": [
          4.400095714917964
         ]
        }
       ],
       "layout": {}
      },
      "text/html": [
       "<div>\n",
       "        \n",
       "        \n",
       "            <div id=\"4aa13787-6094-4d88-b3a6-475ccc12f4cc\" class=\"plotly-graph-div\" style=\"height:525px; width:100%;\"></div>\n",
       "            <script type=\"text/javascript\">\n",
       "                require([\"plotly\"], function(Plotly) {\n",
       "                    window.PLOTLYENV=window.PLOTLYENV || {};\n",
       "                    window.PLOTLYENV.BASE_URL='https://plot.ly';\n",
       "                    \n",
       "                if (document.getElementById(\"4aa13787-6094-4d88-b3a6-475ccc12f4cc\")) {\n",
       "                    Plotly.newPlot(\n",
       "                        '4aa13787-6094-4d88-b3a6-475ccc12f4cc',\n",
       "                        [{\"mode\": \"markers\", \"name\": \"pca_0\", \"type\": \"scatter3d\", \"uid\": \"60c6993f-33ac-40b8-8a4a-1bf02aaac3de\", \"x\": [-0.48673825637804047, -0.8249034989955244, 0.22568956675330798, -0.6713087278554175, -0.5290376401814103, -0.2876943572135842, -0.449282558217461, -0.6981820207513473, 0.8082651847932538, -0.019181806693774894, -1.269755571140363, -0.3870760838862538, -0.6601427654400703, -0.6546102397683071, 0.15300974232894785, -0.003850054221469168, -1.0650190789303886, -0.6175560766519699, -0.6100003161641921, -0.25741985699979414, -0.7950774322099688, -0.02825081317390013, -0.34693565780837854, -0.6948953005116763, -0.9796331256177258, -0.6155084649016138, -1.06866178134426, -0.8736160813796527, -0.7442542848470607, -0.6553944182295354, -0.6078294092313082, -0.6445710061563208, -0.914170191862699, 0.07527664950521493, -0.13165130819479504, -0.42896999120780444, -0.5610307401604311], \"y\": [0.15871532309584493, -0.6101180362249327, 0.05468474440050321, 0.07071809694440721, -0.031142289779561558, 0.4641423369889302, -0.6022751539011414, -0.42378693023102443, 0.2856594926582054, 0.7650001678699484, -2.0378186974242443, 0.33866559952463177, 0.2666163913888865, 0.021936711012098636, 0.46687288711263514, 1.0587849018755255, -1.2372443478461665, 0.2472047339065424, 0.2431419371438154, 0.3101627128534527, -1.1992675964505317, 0.11824219662886108, 0.1449556328706878, -0.22668876359014417, -0.9310559243072235, 0.3540691737931126, -1.2318249518117717, -0.43423534785520507, -0.7230840222908208, 0.254012109317973, -0.567904332230776, -0.23140791946543926, -0.6336902630789257, 0.260746846291552, 0.044637422411568206, 0.29272540815851894, 0.2211367364874898], \"z\": [0.04785753736404336, 0.10064726391396477, 0.4434036554134671, 0.05689363310476255, 0.06639993802405428, 0.1932529735099576, -0.22744330433309687, 0.11974816282524367, 0.23171292778295813, 0.5426303482760149, 0.2998174238749834, -0.231784087666923, -0.027779949586304902, 0.09979338745433394, 0.21804347770462412, 0.043715928476378285, 0.17563130235220173, -0.026711669359276897, -0.027970201238044435, 0.5138239863379785, 0.2815723550943409, 0.5925479609048613, 0.029464861342172757, 0.1681087323634174, 0.15244008709196186, -0.052044408518915, 0.18433690687813561, 0.04258529060126134, 0.15571341864257826, -0.05209281265266731, 0.15878278037603683, 0.07318029833734394, 0.08684938234473791, 0.7614182958215227, 0.029743967924012474, 0.2857171333203864, -0.026002585468588236]}, {\"mode\": \"markers\", \"name\": \"pca_1\", \"type\": \"scatter3d\", \"uid\": \"a1be1fe9-9ff4-45fa-91ca-405912fc09dd\", \"x\": [1.7219335579275157, 1.1878490166761204, 0.31334447852348, 0.5672204856324827, 0.3697013357958544, 1.0335379828732036, 0.19566131240924245], \"y\": [0.32791347667524295, 1.030253286393535, 3.2849209757126876, 0.43212181151948353, 0.14081835571915757, -1.3747431465427162, 3.272436655906658], \"z\": [-2.579414434375234, -1.1616327838188032, -0.23106913662847994, -0.9740691923658686, -1.3598126241343218, -2.456638557958931, -0.3887725693894622]}, {\"mode\": \"markers\", \"name\": \"pca_2\", \"type\": \"scatter3d\", \"uid\": \"58d9f979-d2e2-4e1a-8280-5be95886a0a7\", \"x\": [4.2916435775167745, 5.27174535590059], \"y\": [-2.0931319242408066, -0.6215944491533033], \"z\": [-0.22338118554258785, -0.5093096293381943]}, {\"mode\": \"markers\", \"name\": \"pca_3\", \"type\": \"scatter3d\", \"uid\": \"174ebbb7-c72c-4ed8-a7a1-56e9ab32a50f\", \"x\": [3.3673306696905083], \"y\": [0.2797179717627811], \"z\": [4.400095714917964]}],\n",
       "                        {},\n",
       "                        {\"showLink\": false, \"linkText\": \"Export to plot.ly\", \"plotlyServerURL\": \"https://plot.ly\", \"responsive\": true}\n",
       "                    ).then(function(){\n",
       "                            \n",
       "var gd = document.getElementById('4aa13787-6094-4d88-b3a6-475ccc12f4cc');\n",
       "var x = new MutationObserver(function (mutations, observer) {{\n",
       "        var display = window.getComputedStyle(gd).display;\n",
       "        if (!display || display === 'none') {{\n",
       "            console.log([gd, 'removed!']);\n",
       "            Plotly.purge(gd);\n",
       "            observer.disconnect();\n",
       "        }}\n",
       "}});\n",
       "\n",
       "// Listen for the removal of the full notebook cells\n",
       "var notebookContainer = gd.closest('#notebook-container');\n",
       "if (notebookContainer) {{\n",
       "    x.observe(notebookContainer, {childList: true});\n",
       "}}\n",
       "\n",
       "// Listen for the clearing of the current output cell\n",
       "var outputEl = gd.closest('.output');\n",
       "if (outputEl) {{\n",
       "    x.observe(outputEl, {childList: true});\n",
       "}}\n",
       "\n",
       "                        })\n",
       "                };\n",
       "                });\n",
       "            </script>\n",
       "        </div>"
      ]
     },
     "metadata": {},
     "output_type": "display_data"
    },
    {
     "data": {
      "application/vnd.plotly.v1+json": {
       "config": {
        "linkText": "Export to plot.ly",
        "plotlyServerURL": "https://plot.ly",
        "responsive": true,
        "showLink": false
       },
       "data": [
        {
         "mode": "markers",
         "name": "pca_0",
         "type": "scatter3d",
         "uid": "7ae03a1e-b3a2-45ee-b1da-70c9918883ab",
         "x": [
          -0.48673825637804047,
          -0.8249034989955244,
          0.22568956675330798,
          -0.6713087278554175,
          -0.5290376401814103,
          -0.2876943572135842,
          -0.449282558217461,
          -0.6981820207513473,
          0.8082651847932538,
          -0.019181806693774894,
          -1.269755571140363,
          -0.3870760838862538,
          -0.6601427654400703,
          -0.6546102397683071,
          0.15300974232894785,
          -0.003850054221469168,
          -1.0650190789303886,
          -0.6175560766519699,
          -0.6100003161641921,
          -0.25741985699979414,
          -0.7950774322099688,
          -0.02825081317390013,
          -0.34693565780837854,
          -0.6948953005116763,
          -0.9796331256177258,
          -0.6155084649016138,
          -1.06866178134426,
          -0.8736160813796527,
          -0.7442542848470607,
          -0.6553944182295354,
          -0.6078294092313082,
          -0.6445710061563208,
          -0.914170191862699,
          0.07527664950521493,
          -0.13165130819479504,
          -0.42896999120780444,
          -0.5610307401604311
         ],
         "y": [
          0.15871532309584493,
          -0.6101180362249327,
          0.05468474440050321,
          0.07071809694440721,
          -0.031142289779561558,
          0.4641423369889302,
          -0.6022751539011414,
          -0.42378693023102443,
          0.2856594926582054,
          0.7650001678699484,
          -2.0378186974242443,
          0.33866559952463177,
          0.2666163913888865,
          0.021936711012098636,
          0.46687288711263514,
          1.0587849018755255,
          -1.2372443478461665,
          0.2472047339065424,
          0.2431419371438154,
          0.3101627128534527,
          -1.1992675964505317,
          0.11824219662886108,
          0.1449556328706878,
          -0.22668876359014417,
          -0.9310559243072235,
          0.3540691737931126,
          -1.2318249518117717,
          -0.43423534785520507,
          -0.7230840222908208,
          0.254012109317973,
          -0.567904332230776,
          -0.23140791946543926,
          -0.6336902630789257,
          0.260746846291552,
          0.044637422411568206,
          0.29272540815851894,
          0.2211367364874898
         ],
         "z": [
          0.04785753736404336,
          0.10064726391396477,
          0.4434036554134671,
          0.05689363310476255,
          0.06639993802405428,
          0.1932529735099576,
          -0.22744330433309687,
          0.11974816282524367,
          0.23171292778295813,
          0.5426303482760149,
          0.2998174238749834,
          -0.231784087666923,
          -0.027779949586304902,
          0.09979338745433394,
          0.21804347770462412,
          0.043715928476378285,
          0.17563130235220173,
          -0.026711669359276897,
          -0.027970201238044435,
          0.5138239863379785,
          0.2815723550943409,
          0.5925479609048613,
          0.029464861342172757,
          0.1681087323634174,
          0.15244008709196186,
          -0.052044408518915,
          0.18433690687813561,
          0.04258529060126134,
          0.15571341864257826,
          -0.05209281265266731,
          0.15878278037603683,
          0.07318029833734394,
          0.08684938234473791,
          0.7614182958215227,
          0.029743967924012474,
          0.2857171333203864,
          -0.026002585468588236
         ]
        },
        {
         "mode": "markers",
         "name": "pca_1",
         "type": "scatter3d",
         "uid": "5442b937-8ef1-4c42-a862-379ae1cf594d",
         "x": [
          0.31334447852348,
          0.19566131240924245
         ],
         "y": [
          3.2849209757126876,
          3.272436655906658
         ],
         "z": [
          -0.23106913662847994,
          -0.3887725693894622
         ]
        },
        {
         "mode": "markers",
         "name": "pca_2",
         "type": "scatter3d",
         "uid": "d4bb5546-65bb-4994-825c-6d0e58a43c06",
         "x": [
          4.2916435775167745,
          5.27174535590059
         ],
         "y": [
          -2.0931319242408066,
          -0.6215944491533033
         ],
         "z": [
          -0.22338118554258785,
          -0.5093096293381943
         ]
        },
        {
         "mode": "markers",
         "name": "pca_3",
         "type": "scatter3d",
         "uid": "1e30586f-37a9-453c-9c4d-60061555f955",
         "x": [
          3.3673306696905083
         ],
         "y": [
          0.2797179717627811
         ],
         "z": [
          4.400095714917964
         ]
        },
        {
         "mode": "markers",
         "name": "pca_4",
         "type": "scatter3d",
         "uid": "b9c4491e-209c-4591-991d-58f2e119397d",
         "x": [
          1.7219335579275157,
          1.1878490166761204,
          0.5672204856324827,
          0.3697013357958544,
          1.0335379828732036
         ],
         "y": [
          0.32791347667524295,
          1.030253286393535,
          0.43212181151948353,
          0.14081835571915757,
          -1.3747431465427162
         ],
         "z": [
          -2.579414434375234,
          -1.1616327838188032,
          -0.9740691923658686,
          -1.3598126241343218,
          -2.456638557958931
         ]
        }
       ],
       "layout": {}
      },
      "text/html": [
       "<div>\n",
       "        \n",
       "        \n",
       "            <div id=\"669e1f6b-60c6-4a36-ba70-bb4c692b2944\" class=\"plotly-graph-div\" style=\"height:525px; width:100%;\"></div>\n",
       "            <script type=\"text/javascript\">\n",
       "                require([\"plotly\"], function(Plotly) {\n",
       "                    window.PLOTLYENV=window.PLOTLYENV || {};\n",
       "                    window.PLOTLYENV.BASE_URL='https://plot.ly';\n",
       "                    \n",
       "                if (document.getElementById(\"669e1f6b-60c6-4a36-ba70-bb4c692b2944\")) {\n",
       "                    Plotly.newPlot(\n",
       "                        '669e1f6b-60c6-4a36-ba70-bb4c692b2944',\n",
       "                        [{\"mode\": \"markers\", \"name\": \"pca_0\", \"type\": \"scatter3d\", \"uid\": \"2dd0de86-6027-4c47-85f7-86aafabfaa0c\", \"x\": [-0.48673825637804047, -0.8249034989955244, 0.22568956675330798, -0.6713087278554175, -0.5290376401814103, -0.2876943572135842, -0.449282558217461, -0.6981820207513473, 0.8082651847932538, -0.019181806693774894, -1.269755571140363, -0.3870760838862538, -0.6601427654400703, -0.6546102397683071, 0.15300974232894785, -0.003850054221469168, -1.0650190789303886, -0.6175560766519699, -0.6100003161641921, -0.25741985699979414, -0.7950774322099688, -0.02825081317390013, -0.34693565780837854, -0.6948953005116763, -0.9796331256177258, -0.6155084649016138, -1.06866178134426, -0.8736160813796527, -0.7442542848470607, -0.6553944182295354, -0.6078294092313082, -0.6445710061563208, -0.914170191862699, 0.07527664950521493, -0.13165130819479504, -0.42896999120780444, -0.5610307401604311], \"y\": [0.15871532309584493, -0.6101180362249327, 0.05468474440050321, 0.07071809694440721, -0.031142289779561558, 0.4641423369889302, -0.6022751539011414, -0.42378693023102443, 0.2856594926582054, 0.7650001678699484, -2.0378186974242443, 0.33866559952463177, 0.2666163913888865, 0.021936711012098636, 0.46687288711263514, 1.0587849018755255, -1.2372443478461665, 0.2472047339065424, 0.2431419371438154, 0.3101627128534527, -1.1992675964505317, 0.11824219662886108, 0.1449556328706878, -0.22668876359014417, -0.9310559243072235, 0.3540691737931126, -1.2318249518117717, -0.43423534785520507, -0.7230840222908208, 0.254012109317973, -0.567904332230776, -0.23140791946543926, -0.6336902630789257, 0.260746846291552, 0.044637422411568206, 0.29272540815851894, 0.2211367364874898], \"z\": [0.04785753736404336, 0.10064726391396477, 0.4434036554134671, 0.05689363310476255, 0.06639993802405428, 0.1932529735099576, -0.22744330433309687, 0.11974816282524367, 0.23171292778295813, 0.5426303482760149, 0.2998174238749834, -0.231784087666923, -0.027779949586304902, 0.09979338745433394, 0.21804347770462412, 0.043715928476378285, 0.17563130235220173, -0.026711669359276897, -0.027970201238044435, 0.5138239863379785, 0.2815723550943409, 0.5925479609048613, 0.029464861342172757, 0.1681087323634174, 0.15244008709196186, -0.052044408518915, 0.18433690687813561, 0.04258529060126134, 0.15571341864257826, -0.05209281265266731, 0.15878278037603683, 0.07318029833734394, 0.08684938234473791, 0.7614182958215227, 0.029743967924012474, 0.2857171333203864, -0.026002585468588236]}, {\"mode\": \"markers\", \"name\": \"pca_1\", \"type\": \"scatter3d\", \"uid\": \"f1fd1abf-3967-498a-8a62-d47a12a7b0f8\", \"x\": [0.31334447852348, 0.19566131240924245], \"y\": [3.2849209757126876, 3.272436655906658], \"z\": [-0.23106913662847994, -0.3887725693894622]}, {\"mode\": \"markers\", \"name\": \"pca_2\", \"type\": \"scatter3d\", \"uid\": \"169144b9-870a-4925-8fe0-5ba4c6d79b83\", \"x\": [4.2916435775167745, 5.27174535590059], \"y\": [-2.0931319242408066, -0.6215944491533033], \"z\": [-0.22338118554258785, -0.5093096293381943]}, {\"mode\": \"markers\", \"name\": \"pca_3\", \"type\": \"scatter3d\", \"uid\": \"841c63a7-b8f2-45a0-9b35-ec505f037847\", \"x\": [3.3673306696905083], \"y\": [0.2797179717627811], \"z\": [4.400095714917964]}, {\"mode\": \"markers\", \"name\": \"pca_4\", \"type\": \"scatter3d\", \"uid\": \"0fd13b97-6fb0-4e80-bb8c-a795c2a582f7\", \"x\": [1.7219335579275157, 1.1878490166761204, 0.5672204856324827, 0.3697013357958544, 1.0335379828732036], \"y\": [0.32791347667524295, 1.030253286393535, 0.43212181151948353, 0.14081835571915757, -1.3747431465427162], \"z\": [-2.579414434375234, -1.1616327838188032, -0.9740691923658686, -1.3598126241343218, -2.456638557958931]}],\n",
       "                        {},\n",
       "                        {\"showLink\": false, \"linkText\": \"Export to plot.ly\", \"plotlyServerURL\": \"https://plot.ly\", \"responsive\": true}\n",
       "                    ).then(function(){\n",
       "                            \n",
       "var gd = document.getElementById('669e1f6b-60c6-4a36-ba70-bb4c692b2944');\n",
       "var x = new MutationObserver(function (mutations, observer) {{\n",
       "        var display = window.getComputedStyle(gd).display;\n",
       "        if (!display || display === 'none') {{\n",
       "            console.log([gd, 'removed!']);\n",
       "            Plotly.purge(gd);\n",
       "            observer.disconnect();\n",
       "        }}\n",
       "}});\n",
       "\n",
       "// Listen for the removal of the full notebook cells\n",
       "var notebookContainer = gd.closest('#notebook-container');\n",
       "if (notebookContainer) {{\n",
       "    x.observe(notebookContainer, {childList: true});\n",
       "}}\n",
       "\n",
       "// Listen for the clearing of the current output cell\n",
       "var outputEl = gd.closest('.output');\n",
       "if (outputEl) {{\n",
       "    x.observe(outputEl, {childList: true});\n",
       "}}\n",
       "\n",
       "                        })\n",
       "                };\n",
       "                });\n",
       "            </script>\n",
       "        </div>"
      ]
     },
     "metadata": {},
     "output_type": "display_data"
    },
    {
     "data": {
      "application/vnd.plotly.v1+json": {
       "config": {
        "linkText": "Export to plot.ly",
        "plotlyServerURL": "https://plot.ly",
        "responsive": true,
        "showLink": false
       },
       "data": [
        {
         "mode": "markers",
         "name": "pca_0",
         "type": "scatter3d",
         "uid": "63b171b0-7056-4254-a879-f6cc6e82e77e",
         "x": [
          -0.8249034989955244,
          -0.449282558217461,
          -0.6981820207513473,
          -1.269755571140363,
          -1.0650190789303886,
          -0.7950774322099688,
          -0.9796331256177258,
          -1.06866178134426,
          -0.8736160813796527,
          -0.7442542848470607,
          -0.6078294092313082,
          -0.914170191862699
         ],
         "y": [
          -0.6101180362249327,
          -0.6022751539011414,
          -0.42378693023102443,
          -2.0378186974242443,
          -1.2372443478461665,
          -1.1992675964505317,
          -0.9310559243072235,
          -1.2318249518117717,
          -0.43423534785520507,
          -0.7230840222908208,
          -0.567904332230776,
          -0.6336902630789257
         ],
         "z": [
          0.10064726391396477,
          -0.22744330433309687,
          0.11974816282524367,
          0.2998174238749834,
          0.17563130235220173,
          0.2815723550943409,
          0.15244008709196186,
          0.18433690687813561,
          0.04258529060126134,
          0.15571341864257826,
          0.15878278037603683,
          0.08684938234473791
         ]
        },
        {
         "mode": "markers",
         "name": "pca_1",
         "type": "scatter3d",
         "uid": "25920f50-f54a-48bd-a768-75d22e37ab6c",
         "x": [
          -0.48673825637804047,
          0.22568956675330798,
          -0.6713087278554175,
          -0.5290376401814103,
          -0.2876943572135842,
          0.8082651847932538,
          -0.019181806693774894,
          -0.3870760838862538,
          -0.6601427654400703,
          -0.6546102397683071,
          0.15300974232894785,
          -0.003850054221469168,
          -0.6175560766519699,
          -0.6100003161641921,
          -0.25741985699979414,
          -0.02825081317390013,
          -0.34693565780837854,
          -0.6948953005116763,
          -0.6155084649016138,
          -0.6553944182295354,
          -0.6445710061563208,
          0.07527664950521493,
          -0.13165130819479504,
          -0.42896999120780444,
          -0.5610307401604311
         ],
         "y": [
          0.15871532309584493,
          0.05468474440050321,
          0.07071809694440721,
          -0.031142289779561558,
          0.4641423369889302,
          0.2856594926582054,
          0.7650001678699484,
          0.33866559952463177,
          0.2666163913888865,
          0.021936711012098636,
          0.46687288711263514,
          1.0587849018755255,
          0.2472047339065424,
          0.2431419371438154,
          0.3101627128534527,
          0.11824219662886108,
          0.1449556328706878,
          -0.22668876359014417,
          0.3540691737931126,
          0.254012109317973,
          -0.23140791946543926,
          0.260746846291552,
          0.044637422411568206,
          0.29272540815851894,
          0.2211367364874898
         ],
         "z": [
          0.04785753736404336,
          0.4434036554134671,
          0.05689363310476255,
          0.06639993802405428,
          0.1932529735099576,
          0.23171292778295813,
          0.5426303482760149,
          -0.231784087666923,
          -0.027779949586304902,
          0.09979338745433394,
          0.21804347770462412,
          0.043715928476378285,
          -0.026711669359276897,
          -0.027970201238044435,
          0.5138239863379785,
          0.5925479609048613,
          0.029464861342172757,
          0.1681087323634174,
          -0.052044408518915,
          -0.05209281265266731,
          0.07318029833734394,
          0.7614182958215227,
          0.029743967924012474,
          0.2857171333203864,
          -0.026002585468588236
         ]
        },
        {
         "mode": "markers",
         "name": "pca_2",
         "type": "scatter3d",
         "uid": "fe2dd40c-f28c-4755-b7b0-50474599951b",
         "x": [
          4.2916435775167745,
          5.27174535590059
         ],
         "y": [
          -2.0931319242408066,
          -0.6215944491533033
         ],
         "z": [
          -0.22338118554258785,
          -0.5093096293381943
         ]
        },
        {
         "mode": "markers",
         "name": "pca_3",
         "type": "scatter3d",
         "uid": "a8598d72-a76e-4809-8c7d-c727b96a2adb",
         "x": [
          0.31334447852348,
          0.19566131240924245
         ],
         "y": [
          3.2849209757126876,
          3.272436655906658
         ],
         "z": [
          -0.23106913662847994,
          -0.3887725693894622
         ]
        },
        {
         "mode": "markers",
         "name": "pca_4",
         "type": "scatter3d",
         "uid": "3952dff6-d51a-4d14-b7ea-55a8b1d067be",
         "x": [
          1.7219335579275157,
          1.1878490166761204,
          0.5672204856324827,
          0.3697013357958544,
          1.0335379828732036
         ],
         "y": [
          0.32791347667524295,
          1.030253286393535,
          0.43212181151948353,
          0.14081835571915757,
          -1.3747431465427162
         ],
         "z": [
          -2.579414434375234,
          -1.1616327838188032,
          -0.9740691923658686,
          -1.3598126241343218,
          -2.456638557958931
         ]
        },
        {
         "mode": "markers",
         "name": "pca_5",
         "type": "scatter3d",
         "uid": "7626eeed-b8ad-4ef2-8dbd-f54c95adccc8",
         "x": [
          3.3673306696905083
         ],
         "y": [
          0.2797179717627811
         ],
         "z": [
          4.400095714917964
         ]
        }
       ],
       "layout": {}
      },
      "text/html": [
       "<div>\n",
       "        \n",
       "        \n",
       "            <div id=\"c154e2e8-6a1f-4916-9338-8e51cb4c8a60\" class=\"plotly-graph-div\" style=\"height:525px; width:100%;\"></div>\n",
       "            <script type=\"text/javascript\">\n",
       "                require([\"plotly\"], function(Plotly) {\n",
       "                    window.PLOTLYENV=window.PLOTLYENV || {};\n",
       "                    window.PLOTLYENV.BASE_URL='https://plot.ly';\n",
       "                    \n",
       "                if (document.getElementById(\"c154e2e8-6a1f-4916-9338-8e51cb4c8a60\")) {\n",
       "                    Plotly.newPlot(\n",
       "                        'c154e2e8-6a1f-4916-9338-8e51cb4c8a60',\n",
       "                        [{\"mode\": \"markers\", \"name\": \"pca_0\", \"type\": \"scatter3d\", \"uid\": \"289bf8ea-bdd5-4937-943a-dd2553983a20\", \"x\": [-0.8249034989955244, -0.449282558217461, -0.6981820207513473, -1.269755571140363, -1.0650190789303886, -0.7950774322099688, -0.9796331256177258, -1.06866178134426, -0.8736160813796527, -0.7442542848470607, -0.6078294092313082, -0.914170191862699], \"y\": [-0.6101180362249327, -0.6022751539011414, -0.42378693023102443, -2.0378186974242443, -1.2372443478461665, -1.1992675964505317, -0.9310559243072235, -1.2318249518117717, -0.43423534785520507, -0.7230840222908208, -0.567904332230776, -0.6336902630789257], \"z\": [0.10064726391396477, -0.22744330433309687, 0.11974816282524367, 0.2998174238749834, 0.17563130235220173, 0.2815723550943409, 0.15244008709196186, 0.18433690687813561, 0.04258529060126134, 0.15571341864257826, 0.15878278037603683, 0.08684938234473791]}, {\"mode\": \"markers\", \"name\": \"pca_1\", \"type\": \"scatter3d\", \"uid\": \"f5ae0c32-7d90-473d-8727-27fce2782fde\", \"x\": [-0.48673825637804047, 0.22568956675330798, -0.6713087278554175, -0.5290376401814103, -0.2876943572135842, 0.8082651847932538, -0.019181806693774894, -0.3870760838862538, -0.6601427654400703, -0.6546102397683071, 0.15300974232894785, -0.003850054221469168, -0.6175560766519699, -0.6100003161641921, -0.25741985699979414, -0.02825081317390013, -0.34693565780837854, -0.6948953005116763, -0.6155084649016138, -0.6553944182295354, -0.6445710061563208, 0.07527664950521493, -0.13165130819479504, -0.42896999120780444, -0.5610307401604311], \"y\": [0.15871532309584493, 0.05468474440050321, 0.07071809694440721, -0.031142289779561558, 0.4641423369889302, 0.2856594926582054, 0.7650001678699484, 0.33866559952463177, 0.2666163913888865, 0.021936711012098636, 0.46687288711263514, 1.0587849018755255, 0.2472047339065424, 0.2431419371438154, 0.3101627128534527, 0.11824219662886108, 0.1449556328706878, -0.22668876359014417, 0.3540691737931126, 0.254012109317973, -0.23140791946543926, 0.260746846291552, 0.044637422411568206, 0.29272540815851894, 0.2211367364874898], \"z\": [0.04785753736404336, 0.4434036554134671, 0.05689363310476255, 0.06639993802405428, 0.1932529735099576, 0.23171292778295813, 0.5426303482760149, -0.231784087666923, -0.027779949586304902, 0.09979338745433394, 0.21804347770462412, 0.043715928476378285, -0.026711669359276897, -0.027970201238044435, 0.5138239863379785, 0.5925479609048613, 0.029464861342172757, 0.1681087323634174, -0.052044408518915, -0.05209281265266731, 0.07318029833734394, 0.7614182958215227, 0.029743967924012474, 0.2857171333203864, -0.026002585468588236]}, {\"mode\": \"markers\", \"name\": \"pca_2\", \"type\": \"scatter3d\", \"uid\": \"d39d401e-b50b-4f7c-b5f7-b972291694b8\", \"x\": [4.2916435775167745, 5.27174535590059], \"y\": [-2.0931319242408066, -0.6215944491533033], \"z\": [-0.22338118554258785, -0.5093096293381943]}, {\"mode\": \"markers\", \"name\": \"pca_3\", \"type\": \"scatter3d\", \"uid\": \"c63c43ff-f3f1-48c3-8bed-55fb4e2b4a24\", \"x\": [0.31334447852348, 0.19566131240924245], \"y\": [3.2849209757126876, 3.272436655906658], \"z\": [-0.23106913662847994, -0.3887725693894622]}, {\"mode\": \"markers\", \"name\": \"pca_4\", \"type\": \"scatter3d\", \"uid\": \"dfb07fd7-3a04-447c-8c9f-7f5d107d545e\", \"x\": [1.7219335579275157, 1.1878490166761204, 0.5672204856324827, 0.3697013357958544, 1.0335379828732036], \"y\": [0.32791347667524295, 1.030253286393535, 0.43212181151948353, 0.14081835571915757, -1.3747431465427162], \"z\": [-2.579414434375234, -1.1616327838188032, -0.9740691923658686, -1.3598126241343218, -2.456638557958931]}, {\"mode\": \"markers\", \"name\": \"pca_5\", \"type\": \"scatter3d\", \"uid\": \"16a6c343-9f5a-4ddb-b96f-69b8f8844dd6\", \"x\": [3.3673306696905083], \"y\": [0.2797179717627811], \"z\": [4.400095714917964]}],\n",
       "                        {},\n",
       "                        {\"showLink\": false, \"linkText\": \"Export to plot.ly\", \"plotlyServerURL\": \"https://plot.ly\", \"responsive\": true}\n",
       "                    ).then(function(){\n",
       "                            \n",
       "var gd = document.getElementById('c154e2e8-6a1f-4916-9338-8e51cb4c8a60');\n",
       "var x = new MutationObserver(function (mutations, observer) {{\n",
       "        var display = window.getComputedStyle(gd).display;\n",
       "        if (!display || display === 'none') {{\n",
       "            console.log([gd, 'removed!']);\n",
       "            Plotly.purge(gd);\n",
       "            observer.disconnect();\n",
       "        }}\n",
       "}});\n",
       "\n",
       "// Listen for the removal of the full notebook cells\n",
       "var notebookContainer = gd.closest('#notebook-container');\n",
       "if (notebookContainer) {{\n",
       "    x.observe(notebookContainer, {childList: true});\n",
       "}}\n",
       "\n",
       "// Listen for the clearing of the current output cell\n",
       "var outputEl = gd.closest('.output');\n",
       "if (outputEl) {{\n",
       "    x.observe(outputEl, {childList: true});\n",
       "}}\n",
       "\n",
       "                        })\n",
       "                };\n",
       "                });\n",
       "            </script>\n",
       "        </div>"
      ]
     },
     "metadata": {},
     "output_type": "display_data"
    }
   ],
   "source": [
    "# pca_3[kmeans.labels_==1,:]\n",
    "\n",
    "import sklearn.cluster as cluster\n",
    "for n in [2, 3, 4, 5, 6]:\n",
    "    kmeans = cluster.KMeans(n_clusters=n, random_state=1).fit(pca_3)\n",
    "    kmeans.labels_\n",
    "    kmeans.cluster_centers_\n",
    "\n",
    "    data = [go.Scatter3d(x=pca_3[kmeans.labels_==i,:][:,0],\n",
    "                         y=pca_3[kmeans.labels_==i,:][:,1],\n",
    "                         z=pca_3[kmeans.labels_==i,:][:,2],\n",
    "                         name=f'pca_{i}',\n",
    "                        mode = 'markers' ##不要line\n",
    "                        )\n",
    "            for i in list(np.unique(kmeans.labels_))]\n",
    "\n",
    "    iplot(data,filename='pca_3')"
   ]
  }
 ],
 "metadata": {
  "kernelspec": {
   "display_name": "Python 3",
   "language": "python",
   "name": "python3"
  },
  "language_info": {
   "codemirror_mode": {
    "name": "ipython",
    "version": 3
   },
   "file_extension": ".py",
   "mimetype": "text/x-python",
   "name": "python",
   "nbconvert_exporter": "python",
   "pygments_lexer": "ipython3",
   "version": "3.7.0"
  }
 },
 "nbformat": 4,
 "nbformat_minor": 2
}
