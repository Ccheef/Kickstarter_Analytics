{
 "cells": [
  {
   "cell_type": "markdown",
   "metadata": {},
   "source": [
    "### setup before running"
   ]
  },
  {
   "cell_type": "markdown",
   "metadata": {},
   "source": [
    "1. download all 2019 data from \"https://webrobots.io/kickstarter-datasets/\"\n",
    "2. make a folder called \"raw_data\"\n",
    "3. within \"raw_data\" make 3 sub-folders with the date of the pulls in the format MM-DD-YYYY\n",
    "3. extract downloaded data into each of the 3 sub-folders appropriately\n",
    "4. in line 4 below change the \"path_master\" variable to your \"raw_data\" link\n",
    "5. run (~7min)"
   ]
  },
  {
   "cell_type": "markdown",
   "metadata": {},
   "source": [
    "### merge all csv"
   ]
  },
  {
   "cell_type": "code",
   "execution_count": null,
   "metadata": {},
   "outputs": [],
   "source": [
    "import re\n",
    "import os\n",
    "import pandas as pd\n",
    "path_master = r'C:/Users/endwy/Documents/Columbia MSBA/Spring 2019/E4650 - Business Analytics/Project - Kickstarter Analysis/raw_data/'\n",
    "df_kickstarter = pd.DataFrame()\n",
    "\n",
    "def add_date(path):\n",
    "    return path[-10:-1]\n",
    "\n",
    "directories = list()\n",
    "for root, dirs, files in os.walk(path_master, topdown=False):\n",
    "    for name in dirs:\n",
    "        directories.append(os.path.join(root, name)+'/')\n",
    "\n",
    "file_names = list()\n",
    "for path, subdirs, files in os.walk(path_master):\n",
    "    for filename in files:\n",
    "        if filename not in file_names: file_names.append(filename)\n",
    "\n",
    "for i in directories: \n",
    "    for j in file_names:\n",
    "        try:\n",
    "            with open(i+j, encoding='utf8') as fp:\n",
    "                df_interim = pd.read_csv(fp, keep_default_na=False)\n",
    "            df_interim['download_date'] = add_date(i)\n",
    "            df_interim['download_date'] = pd.to_datetime(df_interim['download_date'], format='%m-%d-%Y')\n",
    "            global df_kickstarter\n",
    "            df_kickstarter = pd.concat([df_kickstarter,df_interim])\n",
    "            print('SUCCESS: '+i+j)\n",
    "        except:\n",
    "            print('FAIL: '+i+j)\n",
    "            pass\n",
    "df_kickstarter.to_csv(path_master+'df_kickstarter'+'.csv')"
   ]
  },
  {
   "cell_type": "markdown",
   "metadata": {},
   "source": [
    "### read in random sample % of full df_kickstarter to test with"
   ]
  },
  {
   "cell_type": "code",
   "execution_count": null,
   "metadata": {},
   "outputs": [],
   "source": [
    "import pandas as pd\n",
    "import os\n",
    "import random\n",
    "filename = r'C:/Users/endwy/Documents/Columbia MSBA/Spring 2019/E4650 - Business Analytics/Project - Kickstarter Analysis/raw_data/df_kickstarter.csv'\n",
    "\n",
    "p = 1  # x% of the lines\n",
    "# keep the header, then take only x% of lines\n",
    "# if random from [0,1] interval is greater than p the row will be skipped\n",
    "df = pd.read_csv(filename, header=0,  skiprows=lambda i: i>0 and random.random() > p)\n",
    "len(df)\n",
    "#df=df[:1000]\n",
    "#len(df)"
   ]
  },
  {
   "cell_type": "markdown",
   "metadata": {},
   "source": [
    "### categorize"
   ]
  },
  {
   "cell_type": "code",
   "execution_count": null,
   "metadata": {},
   "outputs": [],
   "source": [
    "import json\n",
    "cat_json = df['category'].apply(json.loads)\n",
    "cat_name=list(map(lambda d: d['name'], cat_json))\n",
    "df['Cat_Name']=cat_name\n",
    "#df.sort_values(['Cat_Name'])"
   ]
  },
  {
   "cell_type": "markdown",
   "metadata": {},
   "source": [
    "### funding date scraping "
   ]
  },
  {
   "cell_type": "code",
   "execution_count": null,
   "metadata": {},
   "outputs": [],
   "source": [
    "def get_url(x):\n",
    "    return x.split(\"\\\"\")[5]\n",
    "\n",
    "df[\"urls\"] = df[\"urls\"].apply(lambda x: get_url(x))"
   ]
  },
  {
   "cell_type": "code",
   "execution_count": null,
   "metadata": {},
   "outputs": [],
   "source": [
    "import requests\n",
    "from bs4 import BeautifulSoup\n",
    "from time import sleep\n",
    "import datetime\n",
    "\n",
    "processed = 0\n",
    "def add_fundpd(x,y):\n",
    "    user_agent_list = [\n",
    "           #Chrome\n",
    "            'Mozilla/5.0 (Windows NT 10.0; Win64; x64) AppleWebKit/537.36 (KHTML, like Gecko) Chrome/60.0.3112.113 Safari/537.36',\n",
    "            'Mozilla/5.0 (Windows NT 6.1; Win64; x64) AppleWebKit/537.36 (KHTML, like Gecko) Chrome/60.0.3112.90 Safari/537.36',\n",
    "            'Mozilla/5.0 (Windows NT 5.1; Win64; x64) AppleWebKit/537.36 (KHTML, like Gecko) Chrome/60.0.3112.90 Safari/537.36',\n",
    "            'Mozilla/5.0 (Windows NT 6.2; Win64; x64) AppleWebKit/537.36 (KHTML, like Gecko) Chrome/60.0.3112.90 Safari/537.36',\n",
    "            'Mozilla/5.0 (X11; Linux x86_64) AppleWebKit/537.36 (KHTML, like Gecko) Chrome/44.0.2403.157 Safari/537.36',\n",
    "            'Mozilla/5.0 (Windows NT 6.3; Win64; x64) AppleWebKit/537.36 (KHTML, like Gecko) Chrome/60.0.3112.113 Safari/537.36',\n",
    "            'Mozilla/5.0 (Windows NT 10.0; Win64; x64) AppleWebKit/537.36 (KHTML, like Gecko) Chrome/57.0.2987.133 Safari/537.36',\n",
    "            'Mozilla/5.0 (Windows NT 6.1; Win64; x64) AppleWebKit/537.36 (KHTML, like Gecko) Chrome/57.0.2987.133 Safari/537.36',\n",
    "            'Mozilla/5.0 (Windows NT 10.0; Win64; x64) AppleWebKit/537.36 (KHTML, like Gecko) Chrome/55.0.2883.87 Safari/537.36',\n",
    "            'Mozilla/5.0 (Windows NT 6.1; Win64; x64) AppleWebKit/537.36 (KHTML, like Gecko) Chrome/55.0.2883.87 Safari/537.36',\n",
    "            #Firefox\n",
    "            'Mozilla/4.0 (compatible; MSIE 9.0; Windows NT 6.1)',\n",
    "            'Mozilla/5.0 (Windows NT 6.1; WOW64; Trident/7.0; rv:11.0) like Gecko',\n",
    "            'Mozilla/5.0 (compatible; MSIE 9.0; Windows NT 6.1; WOW64; Trident/5.0)',\n",
    "            'Mozilla/5.0 (Windows NT 6.1; Trident/7.0; rv:11.0) like Gecko',\n",
    "            'Mozilla/5.0 (Windows NT 6.2; WOW64; Trident/7.0; rv:11.0) like Gecko',\n",
    "            'Mozilla/5.0 (Windows NT 10.0; WOW64; Trident/7.0; rv:11.0) like Gecko',\n",
    "            'Mozilla/5.0 (compatible; MSIE 9.0; Windows NT 6.0; Trident/5.0)',\n",
    "            'Mozilla/5.0 (Windows NT 6.3; WOW64; Trident/7.0; rv:11.0) like Gecko',\n",
    "            'Mozilla/5.0 (compatible; MSIE 9.0; Windows NT 6.1; Trident/5.0)',\n",
    "            'Mozilla/5.0 (Windows NT 6.1; Win64; x64; Trident/7.0; rv:11.0) like Gecko',\n",
    "            'Mozilla/5.0 (compatible; MSIE 10.0; Windows NT 6.1; WOW64; Trident/6.0)',\n",
    "            'Mozilla/5.0 (compatible; MSIE 10.0; Windows NT 6.1; Trident/6.0)',\n",
    "            'Mozilla/4.0 (compatible; MSIE 8.0; Windows NT 5.1; Trident/4.0; .NET CLR 2.0.50727; .NET CLR 3.0.4506.2152; .NET CLR 3.5.30729)'\n",
    "        ]\n",
    "    user_agent = random.choice(user_agent_list)\n",
    "    heads = {'User-Agent': user_agent}\n",
    "    #sleep(3)\n",
    "    global proessed\n",
    "    try:\n",
    "        page = requests.get(x,headers=heads)\n",
    "        results_page = BeautifulSoup(page.content,'lxml')\n",
    "        period = results_page.find('div',class_='NS_campaigns__funding_period').find_all(class_=\"js-adjust-time\")\n",
    "        global processed\n",
    "        processed+=1\n",
    "        print(\"success: \"+str(processed)+\" : \"+y+\" : \"+x[36:])\n",
    "        start = pd.to_datetime(period[0].get_text(), format='%b %d, %Y').strftime('%Y-%m-%d')\n",
    "        end = pd.to_datetime(period[1].get_text(), format='%b %d, %Y').strftime('%Y-%m-%d')\n",
    "        delta = int(results_page.find('p',class_='f5').get_text().split(\"\\n\")[-2][1:-1].split()[0])\n",
    "        if y==\"start\": result = start\n",
    "        if y==\"end\": result = end\n",
    "        if y==\"delta\": result = delta\n",
    "        return result\n",
    "    except:\n",
    "        processed+=1\n",
    "        print(\"FAIL: \"+str(processed)+\" : \"+y+\" : \"+x[36:])\n",
    "        result = \"error\"\n",
    "        return result\n",
    "df[\"funding_start\"] = df[\"urls\"].apply(lambda x: add_fundpd(x,'start'))\n",
    "df[\"funding_end\"] = df[\"urls\"].apply(lambda x: add_fundpd(x,'end'))\n",
    "df[\"funding_delta\"] = df[\"urls\"].apply(lambda x: add_fundpd(x,'delta'))"
   ]
  },
  {
   "cell_type": "code",
   "execution_count": null,
   "metadata": {},
   "outputs": [],
   "source": [
    "df.head(3)"
   ]
  },
  {
   "cell_type": "code",
   "execution_count": null,
   "metadata": {},
   "outputs": [],
   "source": [
    "import pandas as pd\n",
    "import os\n",
    "path_master = 'C:/Users/endwy/Documents/Columbia MSBA/Spring 2019/E4650 - Business Analytics/Project - Kickstarter Analysis/raw_data/'\n",
    "filename = 'C:/Users/endwy/Documents/Columbia MSBA/Spring 2019/E4650 - Business Analytics/Project - Kickstarter Analysis/raw_data/df_kickstarterFE.csv'\n",
    "df = pd.read_csv(filename, header=0)\n",
    "#df.drop(columns=('Unnamed: 0'),inplace=True)\n",
    "df.drop(columns=(['Unnamed: 0','converted_pledged_amount','usd_pledged']),inplace=True)\n",
    "len(df.columns)"
   ]
  },
  {
   "cell_type": "code",
   "execution_count": null,
   "metadata": {},
   "outputs": [],
   "source": [
    "path_master = 'C:/Users/endwy/Documents/Columbia MSBA/Spring 2019/E4650 - Business Analytics/Project - Kickstarter Analysis/raw_data/'\n",
    "df.to_csv(path_master+'df_kickstarterFE.csv')"
   ]
  },
  {
   "cell_type": "code",
   "execution_count": 2,
   "metadata": {},
   "outputs": [],
   "source": [
    "import numpy as np \n",
    "import pylab \n",
    "import scipy.stats as stats\n",
    "import matplotlib\n",
    "import matplotlib.pyplot as plt\n",
    "matplotlib.style.use('seaborn')\n",
    "%matplotlib inline\n",
    "   \n",
    "stats.probplot(df[11], dist=\"norm\", plot=pylab)\n",
    "pylab.show()"
   ]
  },
  {
   "cell_type": "markdown",
   "metadata": {},
   "source": [
    "### NLP / WordClouds"
   ]
  },
  {
   "cell_type": "code",
   "execution_count": null,
   "metadata": {},
   "outputs": [],
   "source": [
    "\n",
    "def extract_creator_id(json_obj):\n",
    "    try:\n",
    "        temp=json.loads(json_obj)\n",
    "    except:\n",
    "        return None\n",
    "    return temp['id']\n",
    "    \n",
    "creator_id = kickstarter_df['creator'].apply(extract_creator_id)"
   ]
  },
  {
   "cell_type": "code",
   "execution_count": null,
   "metadata": {},
   "outputs": [],
   "source": [
    "def extract_reward_urls(json_obj):\n",
    "    temp = json.loads(json_obj)\n",
    "    return (temp['web']['rewards'])\n",
    "    \n",
    "reward_urls=kickstarter_df['urls'].apply(extract_reward_urls)"
   ]
  },
  {
   "cell_type": "code",
   "execution_count": null,
   "metadata": {},
   "outputs": [],
   "source": [
    "def pull_reward_details(url_list):\n",
    "    \n",
    "    reward_tier = list()\n",
    "    #Read the urls and extract details on rewarding tiers\n",
    "    for i in url_list:\n",
    "        #print(i)\n",
    "        response=requests.get(i)\n",
    "        if response.status_code!=200:\n",
    "            print(\"Error pulling data from {}\".format(i))\n",
    "            continue\n",
    "        reward_desc=bs(response.content,'lxml')\n",
    "        try:\n",
    "            a=reward_desc.find('ol').find_all('li')\n",
    "            reward_tier.append(len(a))\n",
    "        except:\n",
    "            continue\n",
    "    return (reward_tier)\n",
    "        \n",
    "reward_tier = pull_reward_details(reward_urls)"
   ]
  },
  {
   "cell_type": "code",
   "execution_count": null,
   "metadata": {},
   "outputs": [],
   "source": [
    "a = pd.DataFrame({\"Project_Id\":kickstarter_df['id'],\n",
    "                  \"Creator_Id\":creator_id,\n",
    "                  \"Reward_Tiers\":reward_tier,\n",
    "                  \"Rewards_Url\":reward_urls})\n",
    "a"
   ]
  },
  {
   "cell_type": "code",
   "execution_count": null,
   "metadata": {},
   "outputs": [],
   "source": [
    "reward_urls.head(10)"
   ]
  },
  {
   "cell_type": "code",
   "execution_count": null,
   "metadata": {},
   "outputs": [],
   "source": [
    "#Adding the Word Cloud Segment, this needs to be applied on overfunded campaigns to better\n",
    "#suggest what works best in this area"
   ]
  },
  {
   "cell_type": "code",
   "execution_count": null,
   "metadata": {},
   "outputs": [],
   "source": [
    "import pandas as pd\n",
    "import numpy as np \n",
    "import matplotlib.pyplot as plt\n",
    "from wordcloud import WordCloud,STOPWORDS\n",
    "from nltk.stem.porter import PorterStemmer\n",
    "from nltk import sent_tokenize,word_tokenize\n",
    "\n",
    "#def generate wordclouds(df):\n",
    "#df = pd.read_csv(\"df_testing.csv\")  \n",
    "\n",
    "MIN_LENGTH=5\n",
    "DELETE_WORDS=['first','world','creat','music','project',]\n",
    "\n",
    "def remove_words(text_string,DELETE_WORDS=DELETE_WORDS):\n",
    "    for word in DELETE_WORDS:\n",
    "        text_string = text_string.replace(word,' ')\n",
    "    return text_string\n",
    "\n",
    "\n",
    "def remove_short_words(text_string,min_length = MIN_LENGTH):\n",
    "    word_list = text_string.split()\n",
    "    for word in word_list:\n",
    "        if len(word) < min_length:\n",
    "            text_string = text_string.replace(' '+word+' ',' ',1)\n",
    "    return text_string"
   ]
  },
  {
   "cell_type": "code",
   "execution_count": null,
   "metadata": {},
   "outputs": [],
   "source": [
    "def aggregate_text(temp):\n",
    "    p_stemmer = PorterStemmer()\n",
    "    x=''\n",
    "    for i in range(len(temp)):\n",
    "        words = word_tokenize(temp['blurb'].iloc[i])\n",
    "        text = ([p_stemmer.stem(i).lower() for i in words])\n",
    "        text = ' '.join(text)\n",
    "        x=x+' '+text\n",
    "        \n",
    "    return x.lower()"
   ]
  },
  {
   "cell_type": "code",
   "execution_count": null,
   "metadata": {},
   "outputs": [],
   "source": [
    "category_list = list()\n",
    "category_description=list()\n",
    "\n",
    "COL_NUM = 2\n",
    "ROW_NUM = 3\n",
    "fig, axes = plt.subplots(ROW_NUM, COL_NUM, figsize=(15,15))\n",
    "\n",
    "\n",
    "def category_state_geography(df):\n",
    "    count = 0\n",
    "    df = df.dropna(how='any',axis=0)\n",
    "    for i in df['state'].unique():\n",
    "        temp = df[df['state']==i]\n",
    "        temp_blurbs = aggregate_text(temp)\n",
    "        temp_blurbs = remove_words(temp_blurbs)\n",
    "        temp_blurbs = remove_short_words(temp_blurbs)\n",
    "        category_list.append(i)\n",
    "        category_description.append(temp_blurbs)\n",
    "        ax = axes[count//2, count%2] \n",
    "        ax.set_title(i)\n",
    "        wordcloud = WordCloud(stopwords=STOPWORDS,background_color='white',width=1200,height=1000,max_words=20).generate(temp_blurbs)\n",
    "        ax.imshow(wordcloud)\n",
    "        ax.axis('off')\n",
    "        count+=1\n",
    "    \n",
    "category_state_geography(df[['blurb','state']])\n",
    "plt.show()"
   ]
  },
  {
   "cell_type": "code",
   "execution_count": null,
   "metadata": {},
   "outputs": [],
   "source": [
    "#df['state'].unique()\n",
    "#df_new=df[df['state']=='successful']\n"
   ]
  },
  {
   "cell_type": "markdown",
   "metadata": {},
   "source": [
    "<h2> Dominant Product Types per Region </h2>"
   ]
  },
  {
   "cell_type": "code",
   "execution_count": 28,
   "metadata": {},
   "outputs": [],
   "source": [
    "\n",
    "geography_df = pd.read_csv('rewardtiering.csv')"
   ]
  },
  {
   "cell_type": "code",
   "execution_count": 29,
   "metadata": {
    "scrolled": true
   },
   "outputs": [
    {
     "data": {
      "text/html": [
       "<div>\n",
       "<style scoped>\n",
       "    .dataframe tbody tr th:only-of-type {\n",
       "        vertical-align: middle;\n",
       "    }\n",
       "\n",
       "    .dataframe tbody tr th {\n",
       "        vertical-align: top;\n",
       "    }\n",
       "\n",
       "    .dataframe thead th {\n",
       "        text-align: right;\n",
       "    }\n",
       "</style>\n",
       "<table border=\"1\" class=\"dataframe\">\n",
       "  <thead>\n",
       "    <tr style=\"text-align: right;\">\n",
       "      <th></th>\n",
       "      <th>Unnamed: 0</th>\n",
       "      <th>backers_count</th>\n",
       "      <th>blurb</th>\n",
       "      <th>category</th>\n",
       "      <th>converted_pledged_amount</th>\n",
       "      <th>country</th>\n",
       "      <th>created_at</th>\n",
       "      <th>creator</th>\n",
       "      <th>currency</th>\n",
       "      <th>currency_symbol</th>\n",
       "      <th>...</th>\n",
       "      <th>slug</th>\n",
       "      <th>source_url</th>\n",
       "      <th>spotlight</th>\n",
       "      <th>staff_pick</th>\n",
       "      <th>state</th>\n",
       "      <th>state_changed_at</th>\n",
       "      <th>static_usd_rate</th>\n",
       "      <th>urls</th>\n",
       "      <th>usd_pledged</th>\n",
       "      <th>usd_type</th>\n",
       "    </tr>\n",
       "  </thead>\n",
       "  <tbody>\n",
       "    <tr>\n",
       "      <th>0</th>\n",
       "      <td>1</td>\n",
       "      <td>108</td>\n",
       "      <td>In the year 2025, a young man's superintellige...</td>\n",
       "      <td>{\"id\":32,\"name\":\"Shorts\",\"slug\":\"film &amp; video/...</td>\n",
       "      <td>5265</td>\n",
       "      <td>US</td>\n",
       "      <td>1474949898</td>\n",
       "      <td>{\"id\":917453276,\"name\":\"Ryan Turner\",\"slug\":\"r...</td>\n",
       "      <td>USD</td>\n",
       "      <td>$</td>\n",
       "      <td>...</td>\n",
       "      <td>a-date-in-2025-a-sci-fi-comedy-short-film</td>\n",
       "      <td>https://www.kickstarter.com/discover/categorie...</td>\n",
       "      <td>True</td>\n",
       "      <td>False</td>\n",
       "      <td>successful</td>\n",
       "      <td>1477674323</td>\n",
       "      <td>1</td>\n",
       "      <td>{\"web\":{\"project\":\"https://www.kickstarter.com...</td>\n",
       "      <td>5265.82</td>\n",
       "      <td>domestic</td>\n",
       "    </tr>\n",
       "    <tr>\n",
       "      <th>1</th>\n",
       "      <td>2</td>\n",
       "      <td>37</td>\n",
       "      <td>Replacement Place needs your support to combat...</td>\n",
       "      <td>{\"id\":254,\"name\":\"Performances\",\"slug\":\"dance/...</td>\n",
       "      <td>5225</td>\n",
       "      <td>US</td>\n",
       "      <td>1425755444</td>\n",
       "      <td>{\"id\":1584296239,\"name\":\"Patricia Noworol Danc...</td>\n",
       "      <td>USD</td>\n",
       "      <td>$</td>\n",
       "      <td>...</td>\n",
       "      <td>replacement-place-new-york-live-arts</td>\n",
       "      <td>https://www.kickstarter.com/discover/categorie...</td>\n",
       "      <td>True</td>\n",
       "      <td>True</td>\n",
       "      <td>successful</td>\n",
       "      <td>1431748742</td>\n",
       "      <td>1</td>\n",
       "      <td>{\"web\":{\"project\":\"https://www.kickstarter.com...</td>\n",
       "      <td>5225.00</td>\n",
       "      <td>domestic</td>\n",
       "    </tr>\n",
       "    <tr>\n",
       "      <th>2</th>\n",
       "      <td>3</td>\n",
       "      <td>27</td>\n",
       "      <td>Pumpkin Spice Love - A Pumpkin Spice 4 Life 30...</td>\n",
       "      <td>{\"id\":262,\"name\":\"Accessories\",\"slug\":\"fashion...</td>\n",
       "      <td>362</td>\n",
       "      <td>US</td>\n",
       "      <td>1504654576</td>\n",
       "      <td>{\"id\":1930804198,\"name\":\"Mandy Robertson\",\"slu...</td>\n",
       "      <td>USD</td>\n",
       "      <td>$</td>\n",
       "      <td>...</td>\n",
       "      <td>pumpkin-spice-love</td>\n",
       "      <td>https://www.kickstarter.com/discover/categorie...</td>\n",
       "      <td>True</td>\n",
       "      <td>False</td>\n",
       "      <td>successful</td>\n",
       "      <td>1506112227</td>\n",
       "      <td>1</td>\n",
       "      <td>{\"web\":{\"project\":\"https://www.kickstarter.com...</td>\n",
       "      <td>362.00</td>\n",
       "      <td>domestic</td>\n",
       "    </tr>\n",
       "    <tr>\n",
       "      <th>3</th>\n",
       "      <td>4</td>\n",
       "      <td>184</td>\n",
       "      <td>Single mama and her 4-year old sail with all-f...</td>\n",
       "      <td>{\"id\":13,\"name\":\"Journalism\",\"slug\":\"journalis...</td>\n",
       "      <td>15678</td>\n",
       "      <td>US</td>\n",
       "      <td>1440164389</td>\n",
       "      <td>{\"id\":1435241906,\"name\":\"Ky Delaney\",\"is_regis...</td>\n",
       "      <td>USD</td>\n",
       "      <td>$</td>\n",
       "      <td>...</td>\n",
       "      <td>pirate-mama-setting-sail-with-her-little-boy</td>\n",
       "      <td>https://www.kickstarter.com/discover/categorie...</td>\n",
       "      <td>True</td>\n",
       "      <td>False</td>\n",
       "      <td>successful</td>\n",
       "      <td>1446670947</td>\n",
       "      <td>1</td>\n",
       "      <td>{\"web\":{\"project\":\"https://www.kickstarter.com...</td>\n",
       "      <td>15678.00</td>\n",
       "      <td>international</td>\n",
       "    </tr>\n",
       "    <tr>\n",
       "      <th>4</th>\n",
       "      <td>7</td>\n",
       "      <td>1</td>\n",
       "      <td>Everyday for the next 40 days I will be creati...</td>\n",
       "      <td>{\"id\":21,\"name\":\"Digital Art\",\"slug\":\"art/digi...</td>\n",
       "      <td>12</td>\n",
       "      <td>US</td>\n",
       "      <td>1481895960</td>\n",
       "      <td>{\"id\":501028455,\"name\":\"Isaac Luna Silva\",\"is_...</td>\n",
       "      <td>USD</td>\n",
       "      <td>$</td>\n",
       "      <td>...</td>\n",
       "      <td>abstract-digital-portraits</td>\n",
       "      <td>https://www.kickstarter.com/discover/categorie...</td>\n",
       "      <td>False</td>\n",
       "      <td>False</td>\n",
       "      <td>failed</td>\n",
       "      <td>1485365873</td>\n",
       "      <td>1</td>\n",
       "      <td>{\"web\":{\"project\":\"https://www.kickstarter.com...</td>\n",
       "      <td>12.00</td>\n",
       "      <td>domestic</td>\n",
       "    </tr>\n",
       "    <tr>\n",
       "      <th>5</th>\n",
       "      <td>9</td>\n",
       "      <td>26</td>\n",
       "      <td>The revolutionary hair scalp stimulator made f...</td>\n",
       "      <td>{\"id\":26,\"name\":\"Crafts\",\"slug\":\"crafts\",\"posi...</td>\n",
       "      <td>8160</td>\n",
       "      <td>US</td>\n",
       "      <td>1459174156</td>\n",
       "      <td>{\"id\":1807028083,\"name\":\"Kaizan Corp.\",\"is_reg...</td>\n",
       "      <td>USD</td>\n",
       "      <td>$</td>\n",
       "      <td>...</td>\n",
       "      <td>keshin</td>\n",
       "      <td>https://www.kickstarter.com/discover/categorie...</td>\n",
       "      <td>True</td>\n",
       "      <td>False</td>\n",
       "      <td>successful</td>\n",
       "      <td>1472307907</td>\n",
       "      <td>1</td>\n",
       "      <td>{\"web\":{\"project\":\"https://www.kickstarter.com...</td>\n",
       "      <td>8160.00</td>\n",
       "      <td>domestic</td>\n",
       "    </tr>\n",
       "    <tr>\n",
       "      <th>6</th>\n",
       "      <td>10</td>\n",
       "      <td>2</td>\n",
       "      <td>I am a graphic design major. For my senior the...</td>\n",
       "      <td>{\"id\":21,\"name\":\"Digital Art\",\"slug\":\"art/digi...</td>\n",
       "      <td>100</td>\n",
       "      <td>US</td>\n",
       "      <td>1394114446</td>\n",
       "      <td>{\"id\":1935996164,\"name\":\"Ireland Wheeler\",\"slu...</td>\n",
       "      <td>USD</td>\n",
       "      <td>$</td>\n",
       "      <td>...</td>\n",
       "      <td>the-anglophilia-project</td>\n",
       "      <td>https://www.kickstarter.com/discover/categorie...</td>\n",
       "      <td>False</td>\n",
       "      <td>False</td>\n",
       "      <td>failed</td>\n",
       "      <td>1396126813</td>\n",
       "      <td>1</td>\n",
       "      <td>{\"web\":{\"project\":\"https://www.kickstarter.com...</td>\n",
       "      <td>100.00</td>\n",
       "      <td>domestic</td>\n",
       "    </tr>\n",
       "    <tr>\n",
       "      <th>7</th>\n",
       "      <td>11</td>\n",
       "      <td>22</td>\n",
       "      <td>Production is complete! Now we need: post audi...</td>\n",
       "      <td>{\"id\":297,\"name\":\"Horror\",\"slug\":\"film &amp; video...</td>\n",
       "      <td>3210</td>\n",
       "      <td>US</td>\n",
       "      <td>1496010979</td>\n",
       "      <td>{\"id\":1241002293,\"name\":\"Del Harvey\",\"slug\":\"r...</td>\n",
       "      <td>USD</td>\n",
       "      <td>$</td>\n",
       "      <td>...</td>\n",
       "      <td>dont-save-me-post-production-campaign</td>\n",
       "      <td>https://www.kickstarter.com/discover/categorie...</td>\n",
       "      <td>True</td>\n",
       "      <td>False</td>\n",
       "      <td>successful</td>\n",
       "      <td>1497744040</td>\n",
       "      <td>1</td>\n",
       "      <td>{\"web\":{\"project\":\"https://www.kickstarter.com...</td>\n",
       "      <td>3210.00</td>\n",
       "      <td>international</td>\n",
       "    </tr>\n",
       "    <tr>\n",
       "      <th>8</th>\n",
       "      <td>13</td>\n",
       "      <td>18</td>\n",
       "      <td>Last Right's is a 24 episode webseries, that a...</td>\n",
       "      <td>{\"id\":33,\"name\":\"Webseries\",\"slug\":\"film &amp; vid...</td>\n",
       "      <td>12060</td>\n",
       "      <td>US</td>\n",
       "      <td>1307552648</td>\n",
       "      <td>{\"id\":706550490,\"name\":\"Jason Dallas\",\"is_regi...</td>\n",
       "      <td>USD</td>\n",
       "      <td>$</td>\n",
       "      <td>...</td>\n",
       "      <td>last-rights</td>\n",
       "      <td>https://www.kickstarter.com/discover/categorie...</td>\n",
       "      <td>True</td>\n",
       "      <td>False</td>\n",
       "      <td>successful</td>\n",
       "      <td>1319811540</td>\n",
       "      <td>1</td>\n",
       "      <td>{\"web\":{\"project\":\"https://www.kickstarter.com...</td>\n",
       "      <td>12060.00</td>\n",
       "      <td>domestic</td>\n",
       "    </tr>\n",
       "    <tr>\n",
       "      <th>9</th>\n",
       "      <td>14</td>\n",
       "      <td>106</td>\n",
       "      <td>A dance theater duet about the science of cons...</td>\n",
       "      <td>{\"id\":6,\"name\":\"Dance\",\"slug\":\"dance\",\"positio...</td>\n",
       "      <td>3735</td>\n",
       "      <td>US</td>\n",
       "      <td>1340753933</td>\n",
       "      <td>{\"id\":943024993,\"name\":\"Megan Mazarick and Mas...</td>\n",
       "      <td>USD</td>\n",
       "      <td>$</td>\n",
       "      <td>...</td>\n",
       "      <td>mining-the-mine-of-the-mind-for-minderals-0</td>\n",
       "      <td>https://www.kickstarter.com/discover/categorie...</td>\n",
       "      <td>True</td>\n",
       "      <td>True</td>\n",
       "      <td>successful</td>\n",
       "      <td>1343707230</td>\n",
       "      <td>1</td>\n",
       "      <td>{\"web\":{\"project\":\"https://www.kickstarter.com...</td>\n",
       "      <td>3735.00</td>\n",
       "      <td>domestic</td>\n",
       "    </tr>\n",
       "  </tbody>\n",
       "</table>\n",
       "<p>10 rows × 38 columns</p>\n",
       "</div>"
      ],
      "text/plain": [
       "   Unnamed: 0  backers_count  \\\n",
       "0           1            108   \n",
       "1           2             37   \n",
       "2           3             27   \n",
       "3           4            184   \n",
       "4           7              1   \n",
       "5           9             26   \n",
       "6          10              2   \n",
       "7          11             22   \n",
       "8          13             18   \n",
       "9          14            106   \n",
       "\n",
       "                                               blurb  \\\n",
       "0  In the year 2025, a young man's superintellige...   \n",
       "1  Replacement Place needs your support to combat...   \n",
       "2  Pumpkin Spice Love - A Pumpkin Spice 4 Life 30...   \n",
       "3  Single mama and her 4-year old sail with all-f...   \n",
       "4  Everyday for the next 40 days I will be creati...   \n",
       "5  The revolutionary hair scalp stimulator made f...   \n",
       "6  I am a graphic design major. For my senior the...   \n",
       "7  Production is complete! Now we need: post audi...   \n",
       "8  Last Right's is a 24 episode webseries, that a...   \n",
       "9  A dance theater duet about the science of cons...   \n",
       "\n",
       "                                            category  \\\n",
       "0  {\"id\":32,\"name\":\"Shorts\",\"slug\":\"film & video/...   \n",
       "1  {\"id\":254,\"name\":\"Performances\",\"slug\":\"dance/...   \n",
       "2  {\"id\":262,\"name\":\"Accessories\",\"slug\":\"fashion...   \n",
       "3  {\"id\":13,\"name\":\"Journalism\",\"slug\":\"journalis...   \n",
       "4  {\"id\":21,\"name\":\"Digital Art\",\"slug\":\"art/digi...   \n",
       "5  {\"id\":26,\"name\":\"Crafts\",\"slug\":\"crafts\",\"posi...   \n",
       "6  {\"id\":21,\"name\":\"Digital Art\",\"slug\":\"art/digi...   \n",
       "7  {\"id\":297,\"name\":\"Horror\",\"slug\":\"film & video...   \n",
       "8  {\"id\":33,\"name\":\"Webseries\",\"slug\":\"film & vid...   \n",
       "9  {\"id\":6,\"name\":\"Dance\",\"slug\":\"dance\",\"positio...   \n",
       "\n",
       "   converted_pledged_amount country  created_at  \\\n",
       "0                      5265      US  1474949898   \n",
       "1                      5225      US  1425755444   \n",
       "2                       362      US  1504654576   \n",
       "3                     15678      US  1440164389   \n",
       "4                        12      US  1481895960   \n",
       "5                      8160      US  1459174156   \n",
       "6                       100      US  1394114446   \n",
       "7                      3210      US  1496010979   \n",
       "8                     12060      US  1307552648   \n",
       "9                      3735      US  1340753933   \n",
       "\n",
       "                                             creator currency currency_symbol  \\\n",
       "0  {\"id\":917453276,\"name\":\"Ryan Turner\",\"slug\":\"r...      USD               $   \n",
       "1  {\"id\":1584296239,\"name\":\"Patricia Noworol Danc...      USD               $   \n",
       "2  {\"id\":1930804198,\"name\":\"Mandy Robertson\",\"slu...      USD               $   \n",
       "3  {\"id\":1435241906,\"name\":\"Ky Delaney\",\"is_regis...      USD               $   \n",
       "4  {\"id\":501028455,\"name\":\"Isaac Luna Silva\",\"is_...      USD               $   \n",
       "5  {\"id\":1807028083,\"name\":\"Kaizan Corp.\",\"is_reg...      USD               $   \n",
       "6  {\"id\":1935996164,\"name\":\"Ireland Wheeler\",\"slu...      USD               $   \n",
       "7  {\"id\":1241002293,\"name\":\"Del Harvey\",\"slug\":\"r...      USD               $   \n",
       "8  {\"id\":706550490,\"name\":\"Jason Dallas\",\"is_regi...      USD               $   \n",
       "9  {\"id\":943024993,\"name\":\"Megan Mazarick and Mas...      USD               $   \n",
       "\n",
       "   ...                                          slug  \\\n",
       "0  ...     a-date-in-2025-a-sci-fi-comedy-short-film   \n",
       "1  ...          replacement-place-new-york-live-arts   \n",
       "2  ...                            pumpkin-spice-love   \n",
       "3  ...  pirate-mama-setting-sail-with-her-little-boy   \n",
       "4  ...                    abstract-digital-portraits   \n",
       "5  ...                                        keshin   \n",
       "6  ...                       the-anglophilia-project   \n",
       "7  ...         dont-save-me-post-production-campaign   \n",
       "8  ...                                   last-rights   \n",
       "9  ...   mining-the-mine-of-the-mind-for-minderals-0   \n",
       "\n",
       "                                          source_url  spotlight  staff_pick  \\\n",
       "0  https://www.kickstarter.com/discover/categorie...       True       False   \n",
       "1  https://www.kickstarter.com/discover/categorie...       True        True   \n",
       "2  https://www.kickstarter.com/discover/categorie...       True       False   \n",
       "3  https://www.kickstarter.com/discover/categorie...       True       False   \n",
       "4  https://www.kickstarter.com/discover/categorie...      False       False   \n",
       "5  https://www.kickstarter.com/discover/categorie...       True       False   \n",
       "6  https://www.kickstarter.com/discover/categorie...      False       False   \n",
       "7  https://www.kickstarter.com/discover/categorie...       True       False   \n",
       "8  https://www.kickstarter.com/discover/categorie...       True       False   \n",
       "9  https://www.kickstarter.com/discover/categorie...       True        True   \n",
       "\n",
       "        state  state_changed_at  static_usd_rate  \\\n",
       "0  successful        1477674323                1   \n",
       "1  successful        1431748742                1   \n",
       "2  successful        1506112227                1   \n",
       "3  successful        1446670947                1   \n",
       "4      failed        1485365873                1   \n",
       "5  successful        1472307907                1   \n",
       "6      failed        1396126813                1   \n",
       "7  successful        1497744040                1   \n",
       "8  successful        1319811540                1   \n",
       "9  successful        1343707230                1   \n",
       "\n",
       "                                                urls usd_pledged  \\\n",
       "0  {\"web\":{\"project\":\"https://www.kickstarter.com...     5265.82   \n",
       "1  {\"web\":{\"project\":\"https://www.kickstarter.com...     5225.00   \n",
       "2  {\"web\":{\"project\":\"https://www.kickstarter.com...      362.00   \n",
       "3  {\"web\":{\"project\":\"https://www.kickstarter.com...    15678.00   \n",
       "4  {\"web\":{\"project\":\"https://www.kickstarter.com...       12.00   \n",
       "5  {\"web\":{\"project\":\"https://www.kickstarter.com...     8160.00   \n",
       "6  {\"web\":{\"project\":\"https://www.kickstarter.com...      100.00   \n",
       "7  {\"web\":{\"project\":\"https://www.kickstarter.com...     3210.00   \n",
       "8  {\"web\":{\"project\":\"https://www.kickstarter.com...    12060.00   \n",
       "9  {\"web\":{\"project\":\"https://www.kickstarter.com...     3735.00   \n",
       "\n",
       "        usd_type  \n",
       "0       domestic  \n",
       "1       domestic  \n",
       "2       domestic  \n",
       "3  international  \n",
       "4       domestic  \n",
       "5       domestic  \n",
       "6       domestic  \n",
       "7  international  \n",
       "8       domestic  \n",
       "9       domestic  \n",
       "\n",
       "[10 rows x 38 columns]"
      ]
     },
     "execution_count": 29,
     "metadata": {},
     "output_type": "execute_result"
    }
   ],
   "source": [
    "geography_df.head(10)"
   ]
  },
  {
   "cell_type": "code",
   "execution_count": 30,
   "metadata": {},
   "outputs": [],
   "source": [
    "import json\n",
    "def extract_category_columns(json_obj):\n",
    "    temp = json.loads(json_obj)\n",
    "    #print(temp)\n",
    "    return (temp['name'])\n",
    "\n",
    "geography_df['product_type']=geography_df['category'].apply(extract_category_columns)"
   ]
  },
  {
   "cell_type": "code",
   "execution_count": 34,
   "metadata": {},
   "outputs": [],
   "source": [
    "def extract_location(json_obj):\n",
    "    try:\n",
    "        temp = json.loads(json_obj)\n",
    "        try:\n",
    "            a = int(temp['localized_name'])\n",
    "            return None\n",
    "        except:\n",
    "            return temp['localized_name']\n",
    "    except:\n",
    "        return None\n",
    "    \n",
    "geography_df['local_name']=geography_df['location'].apply(extract_location)"
   ]
  },
  {
   "cell_type": "code",
   "execution_count": 35,
   "metadata": {},
   "outputs": [],
   "source": [
    "geography_df = geography_df[['backers_count','converted_pledged_amount','slug','currency_symbol','product_type','local_name','spotlight','goal']]"
   ]
  },
  {
   "cell_type": "code",
   "execution_count": 36,
   "metadata": {},
   "outputs": [],
   "source": [
    "geography_df.dropna(axis=0,how='any',inplace=True)"
   ]
  },
  {
   "cell_type": "code",
   "execution_count": 67,
   "metadata": {},
   "outputs": [],
   "source": [
    "goals = geography_df[['local_name','goal']].groupby('local_name').sum()"
   ]
  },
  {
   "cell_type": "code",
   "execution_count": 68,
   "metadata": {
    "scrolled": true
   },
   "outputs": [],
   "source": [
    "goals.reset_index(level=0,inplace=True)"
   ]
  },
  {
   "cell_type": "code",
   "execution_count": 83,
   "metadata": {},
   "outputs": [
    {
     "data": {
      "text/html": [
       "<div>\n",
       "<style scoped>\n",
       "    .dataframe tbody tr th:only-of-type {\n",
       "        vertical-align: middle;\n",
       "    }\n",
       "\n",
       "    .dataframe tbody tr th {\n",
       "        vertical-align: top;\n",
       "    }\n",
       "\n",
       "    .dataframe thead th {\n",
       "        text-align: right;\n",
       "    }\n",
       "</style>\n",
       "<table border=\"1\" class=\"dataframe\">\n",
       "  <thead>\n",
       "    <tr style=\"text-align: right;\">\n",
       "      <th></th>\n",
       "      <th>local_name</th>\n",
       "      <th>goal</th>\n",
       "    </tr>\n",
       "  </thead>\n",
       "  <tbody>\n",
       "    <tr>\n",
       "      <th>2120</th>\n",
       "      <td>Las Vegas</td>\n",
       "      <td>1.123810e+08</td>\n",
       "    </tr>\n",
       "    <tr>\n",
       "      <th>1836</th>\n",
       "      <td>Indianapolis</td>\n",
       "      <td>1.055549e+08</td>\n",
       "    </tr>\n",
       "    <tr>\n",
       "      <th>109</th>\n",
       "      <td>Antarctica</td>\n",
       "      <td>1.001929e+08</td>\n",
       "    </tr>\n",
       "    <tr>\n",
       "      <th>163</th>\n",
       "      <td>Atlanta</td>\n",
       "      <td>9.234024e+07</td>\n",
       "    </tr>\n",
       "    <tr>\n",
       "      <th>2766</th>\n",
       "      <td>New York</td>\n",
       "      <td>9.186977e+07</td>\n",
       "    </tr>\n",
       "    <tr>\n",
       "      <th>2256</th>\n",
       "      <td>Los Angeles</td>\n",
       "      <td>9.024562e+07</td>\n",
       "    </tr>\n",
       "    <tr>\n",
       "      <th>3528</th>\n",
       "      <td>San Diego</td>\n",
       "      <td>8.661894e+07</td>\n",
       "    </tr>\n",
       "    <tr>\n",
       "      <th>4473</th>\n",
       "      <td>Winnemucca</td>\n",
       "      <td>8.000000e+07</td>\n",
       "    </tr>\n",
       "    <tr>\n",
       "      <th>1756</th>\n",
       "      <td>Hollywood</td>\n",
       "      <td>5.870330e+07</td>\n",
       "    </tr>\n",
       "    <tr>\n",
       "      <th>3131</th>\n",
       "      <td>Philadelphia</td>\n",
       "      <td>5.721191e+07</td>\n",
       "    </tr>\n",
       "  </tbody>\n",
       "</table>\n",
       "</div>"
      ],
      "text/plain": [
       "        local_name          goal\n",
       "2120     Las Vegas  1.123810e+08\n",
       "1836  Indianapolis  1.055549e+08\n",
       "109     Antarctica  1.001929e+08\n",
       "163        Atlanta  9.234024e+07\n",
       "2766      New York  9.186977e+07\n",
       "2256   Los Angeles  9.024562e+07\n",
       "3528     San Diego  8.661894e+07\n",
       "4473    Winnemucca  8.000000e+07\n",
       "1756     Hollywood  5.870330e+07\n",
       "3131  Philadelphia  5.721191e+07"
      ]
     },
     "execution_count": 83,
     "metadata": {},
     "output_type": "execute_result"
    }
   ],
   "source": [
    "printtemp = goals.sort_values('goal',ascending = False)\n",
    "printtemp.head(10)"
   ]
  },
  {
   "cell_type": "code",
   "execution_count": 70,
   "metadata": {},
   "outputs": [
    {
     "data": {
      "text/plain": [
       "(array([2., 0., 0., 0., 1., 2., 2., 1., 1., 1.]),\n",
       " array([5.72119140e+07, 6.27288256e+07, 6.82457372e+07, 7.37626488e+07,\n",
       "        7.92795604e+07, 8.47964720e+07, 9.03133836e+07, 9.58302952e+07,\n",
       "        1.01347207e+08, 1.06864118e+08, 1.12381030e+08]),\n",
       " <a list of 10 Patch objects>)"
      ]
     },
     "execution_count": 70,
     "metadata": {},
     "output_type": "execute_result"
    },
    {
     "data": {
      "image/png": "[encoded data removed]",
      "text/plain": [
       "<Figure size 432x288 with 1 Axes>"
      ]
     },
     "metadata": {
      "needs_background": "light"
     },
     "output_type": "display_data"
    }
   ],
   "source": [
    "plt.hist(printtemp['goal'])"
   ]
  },
  {
   "cell_type": "code",
   "execution_count": 72,
   "metadata": {},
   "outputs": [],
   "source": [
    "goals1 = geography_df[['local_name','backers_count']].groupby('local_name').sum()\n",
    "goals1.reset_index(level=0,inplace=True)"
   ]
  },
  {
   "cell_type": "code",
   "execution_count": 82,
   "metadata": {},
   "outputs": [
    {
     "data": {
      "text/html": [
       "<div>\n",
       "<style scoped>\n",
       "    .dataframe tbody tr th:only-of-type {\n",
       "        vertical-align: middle;\n",
       "    }\n",
       "\n",
       "    .dataframe tbody tr th {\n",
       "        vertical-align: top;\n",
       "    }\n",
       "\n",
       "    .dataframe thead th {\n",
       "        text-align: right;\n",
       "    }\n",
       "</style>\n",
       "<table border=\"1\" class=\"dataframe\">\n",
       "  <thead>\n",
       "    <tr style=\"text-align: right;\">\n",
       "      <th></th>\n",
       "      <th>local_name</th>\n",
       "      <th>backers_count</th>\n",
       "    </tr>\n",
       "  </thead>\n",
       "  <tbody>\n",
       "    <tr>\n",
       "      <th>2256</th>\n",
       "      <td>Los Angeles</td>\n",
       "      <td>677738</td>\n",
       "    </tr>\n",
       "    <tr>\n",
       "      <th>2766</th>\n",
       "      <td>New York</td>\n",
       "      <td>414322</td>\n",
       "    </tr>\n",
       "    <tr>\n",
       "      <th>3532</th>\n",
       "      <td>San Francisco</td>\n",
       "      <td>377961</td>\n",
       "    </tr>\n",
       "    <tr>\n",
       "      <th>3629</th>\n",
       "      <td>Seattle</td>\n",
       "      <td>281930</td>\n",
       "    </tr>\n",
       "    <tr>\n",
       "      <th>177</th>\n",
       "      <td>Austin</td>\n",
       "      <td>212517</td>\n",
       "    </tr>\n",
       "    <tr>\n",
       "      <th>712</th>\n",
       "      <td>Chicago</td>\n",
       "      <td>184474</td>\n",
       "    </tr>\n",
       "    <tr>\n",
       "      <th>484</th>\n",
       "      <td>Brooklyn</td>\n",
       "      <td>179801</td>\n",
       "    </tr>\n",
       "    <tr>\n",
       "      <th>422</th>\n",
       "      <td>Boston</td>\n",
       "      <td>152028</td>\n",
       "    </tr>\n",
       "    <tr>\n",
       "      <th>3248</th>\n",
       "      <td>Portland</td>\n",
       "      <td>136803</td>\n",
       "    </tr>\n",
       "    <tr>\n",
       "      <th>3528</th>\n",
       "      <td>San Diego</td>\n",
       "      <td>121723</td>\n",
       "    </tr>\n",
       "  </tbody>\n",
       "</table>\n",
       "</div>"
      ],
      "text/plain": [
       "         local_name  backers_count\n",
       "2256    Los Angeles         677738\n",
       "2766       New York         414322\n",
       "3532  San Francisco         377961\n",
       "3629        Seattle         281930\n",
       "177          Austin         212517\n",
       "712         Chicago         184474\n",
       "484        Brooklyn         179801\n",
       "422          Boston         152028\n",
       "3248       Portland         136803\n",
       "3528      San Diego         121723"
      ]
     },
     "execution_count": 82,
     "metadata": {},
     "output_type": "execute_result"
    }
   ],
   "source": [
    "printtemp1 = goals1.sort_values('backers_count',ascending = False)\n",
    "printtemp1.head(10)"
   ]
  },
  {
   "cell_type": "code",
   "execution_count": 80,
   "metadata": {},
   "outputs": [
    {
     "data": {
      "text/html": [
       "<div>\n",
       "<style scoped>\n",
       "    .dataframe tbody tr th:only-of-type {\n",
       "        vertical-align: middle;\n",
       "    }\n",
       "\n",
       "    .dataframe tbody tr th {\n",
       "        vertical-align: top;\n",
       "    }\n",
       "\n",
       "    .dataframe thead th {\n",
       "        text-align: right;\n",
       "    }\n",
       "</style>\n",
       "<table border=\"1\" class=\"dataframe\">\n",
       "  <thead>\n",
       "    <tr style=\"text-align: right;\">\n",
       "      <th></th>\n",
       "      <th>local_name</th>\n",
       "      <th>goal</th>\n",
       "    </tr>\n",
       "  </thead>\n",
       "  <tbody>\n",
       "    <tr>\n",
       "      <th>2120</th>\n",
       "      <td>Las Vegas</td>\n",
       "      <td>1.123810e+08</td>\n",
       "    </tr>\n",
       "    <tr>\n",
       "      <th>1836</th>\n",
       "      <td>Indianapolis</td>\n",
       "      <td>1.055549e+08</td>\n",
       "    </tr>\n",
       "    <tr>\n",
       "      <th>109</th>\n",
       "      <td>Antarctica</td>\n",
       "      <td>1.001929e+08</td>\n",
       "    </tr>\n",
       "    <tr>\n",
       "      <th>163</th>\n",
       "      <td>Atlanta</td>\n",
       "      <td>9.234024e+07</td>\n",
       "    </tr>\n",
       "    <tr>\n",
       "      <th>2766</th>\n",
       "      <td>New York</td>\n",
       "      <td>9.186977e+07</td>\n",
       "    </tr>\n",
       "    <tr>\n",
       "      <th>2256</th>\n",
       "      <td>Los Angeles</td>\n",
       "      <td>9.024562e+07</td>\n",
       "    </tr>\n",
       "    <tr>\n",
       "      <th>3528</th>\n",
       "      <td>San Diego</td>\n",
       "      <td>8.661894e+07</td>\n",
       "    </tr>\n",
       "    <tr>\n",
       "      <th>4473</th>\n",
       "      <td>Winnemucca</td>\n",
       "      <td>8.000000e+07</td>\n",
       "    </tr>\n",
       "    <tr>\n",
       "      <th>1756</th>\n",
       "      <td>Hollywood</td>\n",
       "      <td>5.870330e+07</td>\n",
       "    </tr>\n",
       "    <tr>\n",
       "      <th>3131</th>\n",
       "      <td>Philadelphia</td>\n",
       "      <td>5.721191e+07</td>\n",
       "    </tr>\n",
       "  </tbody>\n",
       "</table>\n",
       "</div>"
      ],
      "text/plain": [
       "        local_name          goal\n",
       "2120     Las Vegas  1.123810e+08\n",
       "1836  Indianapolis  1.055549e+08\n",
       "109     Antarctica  1.001929e+08\n",
       "163        Atlanta  9.234024e+07\n",
       "2766      New York  9.186977e+07\n",
       "2256   Los Angeles  9.024562e+07\n",
       "3528     San Diego  8.661894e+07\n",
       "4473    Winnemucca  8.000000e+07\n",
       "1756     Hollywood  5.870330e+07\n",
       "3131  Philadelphia  5.721191e+07"
      ]
     },
     "execution_count": 80,
     "metadata": {},
     "output_type": "execute_result"
    }
   ],
   "source": [
    "printtemp"
   ]
  },
  {
   "cell_type": "code",
   "execution_count": null,
   "metadata": {},
   "outputs": [],
   "source": [
    "plt.hist(printtemp)\n",
    "plt.hist(printtemp1)"
   ]
  },
  {
   "cell_type": "code",
   "execution_count": 86,
   "metadata": {},
   "outputs": [],
   "source": [
    "printtemp.set_index('local_name',inplace=True)\n",
    "printtemp1.set_index('local_name',inplace=True)\n"
   ]
  },
  {
   "cell_type": "code",
   "execution_count": null,
   "metadata": {},
   "outputs": [],
   "source": [
    "printtemp.corr(printtemp1)"
   ]
  },
  {
   "cell_type": "code",
   "execution_count": null,
   "metadata": {},
   "outputs": [],
   "source": []
  },
  {
   "cell_type": "code",
   "execution_count": null,
   "metadata": {},
   "outputs": [],
   "source": []
  },
  {
   "cell_type": "code",
   "execution_count": null,
   "metadata": {},
   "outputs": [],
   "source": []
  },
  {
   "cell_type": "code",
   "execution_count": null,
   "metadata": {},
   "outputs": [],
   "source": []
  },
  {
   "cell_type": "code",
   "execution_count": null,
   "metadata": {},
   "outputs": [],
   "source": []
  },
  {
   "cell_type": "code",
   "execution_count": null,
   "metadata": {},
   "outputs": [],
   "source": []
  },
  {
   "cell_type": "markdown",
   "metadata": {},
   "source": [
    "## Geographical Distribution"
   ]
  },
  {
   "cell_type": "code",
   "execution_count": null,
   "metadata": {},
   "outputs": [],
   "source": [
    "import pandas as pd\n",
    "import json \n"
   ]
  },
  {
   "cell_type": "code",
   "execution_count": null,
   "metadata": {},
   "outputs": [],
   "source": [
    "sample_df = pd.read_csv(\"df_testing.csv\")\n",
    "sample_df.head(10)"
   ]
  },
  {
   "cell_type": "code",
   "execution_count": null,
   "metadata": {},
   "outputs": [],
   "source": [
    "len(sample_df.columns)\n",
    "\n",
    "#sample_df.drop(columns=(['Unnamed: 0']),inplace=True)\n"
   ]
  },
  {
   "cell_type": "code",
   "execution_count": null,
   "metadata": {},
   "outputs": [],
   "source": [
    "sample_df['category'].head(5)"
   ]
  },
  {
   "cell_type": "code",
   "execution_count": null,
   "metadata": {},
   "outputs": [],
   "source": [
    "def extract_category_columns(json_obj):\n",
    "    temp = json.loads(json_obj)\n",
    "    #print(temp)\n",
    "    return (temp['name'])\n",
    "\n",
    "sample_df['product_type']=sample_df['category'].apply(extract_category_columns)"
   ]
  },
  {
   "cell_type": "code",
   "execution_count": null,
   "metadata": {},
   "outputs": [],
   "source": [
    "def extract_location(json_obj):\n",
    "    try:\n",
    "        temp = json.loads(json_obj)\n",
    "        return temp['localized_name']\n",
    "    except:\n",
    "        return None\n",
    "    \n",
    "sample_df['local_name']=sample_df['location'].apply(extract_location)"
   ]
  },
  {
   "cell_type": "code",
   "execution_count": null,
   "metadata": {},
   "outputs": [],
   "source": [
    "sample_df.head(1000)"
   ]
  },
  {
   "cell_type": "code",
   "execution_count": null,
   "metadata": {},
   "outputs": [],
   "source": [
    "sample_df.drop(columns=(['Unnamed: 0','Unnamed: 0.1','blurb','category','created_at','creator','static_usd_rate','download_date','funding_start','funding_end']),inplace=True)"
   ]
  },
  {
   "cell_type": "code",
   "execution_count": null,
   "metadata": {},
   "outputs": [],
   "source": [
    "sample_df.head(100)"
   ]
  },
  {
   "cell_type": "markdown",
   "metadata": {},
   "source": [
    "<h2>Subsetting to Plot on a Map of US only</h2>\n",
    "\n",
    "<h2><font color = 'red'>Doesn't work</h2>"
   ]
  },
  {
   "cell_type": "code",
   "execution_count": null,
   "metadata": {},
   "outputs": [],
   "source": [
    "temp = sample_df.head(100)"
   ]
  },
  {
   "cell_type": "code",
   "execution_count": null,
   "metadata": {},
   "outputs": [],
   "source": [
    "def lat_long(x):\n",
    "    from geopy.geocoders import Nominatim\n",
    "    import time\n",
    "    geolocator = Nominatim()\n",
    "    try:\n",
    "        loc = geolocator.geocode(x)\n",
    "        time.sleep(5) #since the service times out with multiple recurring calls\n",
    "        return loc[-1]\n",
    "    except:\n",
    "        return None\n",
    "    \n",
    "temp['coordinates']=temp['local_name'].apply(lat_long)"
   ]
  },
  {
   "cell_type": "code",
   "execution_count": null,
   "metadata": {},
   "outputs": [],
   "source": []
  },
  {
   "cell_type": "code",
   "execution_count": null,
   "metadata": {},
   "outputs": [],
   "source": [
    "plot_data = temp[['local_name','coordinates']]\n",
    "pdata = plot_data.dropna(axis=0,how='any')"
   ]
  },
  {
   "cell_type": "code",
   "execution_count": null,
   "metadata": {},
   "outputs": [],
   "source": [
    "def createGeoJson(x):\n",
    "    geo_data = dict()\n",
    "    geo_data['type'] = 'FeatureCollection'\n",
    "    geo_data_list = list()\n",
    "    \n",
    "    for i in range(len(x)):\n",
    "        #print(i)\n",
    "        c_ord = list()\n",
    "        c_ord.append(x.iloc[i][1])\n",
    "        data_point = {'geometry':{'coordinates':c_ord,'type':'Point'},\n",
    "                     'properties':{'zone_id':x.iloc[i][0]}, 'type':'Feature'\n",
    "                     }\n",
    "        geo_data_list.append(data_point)\n",
    "        \n",
    "    geo_data['features'] = geo_data_list\n",
    "    return geo_data"
   ]
  },
  {
   "cell_type": "code",
   "execution_count": null,
   "metadata": {},
   "outputs": [],
   "source": [
    "zone_data = createGeoJson(pdata)"
   ]
  },
  {
   "cell_type": "code",
   "execution_count": null,
   "metadata": {},
   "outputs": [],
   "source": [
    "zone_data"
   ]
  },
  {
   "cell_type": "code",
   "execution_count": null,
   "metadata": {
    "scrolled": true
   },
   "outputs": [],
   "source": [
    "x = temp[['backers_count','local_name']].dropna(axis=0,how='any')\n",
    "x"
   ]
  },
  {
   "cell_type": "code",
   "execution_count": null,
   "metadata": {},
   "outputs": [],
   "source": [
    "y=x.groupby('local_name').sum()"
   ]
  },
  {
   "cell_type": "code",
   "execution_count": null,
   "metadata": {},
   "outputs": [],
   "source": [
    "y.reset_index(level=0,inplace=True)"
   ]
  },
  {
   "cell_type": "code",
   "execution_count": null,
   "metadata": {},
   "outputs": [],
   "source": [
    "#plotting the map\n",
    "\n",
    "import folium\n",
    "m=folium.Map(location=[40.7589,-73.9851], zoom_start=12)\n",
    "\n",
    "m.choropleth(geo_data=zone_data, data=y,key_on='feature.properties.zone_id',fill_color='RdYlGn')\n",
    "folium.LayerControl().add_to(m)"
   ]
  },
  {
   "cell_type": "code",
   "execution_count": null,
   "metadata": {
    "scrolled": true
   },
   "outputs": [],
   "source": [
    "y"
   ]
  },
  {
   "cell_type": "code",
   "execution_count": null,
   "metadata": {},
   "outputs": [],
   "source": [
    "zone_data"
   ]
  },
  {
   "cell_type": "code",
   "execution_count": null,
   "metadata": {},
   "outputs": [],
   "source": []
  },
  {
   "cell_type": "code",
   "execution_count": null,
   "metadata": {},
   "outputs": [],
   "source": [
    "y.isnull().values.any()"
   ]
  },
  {
   "cell_type": "code",
   "execution_count": null,
   "metadata": {},
   "outputs": [],
   "source": []
  }
 ],
 "metadata": {
  "kernelspec": {
   "display_name": "Python 3",
   "language": "python",
   "name": "python3"
  },
  "language_info": {
   "codemirror_mode": {
    "name": "ipython",
    "version": 3
   },
   "file_extension": ".py",
   "mimetype": "text/x-python",
   "name": "python",
   "nbconvert_exporter": "python",
   "pygments_lexer": "ipython3",
   "version": "3.7.0"
  }
 },
 "nbformat": 4,
 "nbformat_minor": 2
}
