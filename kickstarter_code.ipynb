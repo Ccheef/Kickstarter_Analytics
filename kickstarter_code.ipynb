{
 "cells": [
  {
   "cell_type": "markdown",
   "metadata": {},
   "source": [
    "### setup before running"
   ]
  },
  {
   "cell_type": "markdown",
   "metadata": {},
   "source": [
    "1. download all 2019 data from \"https://webrobots.io/kickstarter-datasets/\"\n",
    "2. make a folder called \"raw_data\"\n",
    "3. within \"raw_data\" make 3 sub-folders with the date of the pulls in the format MM-DD-YYYY\n",
    "3. extract downloaded data into each of the 3 sub-folders appropriately\n",
    "4. in line 4 below change the \"path_master\" variable to your \"raw_data\" link\n",
    "5. run (~7min)"
   ]
  },
  {
   "cell_type": "markdown",
   "metadata": {},
   "source": [
    "### merge all csv"
   ]
  },
  {
   "cell_type": "code",
   "execution_count": null,
   "metadata": {},
   "outputs": [],
   "source": [
    "import re\n",
    "import os\n",
    "import pandas as pd\n",
    "path_master = r'C:/Users/endwy/Documents/Columbia MSBA/Spring 2019/E4650 - Business Analytics/Project - Kickstarter Analysis/raw_data/'\n",
    "df_kickstarter = pd.DataFrame()\n",
    "\n",
    "def add_date(path):\n",
    "    return path[-10:-1]\n",
    "\n",
    "directories = list()\n",
    "for root, dirs, files in os.walk(path_master, topdown=False):\n",
    "    for name in dirs:\n",
    "        directories.append(os.path.join(root, name)+'/')\n",
    "\n",
    "file_names = list()\n",
    "for path, subdirs, files in os.walk(path_master):\n",
    "    for filename in files:\n",
    "        if filename not in file_names: file_names.append(filename)\n",
    "\n",
    "for i in directories: \n",
    "    for j in file_names:\n",
    "        try:\n",
    "            with open(i+j, encoding='utf8') as fp:\n",
    "                df_interim = pd.read_csv(fp, keep_default_na=False)\n",
    "            df_interim['download_date'] = add_date(i)\n",
    "            df_interim['download_date'] = pd.to_datetime(df_interim['download_date'], format='%m-%d-%Y')\n",
    "            global df_kickstarter\n",
    "            df_kickstarter = pd.concat([df_kickstarter,df_interim])\n",
    "            print('SUCCESS: '+i+j)\n",
    "        except:\n",
    "            print('FAIL: '+i+j)\n",
    "            pass\n",
    "df_kickstarter.to_csv(path_master+'df_kickstarter'+'.csv')"
   ]
  },
  {
   "cell_type": "markdown",
   "metadata": {},
   "source": [
    "### read in random sample % of full df_kickstarter to test with"
   ]
  },
  {
   "cell_type": "code",
   "execution_count": null,
   "metadata": {},
   "outputs": [],
   "source": [
    "import pandas as pd\n",
    "import os\n",
    "import random\n",
    "filename = r'C:/Users/endwy/Documents/Columbia MSBA/Spring 2019/E4650 - Business Analytics/Project - Kickstarter Analysis/raw_data/df_kickstarter.csv'\n",
    "\n",
    "p = 1  # x% of the lines\n",
    "# keep the header, then take only x% of lines\n",
    "# if random from [0,1] interval is greater than p the row will be skipped\n",
    "df = pd.read_csv(filename, header=0,  skiprows=lambda i: i>0 and random.random() > p)\n",
    "len(df)\n",
    "#df=df[:1000]\n",
    "#len(df)"
   ]
  },
  {
   "cell_type": "markdown",
   "metadata": {},
   "source": [
    "### categorize"
   ]
  },
  {
   "cell_type": "code",
   "execution_count": null,
   "metadata": {},
   "outputs": [],
   "source": [
    "import json\n",
    "cat_json = df['category'].apply(json.loads)\n",
    "cat_name=list(map(lambda d: d['name'], cat_json))\n",
    "df['Cat_Name']=cat_name\n",
    "#df.sort_values(['Cat_Name'])"
   ]
  },
  {
   "cell_type": "markdown",
   "metadata": {},
   "source": [
    "### funding date scraping "
   ]
  },
  {
   "cell_type": "code",
   "execution_count": null,
   "metadata": {},
   "outputs": [],
   "source": [
    "def get_url(x):\n",
    "    return x.split(\"\\\"\")[5]\n",
    "\n",
    "df[\"urls\"] = df[\"urls\"].apply(lambda x: get_url(x))"
   ]
  },
  {
   "cell_type": "code",
   "execution_count": null,
   "metadata": {},
   "outputs": [],
   "source": [
    "import requests\n",
    "from bs4 import BeautifulSoup\n",
    "from time import sleep\n",
    "import datetime\n",
    "\n",
    "processed = 0\n",
    "def add_fundpd(x,y):\n",
    "    user_agent_list = [\n",
    "           #Chrome\n",
    "            'Mozilla/5.0 (Windows NT 10.0; Win64; x64) AppleWebKit/537.36 (KHTML, like Gecko) Chrome/60.0.3112.113 Safari/537.36',\n",
    "            'Mozilla/5.0 (Windows NT 6.1; Win64; x64) AppleWebKit/537.36 (KHTML, like Gecko) Chrome/60.0.3112.90 Safari/537.36',\n",
    "            'Mozilla/5.0 (Windows NT 5.1; Win64; x64) AppleWebKit/537.36 (KHTML, like Gecko) Chrome/60.0.3112.90 Safari/537.36',\n",
    "            'Mozilla/5.0 (Windows NT 6.2; Win64; x64) AppleWebKit/537.36 (KHTML, like Gecko) Chrome/60.0.3112.90 Safari/537.36',\n",
    "            'Mozilla/5.0 (X11; Linux x86_64) AppleWebKit/537.36 (KHTML, like Gecko) Chrome/44.0.2403.157 Safari/537.36',\n",
    "            'Mozilla/5.0 (Windows NT 6.3; Win64; x64) AppleWebKit/537.36 (KHTML, like Gecko) Chrome/60.0.3112.113 Safari/537.36',\n",
    "            'Mozilla/5.0 (Windows NT 10.0; Win64; x64) AppleWebKit/537.36 (KHTML, like Gecko) Chrome/57.0.2987.133 Safari/537.36',\n",
    "            'Mozilla/5.0 (Windows NT 6.1; Win64; x64) AppleWebKit/537.36 (KHTML, like Gecko) Chrome/57.0.2987.133 Safari/537.36',\n",
    "            'Mozilla/5.0 (Windows NT 10.0; Win64; x64) AppleWebKit/537.36 (KHTML, like Gecko) Chrome/55.0.2883.87 Safari/537.36',\n",
    "            'Mozilla/5.0 (Windows NT 6.1; Win64; x64) AppleWebKit/537.36 (KHTML, like Gecko) Chrome/55.0.2883.87 Safari/537.36',\n",
    "            #Firefox\n",
    "            'Mozilla/4.0 (compatible; MSIE 9.0; Windows NT 6.1)',\n",
    "            'Mozilla/5.0 (Windows NT 6.1; WOW64; Trident/7.0; rv:11.0) like Gecko',\n",
    "            'Mozilla/5.0 (compatible; MSIE 9.0; Windows NT 6.1; WOW64; Trident/5.0)',\n",
    "            'Mozilla/5.0 (Windows NT 6.1; Trident/7.0; rv:11.0) like Gecko',\n",
    "            'Mozilla/5.0 (Windows NT 6.2; WOW64; Trident/7.0; rv:11.0) like Gecko',\n",
    "            'Mozilla/5.0 (Windows NT 10.0; WOW64; Trident/7.0; rv:11.0) like Gecko',\n",
    "            'Mozilla/5.0 (compatible; MSIE 9.0; Windows NT 6.0; Trident/5.0)',\n",
    "            'Mozilla/5.0 (Windows NT 6.3; WOW64; Trident/7.0; rv:11.0) like Gecko',\n",
    "            'Mozilla/5.0 (compatible; MSIE 9.0; Windows NT 6.1; Trident/5.0)',\n",
    "            'Mozilla/5.0 (Windows NT 6.1; Win64; x64; Trident/7.0; rv:11.0) like Gecko',\n",
    "            'Mozilla/5.0 (compatible; MSIE 10.0; Windows NT 6.1; WOW64; Trident/6.0)',\n",
    "            'Mozilla/5.0 (compatible; MSIE 10.0; Windows NT 6.1; Trident/6.0)',\n",
    "            'Mozilla/4.0 (compatible; MSIE 8.0; Windows NT 5.1; Trident/4.0; .NET CLR 2.0.50727; .NET CLR 3.0.4506.2152; .NET CLR 3.5.30729)'\n",
    "        ]\n",
    "    user_agent = random.choice(user_agent_list)\n",
    "    heads = {'User-Agent': user_agent}\n",
    "    #sleep(3)\n",
    "    global proessed\n",
    "    try:\n",
    "        page = requests.get(x,headers=heads)\n",
    "        results_page = BeautifulSoup(page.content,'lxml')\n",
    "        period = results_page.find('div',class_='NS_campaigns__funding_period').find_all(class_=\"js-adjust-time\")\n",
    "        global processed\n",
    "        processed+=1\n",
    "        print(\"success: \"+str(processed)+\" : \"+y+\" : \"+x[36:])\n",
    "        start = pd.to_datetime(period[0].get_text(), format='%b %d, %Y').strftime('%Y-%m-%d')\n",
    "        end = pd.to_datetime(period[1].get_text(), format='%b %d, %Y').strftime('%Y-%m-%d')\n",
    "        delta = int(results_page.find('p',class_='f5').get_text().split(\"\\n\")[-2][1:-1].split()[0])\n",
    "        if y==\"start\": result = start\n",
    "        if y==\"end\": result = end\n",
    "        if y==\"delta\": result = delta\n",
    "        return result\n",
    "    except:\n",
    "        processed+=1\n",
    "        print(\"FAIL: \"+str(processed)+\" : \"+y+\" : \"+x[36:])\n",
    "        result = \"error\"\n",
    "        return result\n",
    "df[\"funding_start\"] = df[\"urls\"].apply(lambda x: add_fundpd(x,'start'))\n",
    "df[\"funding_end\"] = df[\"urls\"].apply(lambda x: add_fundpd(x,'end'))\n",
    "df[\"funding_delta\"] = df[\"urls\"].apply(lambda x: add_fundpd(x,'delta'))"
   ]
  },
  {
   "cell_type": "code",
   "execution_count": null,
   "metadata": {},
   "outputs": [],
   "source": [
    "df.head(3)"
   ]
  },
  {
   "cell_type": "code",
   "execution_count": null,
   "metadata": {},
   "outputs": [],
   "source": [
    "import pandas as pd\n",
    "import os\n",
    "path_master = 'C:/Users/endwy/Documents/Columbia MSBA/Spring 2019/E4650 - Business Analytics/Project - Kickstarter Analysis/raw_data/'\n",
    "filename = 'C:/Users/endwy/Documents/Columbia MSBA/Spring 2019/E4650 - Business Analytics/Project - Kickstarter Analysis/raw_data/df_kickstarterFE.csv'\n",
    "df = pd.read_csv(filename, header=0)\n",
    "#df.drop(columns=('Unnamed: 0'),inplace=True)\n",
    "df.drop(columns=(['Unnamed: 0','converted_pledged_amount','usd_pledged']),inplace=True)\n",
    "len(df.columns)"
   ]
  },
  {
   "cell_type": "code",
   "execution_count": null,
   "metadata": {},
   "outputs": [],
   "source": [
    "path_master = 'C:/Users/endwy/Documents/Columbia MSBA/Spring 2019/E4650 - Business Analytics/Project - Kickstarter Analysis/raw_data/'\n",
    "df.to_csv(path_master+'df_kickstarterFE.csv')"
   ]
  },
  {
   "cell_type": "code",
   "execution_count": null,
   "metadata": {},
   "outputs": [],
   "source": [
    "import numpy as np \n",
    "import pylab \n",
    "import scipy.stats as stats\n",
    "import matplotlib\n",
    "import matplotlib.pyplot as plt\n",
    "matplotlib.style.use('seaborn')\n",
    "%matplotlib inline\n",
    "   \n",
    "stats.probplot(df[11], dist=\"norm\", plot=pylab)\n",
    "pylab.show()"
   ]
  },
  {
   "cell_type": "markdown",
   "metadata": {},
   "source": [
    "### NLP / WordClouds"
   ]
  },
  {
   "cell_type": "code",
   "execution_count": null,
   "metadata": {},
   "outputs": [],
   "source": [
    "\n",
    "def extract_creator_id(json_obj):\n",
    "    try:\n",
    "        temp=json.loads(json_obj)\n",
    "    except:\n",
    "        return None\n",
    "    return temp['id']\n",
    "    \n",
    "creator_id = kickstarter_df['creator'].apply(extract_creator_id)"
   ]
  },
  {
   "cell_type": "code",
   "execution_count": null,
   "metadata": {},
   "outputs": [],
   "source": [
    "def extract_reward_urls(json_obj):\n",
    "    temp = json.loads(json_obj)\n",
    "    return (temp['web']['rewards'])\n",
    "    \n",
    "reward_urls=kickstarter_df['urls'].apply(extract_reward_urls)"
   ]
  },
  {
   "cell_type": "code",
   "execution_count": null,
   "metadata": {},
   "outputs": [],
   "source": [
    "def pull_reward_details(url_list):\n",
    "    \n",
    "    reward_tier = list()\n",
    "    #Read the urls and extract details on rewarding tiers\n",
    "    for i in url_list:\n",
    "        #print(i)\n",
    "        response=requests.get(i)\n",
    "        if response.status_code!=200:\n",
    "            print(\"Error pulling data from {}\".format(i))\n",
    "            continue\n",
    "        reward_desc=bs(response.content,'lxml')\n",
    "        try:\n",
    "            a=reward_desc.find('ol').find_all('li')\n",
    "            reward_tier.append(len(a))\n",
    "        except:\n",
    "            continue\n",
    "    return (reward_tier)\n",
    "        \n",
    "reward_tier = pull_reward_details(reward_urls)"
   ]
  },
  {
   "cell_type": "code",
   "execution_count": null,
   "metadata": {},
   "outputs": [],
   "source": [
    "a = pd.DataFrame({\"Project_Id\":kickstarter_df['id'],\n",
    "                  \"Creator_Id\":creator_id,\n",
    "                  \"Reward_Tiers\":reward_tier,\n",
    "                  \"Rewards_Url\":reward_urls})\n",
    "a"
   ]
  },
  {
   "cell_type": "code",
   "execution_count": null,
   "metadata": {},
   "outputs": [],
   "source": [
    "reward_urls.head(10)"
   ]
  },
  {
   "cell_type": "code",
   "execution_count": null,
   "metadata": {},
   "outputs": [],
   "source": [
    "#Adding the Word Cloud Segment, this needs to be applied on overfunded campaigns to better\n",
    "#suggest what works best in this area"
   ]
  },
  {
   "cell_type": "code",
   "execution_count": null,
   "metadata": {},
   "outputs": [],
   "source": [
    "import pandas as pd\n",
    "import numpy as np \n",
    "import matplotlib.pyplot as plt\n",
    "from wordcloud import WordCloud,STOPWORDS\n",
    "from nltk.stem.porter import PorterStemmer\n",
    "from nltk import sent_tokenize,word_tokenize\n",
    "\n",
    "#def generate wordclouds(df):\n",
    "#df = pd.read_csv(\"df_testing.csv\")  \n",
    "\n",
    "MIN_LENGTH=5\n",
    "DELETE_WORDS=['first','world','creat','music','project',]\n",
    "\n",
    "def remove_words(text_string,DELETE_WORDS=DELETE_WORDS):\n",
    "    for word in DELETE_WORDS:\n",
    "        text_string = text_string.replace(word,' ')\n",
    "    return text_string\n",
    "\n",
    "\n",
    "def remove_short_words(text_string,min_length = MIN_LENGTH):\n",
    "    word_list = text_string.split()\n",
    "    for word in word_list:\n",
    "        if len(word) < min_length:\n",
    "            text_string = text_string.replace(' '+word+' ',' ',1)\n",
    "    return text_string"
   ]
  },
  {
   "cell_type": "code",
   "execution_count": null,
   "metadata": {},
   "outputs": [],
   "source": [
    "def aggregate_text(temp):\n",
    "    p_stemmer = PorterStemmer()\n",
    "    x=''\n",
    "    for i in range(len(temp)):\n",
    "        words = word_tokenize(temp['blurb'].iloc[i])\n",
    "        text = ([p_stemmer.stem(i).lower() for i in words])\n",
    "        text = ' '.join(text)\n",
    "        x=x+' '+text\n",
    "        \n",
    "    return x.lower()"
   ]
  },
  {
   "cell_type": "code",
   "execution_count": null,
   "metadata": {},
   "outputs": [],
   "source": [
    "category_list = list()\n",
    "category_description=list()\n",
    "\n",
    "COL_NUM = 2\n",
    "ROW_NUM = 3\n",
    "fig, axes = plt.subplots(ROW_NUM, COL_NUM, figsize=(15,15))\n",
    "\n",
    "\n",
    "def category_state_geography(df):\n",
    "    count = 0\n",
    "    df = df.dropna(how='any',axis=0)\n",
    "    for i in df['state'].unique():\n",
    "        temp = df[df['state']==i]\n",
    "        temp_blurbs = aggregate_text(temp)\n",
    "        temp_blurbs = remove_words(temp_blurbs)\n",
    "        temp_blurbs = remove_short_words(temp_blurbs)\n",
    "        category_list.append(i)\n",
    "        category_description.append(temp_blurbs)\n",
    "        ax = axes[count//2, count%2] \n",
    "        ax.set_title(i)\n",
    "        wordcloud = WordCloud(stopwords=STOPWORDS,background_color='white',width=1200,height=1000,max_words=20).generate(temp_blurbs)\n",
    "        ax.imshow(wordcloud)\n",
    "        ax.axis('off')\n",
    "        count+=1\n",
    "    \n",
    "category_state_geography(df[['blurb','state']])\n",
    "plt.show()"
   ]
  },
  {
   "cell_type": "code",
   "execution_count": null,
   "metadata": {},
   "outputs": [],
   "source": [
    "#df['state'].unique()\n",
    "#df_new=df[df['state']=='successful']\n"
   ]
  },
  {
   "cell_type": "markdown",
   "metadata": {},
   "source": [
    "<h2> Dominant Product Types per Region </h2>"
   ]
  },
  {
   "cell_type": "code",
   "execution_count": 53,
   "metadata": {},
   "outputs": [],
   "source": [
    "import pandas as pd\n",
    "import matplotlib.pyplot as plt\n",
    "geography_df = pd.read_csv('rewardtiering.csv')"
   ]
  },
  {
   "cell_type": "code",
   "execution_count": 54,
   "metadata": {},
   "outputs": [],
   "source": [
    "import json\n",
    "#import matplotlib\n",
    "def extract_category_columns(json_obj):\n",
    "    temp = json.loads(json_obj)\n",
    "    #print(temp)\n",
    "    return (temp['name'])\n",
    "\n",
    "geography_df['product_type']=geography_df['category'].apply(extract_category_columns)"
   ]
  },
  {
   "cell_type": "code",
   "execution_count": 55,
   "metadata": {},
   "outputs": [],
   "source": [
    "def extract_location(json_obj):\n",
    "    try:\n",
    "        temp = json.loads(json_obj)\n",
    "        try:\n",
    "            a = int(temp['localized_name'])\n",
    "            return None\n",
    "        except:\n",
    "            return temp['localized_name']\n",
    "    except:\n",
    "        return None\n",
    "    \n",
    "geography_df['local_name']=geography_df['location'].apply(extract_location)"
   ]
  },
  {
   "cell_type": "code",
   "execution_count": 56,
   "metadata": {},
   "outputs": [],
   "source": [
    "geography_df = geography_df[['backers_count','usd_pledged','converted_pledged_amount','slug','currency_symbol','product_type','local_name','spotlight','goal']]"
   ]
  },
  {
   "cell_type": "code",
   "execution_count": 57,
   "metadata": {},
   "outputs": [],
   "source": [
    "geography_df.dropna(axis=0,how='any',inplace=True)"
   ]
  },
  {
   "cell_type": "code",
   "execution_count": 58,
   "metadata": {},
   "outputs": [],
   "source": [
    "goals = geography_df[['local_name','usd_pledged']].groupby('local_name').sum()"
   ]
  },
  {
   "cell_type": "code",
   "execution_count": 59,
   "metadata": {
    "scrolled": true
   },
   "outputs": [],
   "source": [
    "goals.reset_index(level=0,inplace=True)"
   ]
  },
  {
   "cell_type": "code",
   "execution_count": 61,
   "metadata": {},
   "outputs": [
    {
     "data": {
      "text/html": [
       "<div>\n",
       "<style scoped>\n",
       "    .dataframe tbody tr th:only-of-type {\n",
       "        vertical-align: middle;\n",
       "    }\n",
       "\n",
       "    .dataframe tbody tr th {\n",
       "        vertical-align: top;\n",
       "    }\n",
       "\n",
       "    .dataframe thead th {\n",
       "        text-align: right;\n",
       "    }\n",
       "</style>\n",
       "<table border=\"1\" class=\"dataframe\">\n",
       "  <thead>\n",
       "    <tr style=\"text-align: right;\">\n",
       "      <th></th>\n",
       "      <th>local_name</th>\n",
       "      <th>usd_pledged</th>\n",
       "    </tr>\n",
       "  </thead>\n",
       "  <tbody>\n",
       "    <tr>\n",
       "      <th>2256</th>\n",
       "      <td>Los Angeles</td>\n",
       "      <td>55394322.26</td>\n",
       "    </tr>\n",
       "    <tr>\n",
       "      <th>3532</th>\n",
       "      <td>San Francisco</td>\n",
       "      <td>45301639.98</td>\n",
       "    </tr>\n",
       "    <tr>\n",
       "      <th>2766</th>\n",
       "      <td>New York</td>\n",
       "      <td>36612615.44</td>\n",
       "    </tr>\n",
       "    <tr>\n",
       "      <th>3629</th>\n",
       "      <td>Seattle</td>\n",
       "      <td>33785894.58</td>\n",
       "    </tr>\n",
       "    <tr>\n",
       "      <th>177</th>\n",
       "      <td>Austin</td>\n",
       "      <td>19593714.10</td>\n",
       "    </tr>\n",
       "    <tr>\n",
       "      <th>484</th>\n",
       "      <td>Brooklyn</td>\n",
       "      <td>14188779.43</td>\n",
       "    </tr>\n",
       "    <tr>\n",
       "      <th>712</th>\n",
       "      <td>Chicago</td>\n",
       "      <td>13078088.71</td>\n",
       "    </tr>\n",
       "    <tr>\n",
       "      <th>163</th>\n",
       "      <td>Atlanta</td>\n",
       "      <td>12093802.76</td>\n",
       "    </tr>\n",
       "    <tr>\n",
       "      <th>3528</th>\n",
       "      <td>San Diego</td>\n",
       "      <td>11290655.08</td>\n",
       "    </tr>\n",
       "    <tr>\n",
       "      <th>422</th>\n",
       "      <td>Boston</td>\n",
       "      <td>10754150.04</td>\n",
       "    </tr>\n",
       "  </tbody>\n",
       "</table>\n",
       "</div>"
      ],
      "text/plain": [
       "         local_name  usd_pledged\n",
       "2256    Los Angeles  55394322.26\n",
       "3532  San Francisco  45301639.98\n",
       "2766       New York  36612615.44\n",
       "3629        Seattle  33785894.58\n",
       "177          Austin  19593714.10\n",
       "484        Brooklyn  14188779.43\n",
       "712         Chicago  13078088.71\n",
       "163         Atlanta  12093802.76\n",
       "3528      San Diego  11290655.08\n",
       "422          Boston  10754150.04"
      ]
     },
     "execution_count": 61,
     "metadata": {},
     "output_type": "execute_result"
    }
   ],
   "source": [
    "printtemp = goals.sort_values('usd_pledged',ascending = False)\n",
    "printtemp.head(10)"
   ]
  },
  {
   "cell_type": "code",
   "execution_count": 62,
   "metadata": {},
   "outputs": [],
   "source": [
    "goals1 = geography_df[['local_name','backers_count']].groupby('local_name').sum()\n",
    "goals1.reset_index(level=0,inplace=True)"
   ]
  },
  {
   "cell_type": "code",
   "execution_count": 63,
   "metadata": {},
   "outputs": [
    {
     "data": {
      "text/html": [
       "<div>\n",
       "<style scoped>\n",
       "    .dataframe tbody tr th:only-of-type {\n",
       "        vertical-align: middle;\n",
       "    }\n",
       "\n",
       "    .dataframe tbody tr th {\n",
       "        vertical-align: top;\n",
       "    }\n",
       "\n",
       "    .dataframe thead th {\n",
       "        text-align: right;\n",
       "    }\n",
       "</style>\n",
       "<table border=\"1\" class=\"dataframe\">\n",
       "  <thead>\n",
       "    <tr style=\"text-align: right;\">\n",
       "      <th></th>\n",
       "      <th>local_name</th>\n",
       "      <th>backers_count</th>\n",
       "    </tr>\n",
       "  </thead>\n",
       "  <tbody>\n",
       "    <tr>\n",
       "      <th>2256</th>\n",
       "      <td>Los Angeles</td>\n",
       "      <td>677738</td>\n",
       "    </tr>\n",
       "    <tr>\n",
       "      <th>2766</th>\n",
       "      <td>New York</td>\n",
       "      <td>414322</td>\n",
       "    </tr>\n",
       "    <tr>\n",
       "      <th>3532</th>\n",
       "      <td>San Francisco</td>\n",
       "      <td>377961</td>\n",
       "    </tr>\n",
       "    <tr>\n",
       "      <th>3629</th>\n",
       "      <td>Seattle</td>\n",
       "      <td>281930</td>\n",
       "    </tr>\n",
       "    <tr>\n",
       "      <th>177</th>\n",
       "      <td>Austin</td>\n",
       "      <td>212517</td>\n",
       "    </tr>\n",
       "    <tr>\n",
       "      <th>712</th>\n",
       "      <td>Chicago</td>\n",
       "      <td>184474</td>\n",
       "    </tr>\n",
       "    <tr>\n",
       "      <th>484</th>\n",
       "      <td>Brooklyn</td>\n",
       "      <td>179801</td>\n",
       "    </tr>\n",
       "    <tr>\n",
       "      <th>422</th>\n",
       "      <td>Boston</td>\n",
       "      <td>152028</td>\n",
       "    </tr>\n",
       "    <tr>\n",
       "      <th>3248</th>\n",
       "      <td>Portland</td>\n",
       "      <td>136803</td>\n",
       "    </tr>\n",
       "    <tr>\n",
       "      <th>3528</th>\n",
       "      <td>San Diego</td>\n",
       "      <td>121723</td>\n",
       "    </tr>\n",
       "  </tbody>\n",
       "</table>\n",
       "</div>"
      ],
      "text/plain": [
       "         local_name  backers_count\n",
       "2256    Los Angeles         677738\n",
       "2766       New York         414322\n",
       "3532  San Francisco         377961\n",
       "3629        Seattle         281930\n",
       "177          Austin         212517\n",
       "712         Chicago         184474\n",
       "484        Brooklyn         179801\n",
       "422          Boston         152028\n",
       "3248       Portland         136803\n",
       "3528      San Diego         121723"
      ]
     },
     "execution_count": 63,
     "metadata": {},
     "output_type": "execute_result"
    }
   ],
   "source": [
    "printtemp1 = goals1.sort_values('backers_count',ascending = False)\n",
    "printtemp1.head(10)"
   ]
  },
  {
   "cell_type": "code",
   "execution_count": 64,
   "metadata": {},
   "outputs": [],
   "source": [
    "printtemp.set_index('local_name',inplace=True)\n",
    "printtemp1.set_index('local_name',inplace=True)"
   ]
  },
  {
   "cell_type": "code",
   "execution_count": 65,
   "metadata": {},
   "outputs": [
    {
     "name": "stdout",
     "output_type": "stream",
     "text": [
      "               usd_pledged\n",
      "local_name                \n",
      "Los Angeles    55394322.26\n",
      "San Francisco  45301639.98\n",
      "New York       36612615.44\n",
      "Seattle        33785894.58\n",
      "Austin         19593714.10\n",
      "Brooklyn       14188779.43\n",
      "Chicago        13078088.71\n",
      "Atlanta        12093802.76\n",
      "San Diego      11290655.08\n",
      "Boston         10754150.04\n",
      "               backers_count\n",
      "local_name                  \n",
      "Los Angeles           677738\n",
      "New York              414322\n",
      "San Francisco         377961\n",
      "Seattle               281930\n",
      "Austin                212517\n",
      "Chicago               184474\n",
      "Brooklyn              179801\n",
      "Boston                152028\n",
      "Portland              136803\n",
      "San Diego             121723\n"
     ]
    }
   ],
   "source": [
    "print(printtemp.head(10))\n",
    "print(printtemp1.head(10))"
   ]
  },
  {
   "cell_type": "code",
   "execution_count": 66,
   "metadata": {},
   "outputs": [
    {
     "data": {
      "text/plain": [
       "Text(0.5,0,'Money Pledged')"
      ]
     },
     "execution_count": 66,
     "metadata": {},
     "output_type": "execute_result"
    },
    {
     "data": {
      "image/png": "[encoded data removed]",
      "text/plain": [
       "<Figure size 432x288 with 1 Axes>"
      ]
     },
     "metadata": {
      "needs_background": "light"
     },
     "output_type": "display_data"
    }
   ],
   "source": [
    "plt.plot(printtemp['usd_pledged'],printtemp1['backers_count'])\n",
    "plt.title(\"Backers vs Goal Amount\")\n",
    "plt.ylabel(\"Number of Backers\")\n",
    "plt.xlabel(\"Money Pledged\")"
   ]
  },
  {
   "cell_type": "code",
   "execution_count": null,
   "metadata": {},
   "outputs": [],
   "source": []
  },
  {
   "cell_type": "markdown",
   "metadata": {},
   "source": [
    "## Geographical Distribution"
   ]
  },
  {
   "cell_type": "code",
   "execution_count": null,
   "metadata": {},
   "outputs": [],
   "source": [
    "import pandas as pd\n",
    "import json \n"
   ]
  },
  {
   "cell_type": "code",
   "execution_count": null,
   "metadata": {},
   "outputs": [],
   "source": [
    "sample_df = pd.read_csv(\"df_testing.csv\")\n",
    "sample_df.head(10)"
   ]
  },
  {
   "cell_type": "code",
   "execution_count": null,
   "metadata": {},
   "outputs": [],
   "source": [
    "len(sample_df.columns)\n",
    "\n",
    "#sample_df.drop(columns=(['Unnamed: 0']),inplace=True)\n"
   ]
  },
  {
   "cell_type": "code",
   "execution_count": null,
   "metadata": {},
   "outputs": [],
   "source": [
    "sample_df['category'].head(5)"
   ]
  },
  {
   "cell_type": "code",
   "execution_count": null,
   "metadata": {},
   "outputs": [],
   "source": [
    "def extract_category_columns(json_obj):\n",
    "    temp = json.loads(json_obj)\n",
    "    #print(temp)\n",
    "    return (temp['name'])\n",
    "\n",
    "sample_df['product_type']=sample_df['category'].apply(extract_category_columns)"
   ]
  },
  {
   "cell_type": "code",
   "execution_count": null,
   "metadata": {},
   "outputs": [],
   "source": [
    "def extract_location(json_obj):\n",
    "    try:\n",
    "        temp = json.loads(json_obj)\n",
    "        return temp['localized_name']\n",
    "    except:\n",
    "        return None\n",
    "    \n",
    "sample_df['local_name']=sample_df['location'].apply(extract_location)"
   ]
  },
  {
   "cell_type": "code",
   "execution_count": null,
   "metadata": {},
   "outputs": [],
   "source": [
    "sample_df.head(1000)"
   ]
  },
  {
   "cell_type": "code",
   "execution_count": null,
   "metadata": {},
   "outputs": [],
   "source": [
    "sample_df.drop(columns=(['Unnamed: 0','Unnamed: 0.1','blurb','category','created_at','creator','static_usd_rate','download_date','funding_start','funding_end']),inplace=True)"
   ]
  },
  {
   "cell_type": "code",
   "execution_count": null,
   "metadata": {},
   "outputs": [],
   "source": [
    "sample_df.head(100)"
   ]
  },
  {
   "cell_type": "markdown",
   "metadata": {},
   "source": [
    "<h2>Subsetting to Plot on a Map of US only</h2>\n",
    "\n",
    "<h2><font color = 'red'>Doesn't work</h2>"
   ]
  },
  {
   "cell_type": "code",
   "execution_count": null,
   "metadata": {},
   "outputs": [],
   "source": [
    "temp = sample_df.head(100)"
   ]
  },
  {
   "cell_type": "code",
   "execution_count": null,
   "metadata": {},
   "outputs": [],
   "source": [
    "def lat_long(x):\n",
    "    from geopy.geocoders import Nominatim\n",
    "    import time\n",
    "    geolocator = Nominatim()\n",
    "    try:\n",
    "        loc = geolocator.geocode(x)\n",
    "        time.sleep(5) #since the service times out with multiple recurring calls\n",
    "        return loc[-1]\n",
    "    except:\n",
    "        return None\n",
    "    \n",
    "temp['coordinates']=temp['local_name'].apply(lat_long)"
   ]
  },
  {
   "cell_type": "code",
   "execution_count": null,
   "metadata": {},
   "outputs": [],
   "source": []
  },
  {
   "cell_type": "code",
   "execution_count": null,
   "metadata": {},
   "outputs": [],
   "source": [
    "plot_data = temp[['local_name','coordinates']]\n",
    "pdata = plot_data.dropna(axis=0,how='any')"
   ]
  },
  {
   "cell_type": "code",
   "execution_count": null,
   "metadata": {},
   "outputs": [],
   "source": [
    "def createGeoJson(x):\n",
    "    geo_data = dict()\n",
    "    geo_data['type'] = 'FeatureCollection'\n",
    "    geo_data_list = list()\n",
    "    \n",
    "    for i in range(len(x)):\n",
    "        #print(i)\n",
    "        c_ord = list()\n",
    "        c_ord.append(x.iloc[i][1])\n",
    "        data_point = {'geometry':{'coordinates':c_ord,'type':'Point'},\n",
    "                     'properties':{'zone_id':x.iloc[i][0]}, 'type':'Feature'\n",
    "                     }\n",
    "        geo_data_list.append(data_point)\n",
    "        \n",
    "    geo_data['features'] = geo_data_list\n",
    "    return geo_data"
   ]
  },
  {
   "cell_type": "code",
   "execution_count": null,
   "metadata": {},
   "outputs": [],
   "source": [
    "zone_data = createGeoJson(pdata)"
   ]
  },
  {
   "cell_type": "code",
   "execution_count": null,
   "metadata": {},
   "outputs": [],
   "source": [
    "zone_data"
   ]
  },
  {
   "cell_type": "code",
   "execution_count": null,
   "metadata": {
    "scrolled": true
   },
   "outputs": [],
   "source": [
    "x = temp[['backers_count','local_name']].dropna(axis=0,how='any')\n",
    "x"
   ]
  },
  {
   "cell_type": "code",
   "execution_count": null,
   "metadata": {},
   "outputs": [],
   "source": [
    "y=x.groupby('local_name').sum()"
   ]
  },
  {
   "cell_type": "code",
   "execution_count": null,
   "metadata": {},
   "outputs": [],
   "source": [
    "y.reset_index(level=0,inplace=True)"
   ]
  },
  {
   "cell_type": "code",
   "execution_count": null,
   "metadata": {},
   "outputs": [],
   "source": [
    "#plotting the map\n",
    "\n",
    "import folium\n",
    "m=folium.Map(location=[40.7589,-73.9851], zoom_start=12)\n",
    "\n",
    "m.choropleth(geo_data=zone_data, data=y,key_on='feature.properties.zone_id',fill_color='RdYlGn')\n",
    "folium.LayerControl().add_to(m)"
   ]
  },
  {
   "cell_type": "code",
   "execution_count": null,
   "metadata": {
    "scrolled": true
   },
   "outputs": [],
   "source": [
    "y"
   ]
  },
  {
   "cell_type": "code",
   "execution_count": null,
   "metadata": {},
   "outputs": [],
   "source": [
    "zone_data"
   ]
  },
  {
   "cell_type": "code",
   "execution_count": null,
   "metadata": {},
   "outputs": [],
   "source": []
  },
  {
   "cell_type": "code",
   "execution_count": null,
   "metadata": {},
   "outputs": [],
   "source": []
  }
 ],
 "metadata": {
  "kernelspec": {
   "display_name": "Python 3",
   "language": "python",
   "name": "python3"
  },
  "language_info": {
   "codemirror_mode": {
    "name": "ipython",
    "version": 3
   },
   "file_extension": ".py",
   "mimetype": "text/x-python",
   "name": "python",
   "nbconvert_exporter": "python",
   "pygments_lexer": "ipython3",
   "version": "3.7.0"
  }
 },
 "nbformat": 4,
 "nbformat_minor": 2
}
